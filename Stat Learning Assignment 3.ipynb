{
 "cells": [
  {
   "cell_type": "markdown",
   "id": "1de1113f",
   "metadata": {},
   "source": [
    "# Statistical Learning Assignment 3"
   ]
  },
  {
   "cell_type": "markdown",
   "id": "c4636f57",
   "metadata": {},
   "source": [
    "Chapter 5 Exercise 3: We now review k-fold cross-validation.\n",
    "\n",
    "Exercise 3A:Explain how k-fold cross-validation is implemented\n",
    "We divided the data into k separate  roughly equivalent folds.  A classifier is constructed on k−1 of the folds and evaluated on the existing folds. We repeat this process several times with each fold operating on only test data once. We take the average of test performance to get the k-fold cross validation metrics."
   ]
  },
  {
   "cell_type": "raw",
   "id": "86faa47a",
   "metadata": {},
   "source": [
    "Exercise 3B: What are the advantages and disadvantages of k-fold crossvalidation relative to:\n",
    "Exercise 3Bi: The validation set approach?\n",
    "Advantages of validation set approach:\n",
    "When compared to a model fit on the entire dataset, the validation set approach may overrate the test inaccuracy because most models keep improving with more data and a significant portion is neglected completely from training.\n",
    "The variability of k-fold CV is much significantly smaller than that of the validation set approach, especially for smaller datasets. \n",
    "All of the data has been used to test and evaluate the performance of the model.\n",
    "\n",
    "Disadvantages of validation set approach:\n",
    "The validation set approach is conceptually simpler, which can be useful in industry when explaining how models were tested to stakeholders.\n",
    "The validation set method has a machine learning advantage except that a model is trained and tested just once.\n"
   ]
  },
  {
   "cell_type": "markdown",
   "id": "4cdfa40d",
   "metadata": {},
   "source": [
    "Exercise 3Bii: LOOCV?\n",
    "Advantages of LOOCV:\n",
    "For common values of k, k-fold CV scales better and is far less computational complexity challenging.\n",
    "Due to the bias-variance tradeoff, there is some evidence that k-fold CV can provide a more accurate estimate of the test error rate than LOOCV.\n",
    "\n",
    "Disadvantages of LOOCV:\n",
    "LOOCV may require less computational resources than k-fold CV in certain situations.\n",
    "k-fold CV, such as the validation set approach, has an attribute of unpredictability in that the out-of-sample error will vary depending on how well the data was divided into k folds. This unpredictability does not occur in LOOCV."
   ]
  },
  {
   "cell_type": "code",
   "execution_count": 82,
   "id": "aeab0e90",
   "metadata": {},
   "outputs": [
    {
     "data": {
      "text/html": [
       "<style>\n",
       ".list-inline {list-style: none; margin:0; padding: 0}\n",
       ".list-inline>li {display: inline-block}\n",
       ".list-inline>li:not(:last-child)::after {content: \"\\00b7\"; padding: 0 .5ex}\n",
       "</style>\n",
       "<ol class=list-inline><li>-2.03170924195364</li><li>0.158309456303644</li><li>-3.14310061671917</li><li>-3.33653210079692</li><li>-0.542227615476905</li><li>-0.399517853419823</li><li>0.728962366143029</li><li>0.558252194216153</li><li>0.296918379655992</li><li>1.19026355934314</li><li>-3.69491988806335</li><li>-0.375756991900613</li><li>0.0391619401760244</li><li>-12.6751874210159</li><li>-1.61338896664745</li><li>-0.441779596895482</li><li>-0.336707380885879</li><li>-1.11693067749283</li><li>-0.0333989761907501</li><li>-0.288866719739903</li><li>-1.27601890956194</li><li>0.901700740058922</li><li>-0.15113429867018</li><li>-10.0839485655757</li><li>-0.248732908825326</li><li>0.650236696720176</li><li>-0.277904390650796</li><li>-5.83461170485712</li><li>-1.61706548426503</li><li>-0.25567900753094</li><li>-2.27318025552277</li><li>-0.712812847387335</li><li>0.618589247373865</li><li>-1.57798908715395</li><li>-4.86308774214484</li><li>-2.29588536197385</li><li>-1.00619521574078</li><li>-0.594629459215029</li><li>-1.97218104671368</li><li>-0.458595475457314</li><li>-2.13301904938203</li><li>0.794837349958867</li><li>-1.9395249541184</li><li>-0.526615036313904</li><li>-2.75344461314115</li><li>-2.45941295240528</li><li>2.18590849353409</li><li>-0.395357167919768</li><li>-1.42389008535356</li><li>-2.31219945919899</li><li>0.531316397674047</li><li>-1.3797388380365</li><li>-0.209673970874409</li><li>-4.60964724911288</li><li>-4.16155046771433</li><li>-6.93875991411386</li><li>0.363104101690919</li><li>-3.84583555685968</li><li>-1.46386812772832</li><li>1.69775652648394</li><li>-8.70881759726673</li><li>-0.2809666592752</li><li>0.796741634931789</li><li>0.912856568362847</li><li>-2.46742638319825</li><li>2.32360969934298</li><li>-8.57573696304848</li><li>-4.25464189315114</li><li>-0.0381194350885023</li><li>-7.06033293079315</li><li>2.33126930381027</li><li>-1.61219193258535</li><li>0.321751801220392</li><li>-2.75632733788758</li><li>-4.73082764699575</li><li>0.0868383908115858</li><li>-0.0486676373112858</li><li>2.07634791667945</li><li>1.09068049796219</li><li>-0.0766824397903272</li><li>-2.44676040974735</li><li>0.812170438955953</li><li>-1.37776614275589</li><li>-7.63332842026557</li><li>0.409424782679888</li><li>-0.0475161328849369</li><li>0.267324621212103</li><li>-1.25532164203408</li><li>-0.334020783395991</li><li>-0.801694234669182</li><li>-1.30827996048255</li><li>-1.30800968799169</li><li>-2.26441401844803</li><li>0.549988507562447</li><li>-4.65733015666369</li><li>-1.11331216232386</li><li>-3.09480983500529</li><li>-2.24637934986191</li><li>-3.81199001571722</li><li>-1.30269301271052</li></ol>\n"
      ],
      "text/latex": [
       "\\begin{enumerate*}\n",
       "\\item -2.03170924195364\n",
       "\\item 0.158309456303644\n",
       "\\item -3.14310061671917\n",
       "\\item -3.33653210079692\n",
       "\\item -0.542227615476905\n",
       "\\item -0.399517853419823\n",
       "\\item 0.728962366143029\n",
       "\\item 0.558252194216153\n",
       "\\item 0.296918379655992\n",
       "\\item 1.19026355934314\n",
       "\\item -3.69491988806335\n",
       "\\item -0.375756991900613\n",
       "\\item 0.0391619401760244\n",
       "\\item -12.6751874210159\n",
       "\\item -1.61338896664745\n",
       "\\item -0.441779596895482\n",
       "\\item -0.336707380885879\n",
       "\\item -1.11693067749283\n",
       "\\item -0.0333989761907501\n",
       "\\item -0.288866719739903\n",
       "\\item -1.27601890956194\n",
       "\\item 0.901700740058922\n",
       "\\item -0.15113429867018\n",
       "\\item -10.0839485655757\n",
       "\\item -0.248732908825326\n",
       "\\item 0.650236696720176\n",
       "\\item -0.277904390650796\n",
       "\\item -5.83461170485712\n",
       "\\item -1.61706548426503\n",
       "\\item -0.25567900753094\n",
       "\\item -2.27318025552277\n",
       "\\item -0.712812847387335\n",
       "\\item 0.618589247373865\n",
       "\\item -1.57798908715395\n",
       "\\item -4.86308774214484\n",
       "\\item -2.29588536197385\n",
       "\\item -1.00619521574078\n",
       "\\item -0.594629459215029\n",
       "\\item -1.97218104671368\n",
       "\\item -0.458595475457314\n",
       "\\item -2.13301904938203\n",
       "\\item 0.794837349958867\n",
       "\\item -1.9395249541184\n",
       "\\item -0.526615036313904\n",
       "\\item -2.75344461314115\n",
       "\\item -2.45941295240528\n",
       "\\item 2.18590849353409\n",
       "\\item -0.395357167919768\n",
       "\\item -1.42389008535356\n",
       "\\item -2.31219945919899\n",
       "\\item 0.531316397674047\n",
       "\\item -1.3797388380365\n",
       "\\item -0.209673970874409\n",
       "\\item -4.60964724911288\n",
       "\\item -4.16155046771433\n",
       "\\item -6.93875991411386\n",
       "\\item 0.363104101690919\n",
       "\\item -3.84583555685968\n",
       "\\item -1.46386812772832\n",
       "\\item 1.69775652648394\n",
       "\\item -8.70881759726673\n",
       "\\item -0.2809666592752\n",
       "\\item 0.796741634931789\n",
       "\\item 0.912856568362847\n",
       "\\item -2.46742638319825\n",
       "\\item 2.32360969934298\n",
       "\\item -8.57573696304848\n",
       "\\item -4.25464189315114\n",
       "\\item -0.0381194350885023\n",
       "\\item -7.06033293079315\n",
       "\\item 2.33126930381027\n",
       "\\item -1.61219193258535\n",
       "\\item 0.321751801220392\n",
       "\\item -2.75632733788758\n",
       "\\item -4.73082764699575\n",
       "\\item 0.0868383908115858\n",
       "\\item -0.0486676373112858\n",
       "\\item 2.07634791667945\n",
       "\\item 1.09068049796219\n",
       "\\item -0.0766824397903272\n",
       "\\item -2.44676040974735\n",
       "\\item 0.812170438955953\n",
       "\\item -1.37776614275589\n",
       "\\item -7.63332842026557\n",
       "\\item 0.409424782679888\n",
       "\\item -0.0475161328849369\n",
       "\\item 0.267324621212103\n",
       "\\item -1.25532164203408\n",
       "\\item -0.334020783395991\n",
       "\\item -0.801694234669182\n",
       "\\item -1.30827996048255\n",
       "\\item -1.30800968799169\n",
       "\\item -2.26441401844803\n",
       "\\item 0.549988507562447\n",
       "\\item -4.65733015666369\n",
       "\\item -1.11331216232386\n",
       "\\item -3.09480983500529\n",
       "\\item -2.24637934986191\n",
       "\\item -3.81199001571722\n",
       "\\item -1.30269301271052\n",
       "\\end{enumerate*}\n"
      ],
      "text/markdown": [
       "1. -2.03170924195364\n",
       "2. 0.158309456303644\n",
       "3. -3.14310061671917\n",
       "4. -3.33653210079692\n",
       "5. -0.542227615476905\n",
       "6. -0.399517853419823\n",
       "7. 0.728962366143029\n",
       "8. 0.558252194216153\n",
       "9. 0.296918379655992\n",
       "10. 1.19026355934314\n",
       "11. -3.69491988806335\n",
       "12. -0.375756991900613\n",
       "13. 0.0391619401760244\n",
       "14. -12.6751874210159\n",
       "15. -1.61338896664745\n",
       "16. -0.441779596895482\n",
       "17. -0.336707380885879\n",
       "18. -1.11693067749283\n",
       "19. -0.0333989761907501\n",
       "20. -0.288866719739903\n",
       "21. -1.27601890956194\n",
       "22. 0.901700740058922\n",
       "23. -0.15113429867018\n",
       "24. -10.0839485655757\n",
       "25. -0.248732908825326\n",
       "26. 0.650236696720176\n",
       "27. -0.277904390650796\n",
       "28. -5.83461170485712\n",
       "29. -1.61706548426503\n",
       "30. -0.25567900753094\n",
       "31. -2.27318025552277\n",
       "32. -0.712812847387335\n",
       "33. 0.618589247373865\n",
       "34. -1.57798908715395\n",
       "35. -4.86308774214484\n",
       "36. -2.29588536197385\n",
       "37. -1.00619521574078\n",
       "38. -0.594629459215029\n",
       "39. -1.97218104671368\n",
       "40. -0.458595475457314\n",
       "41. -2.13301904938203\n",
       "42. 0.794837349958867\n",
       "43. -1.9395249541184\n",
       "44. -0.526615036313904\n",
       "45. -2.75344461314115\n",
       "46. -2.45941295240528\n",
       "47. 2.18590849353409\n",
       "48. -0.395357167919768\n",
       "49. -1.42389008535356\n",
       "50. -2.31219945919899\n",
       "51. 0.531316397674047\n",
       "52. -1.3797388380365\n",
       "53. -0.209673970874409\n",
       "54. -4.60964724911288\n",
       "55. -4.16155046771433\n",
       "56. -6.93875991411386\n",
       "57. 0.363104101690919\n",
       "58. -3.84583555685968\n",
       "59. -1.46386812772832\n",
       "60. 1.69775652648394\n",
       "61. -8.70881759726673\n",
       "62. -0.2809666592752\n",
       "63. 0.796741634931789\n",
       "64. 0.912856568362847\n",
       "65. -2.46742638319825\n",
       "66. 2.32360969934298\n",
       "67. -8.57573696304848\n",
       "68. -4.25464189315114\n",
       "69. -0.0381194350885023\n",
       "70. -7.06033293079315\n",
       "71. 2.33126930381027\n",
       "72. -1.61219193258535\n",
       "73. 0.321751801220392\n",
       "74. -2.75632733788758\n",
       "75. -4.73082764699575\n",
       "76. 0.0868383908115858\n",
       "77. -0.0486676373112858\n",
       "78. 2.07634791667945\n",
       "79. 1.09068049796219\n",
       "80. -0.0766824397903272\n",
       "81. -2.44676040974735\n",
       "82. 0.812170438955953\n",
       "83. -1.37776614275589\n",
       "84. -7.63332842026557\n",
       "85. 0.409424782679888\n",
       "86. -0.0475161328849369\n",
       "87. 0.267324621212103\n",
       "88. -1.25532164203408\n",
       "89. -0.334020783395991\n",
       "90. -0.801694234669182\n",
       "91. -1.30827996048255\n",
       "92. -1.30800968799169\n",
       "93. -2.26441401844803\n",
       "94. 0.549988507562447\n",
       "95. -4.65733015666369\n",
       "96. -1.11331216232386\n",
       "97. -3.09480983500529\n",
       "98. -2.24637934986191\n",
       "99. -3.81199001571722\n",
       "100. -1.30269301271052\n",
       "\n",
       "\n"
      ],
      "text/plain": [
       "  [1]  -2.03170924   0.15830946  -3.14310062  -3.33653210  -0.54222762\n",
       "  [6]  -0.39951785   0.72896237   0.55825219   0.29691838   1.19026356\n",
       " [11]  -3.69491989  -0.37575699   0.03916194 -12.67518742  -1.61338897\n",
       " [16]  -0.44177960  -0.33670738  -1.11693068  -0.03339898  -0.28886672\n",
       " [21]  -1.27601891   0.90170074  -0.15113430 -10.08394857  -0.24873291\n",
       " [26]   0.65023670  -0.27790439  -5.83461170  -1.61706548  -0.25567901\n",
       " [31]  -2.27318026  -0.71281285   0.61858925  -1.57798909  -4.86308774\n",
       " [36]  -2.29588536  -1.00619522  -0.59462946  -1.97218105  -0.45859548\n",
       " [41]  -2.13301905   0.79483735  -1.93952495  -0.52661504  -2.75344461\n",
       " [46]  -2.45941295   2.18590849  -0.39535717  -1.42389009  -2.31219946\n",
       " [51]   0.53131640  -1.37973884  -0.20967397  -4.60964725  -4.16155047\n",
       " [56]  -6.93875991   0.36310410  -3.84583556  -1.46386813   1.69775653\n",
       " [61]  -8.70881760  -0.28096666   0.79674163   0.91285657  -2.46742638\n",
       " [66]   2.32360970  -8.57573696  -4.25464189  -0.03811944  -7.06033293\n",
       " [71]   2.33126930  -1.61219193   0.32175180  -2.75632734  -4.73082765\n",
       " [76]   0.08683839  -0.04866764   2.07634792   1.09068050  -0.07668244\n",
       " [81]  -2.44676041   0.81217044  -1.37776614  -7.63332842   0.40942478\n",
       " [86]  -0.04751613   0.26732462  -1.25532164  -0.33402078  -0.80169423\n",
       " [91]  -1.30827996  -1.30800969  -2.26441402   0.54998851  -4.65733016\n",
       " [96]  -1.11331216  -3.09480984  -2.24637935  -3.81199002  -1.30269301"
      ]
     },
     "metadata": {},
     "output_type": "display_data"
    }
   ],
   "source": [
    "#Chapter 5 Exercise 8: We will now perform cross-validation on a simulated data set\n",
    "#Exercise 8A: Generate a simulated data set as follows:\n",
    "set.seed (1)\n",
    "x=rnorm (100)\n",
    "y=x-2* x^2+ rnorm (100)\n",
    "y\n",
    "\n",
    "#Equation for above model:\n",
    "# Y = X − 2*X^2 + ε.\n"
   ]
  },
  {
   "cell_type": "code",
   "execution_count": 83,
   "id": "081af753",
   "metadata": {},
   "outputs": [
    {
     "data": {
      "image/png": "[encoded data removed]",
      "text/plain": [
       "plot without title"
      ]
     },
     "metadata": {
      "image/png": {
       "height": 420,
       "width": 420
      }
     },
     "output_type": "display_data"
    }
   ],
   "source": [
    "#Exercise 8B: Create a scatterplot of X against Y\n",
    "library(ggplot2)\n",
    "ggplot(mapping = aes(x, y)) + \n",
    "geom_point() \n",
    "\n",
    "#Observation: there is a quadratic relationship between x and y"
   ]
  },
  {
   "cell_type": "code",
   "execution_count": 84,
   "id": "0c6266cb",
   "metadata": {},
   "outputs": [
    {
     "data": {
      "text/html": [
       "7.288"
      ],
      "text/latex": [
       "7.288"
      ],
      "text/markdown": [
       "7.288"
      ],
      "text/plain": [
       "[1] 7.288"
      ]
     },
     "metadata": {},
     "output_type": "display_data"
    },
    {
     "data": {
      "text/html": [
       "0.937"
      ],
      "text/latex": [
       "0.937"
      ],
      "text/markdown": [
       "0.937"
      ],
      "text/plain": [
       "[1] 0.937"
      ]
     },
     "metadata": {},
     "output_type": "display_data"
    },
    {
     "data": {
      "text/html": [
       "0.957"
      ],
      "text/latex": [
       "0.957"
      ],
      "text/markdown": [
       "0.957"
      ],
      "text/plain": [
       "[1] 0.957"
      ]
     },
     "metadata": {},
     "output_type": "display_data"
    },
    {
     "data": {
      "text/html": [
       "0.954"
      ],
      "text/latex": [
       "0.954"
      ],
      "text/markdown": [
       "0.954"
      ],
      "text/plain": [
       "[1] 0.954"
      ]
     },
     "metadata": {},
     "output_type": "display_data"
    },
    {
     "data": {
      "text/html": [
       "7.288"
      ],
      "text/latex": [
       "7.288"
      ],
      "text/markdown": [
       "7.288"
      ],
      "text/plain": [
       "[1] 7.288"
      ]
     },
     "metadata": {},
     "output_type": "display_data"
    },
    {
     "data": {
      "text/html": [
       "0.937"
      ],
      "text/latex": [
       "0.937"
      ],
      "text/markdown": [
       "0.937"
      ],
      "text/plain": [
       "[1] 0.937"
      ]
     },
     "metadata": {},
     "output_type": "display_data"
    },
    {
     "data": {
      "text/html": [
       "0.957"
      ],
      "text/latex": [
       "0.957"
      ],
      "text/markdown": [
       "0.957"
      ],
      "text/plain": [
       "[1] 0.957"
      ]
     },
     "metadata": {},
     "output_type": "display_data"
    },
    {
     "data": {
      "text/html": [
       "0.954"
      ],
      "text/latex": [
       "0.954"
      ],
      "text/markdown": [
       "0.954"
      ],
      "text/plain": [
       "[1] 0.954"
      ]
     },
     "metadata": {},
     "output_type": "display_data"
    }
   ],
   "source": [
    "#Exercise 8C: Set a random seed, and then compute the LOOCV errors that result from fitting the following four models using least squares\n",
    "#Exercises 8Ci: Y = β0 + β1X + ǫ\n",
    "library(boot)\n",
    "\n",
    "set.seed(1)\n",
    "Locdata <- data.frame(x, y)\n",
    "fit.glm.01 <- glm(y ~ x)\n",
    "round(cv.glm(Locdata, fit.glm.01)$delta[1], 3)\n",
    "\n",
    "#Exercise 8Cii: Y = β0 + β1X + β2X2 + ǫ\n",
    "fit.glm.02<- glm(y ~ poly(x, 2))\n",
    "round(cv.glm(Locdata, fit.glm.02)$delta[1], 3)\n",
    "\n",
    "#Exercise 8Ciii: Y = β0 + β1X + β2X2 + β3X3 + ǫ\n",
    "fit.glm.03 <- glm(y ~ poly(x, 3))\n",
    "round(cv.glm(Locdata, fit.glm.03)$delta[1], 3)\n",
    "\n",
    "#Exercise 8Civ:Y = β0 + β1X + β2X2 + β3X3 + β4X4 + ǫ\n",
    "fit.glm.04 <- glm(y ~ poly(x, 4))\n",
    "round(cv.glm(Locdata, fit.glm.04)$delta[1], 3)\n",
    "\n",
    "#Exercise 8D: Repeat (c) using another random seed, and report your results\n",
    "#First Exercise 8ci:\n",
    "set.seed(20)\n",
    "fit.glm.01 <- glm(y ~ x)\n",
    "round(cv.glm(Locdata, fit.glm.01)$delta[1], 3)\n",
    "\n",
    "#Second Exercise 8cii:\n",
    "fit.glm.02 <- glm(y ~ poly(x, 2))\n",
    "round(cv.glm(Locdata, fit.glm.02)$delta[1],3)\n",
    "\n",
    "#Third Exercise 8ciiii:\n",
    "fit.glm.03 <- glm(y ~ poly(x, 3))\n",
    "round(cv.glm(Locdata, fit.glm.03)$delta[1], 3)\n",
    "\n",
    "#Fourth  Exercise 8civ:\n",
    "fit.glm.04 <- glm(y ~ poly(x, 4))\n",
    "round(cv.glm(Locdata, fit.glm.04)$delta[1], 3)\n",
    "\n",
    "#Observations:\n",
    "#They are both the same results. However, LOOCV evaluates n folds of each observations."
   ]
  },
  {
   "cell_type": "code",
   "execution_count": 85,
   "id": "a0869e20",
   "metadata": {},
   "outputs": [
    {
     "data": {
      "image/png": "[encoded data removed]",
      "text/plain": [
       "plot without title"
      ]
     },
     "metadata": {
      "image/png": {
       "height": 420,
       "width": 420
      }
     },
     "output_type": "display_data"
    },
    {
     "data": {
      "image/png": "[encoded data removed]",
      "text/plain": [
       "plot without title"
      ]
     },
     "metadata": {
      "image/png": {
       "height": 420,
       "width": 420
      }
     },
     "output_type": "display_data"
    },
    {
     "data": {
      "image/png": "[encoded data removed]",
      "text/plain": [
       "plot without title"
      ]
     },
     "metadata": {
      "image/png": {
       "height": 420,
       "width": 420
      }
     },
     "output_type": "display_data"
    },
    {
     "data": {
      "image/png": "[encoded data removed]",
      "text/plain": [
       "plot without title"
      ]
     },
     "metadata": {
      "image/png": {
       "height": 420,
       "width": 420
      }
     },
     "output_type": "display_data"
    }
   ],
   "source": [
    "#Exercise 8E: Which of the models in (c) had the smallest LOOCV error?\n",
    "graph1 <- ggplot(mapping = aes(x, y)) + \n",
    "geom_point() +\n",
    "geom_smooth(method = glm, formula = \"y ~ x\") + \n",
    "ggtitle(\"Fit 01\")\n",
    "graph1\n",
    "\n",
    "graph2 <- ggplot(mapping = aes(x, y)) + \n",
    "geom_point() +\n",
    "geom_smooth(method = glm, formula = \"y ~ poly(x, 2)\") +\n",
    "ggtitle(\"Fit 02\")\n",
    "graph2\n",
    "\n",
    "graph3 <- ggplot(mapping = aes(x, y)) + \n",
    "geom_point() +\n",
    "geom_smooth(method = glm, formula = \"y ~ poly(x, 3)\") +\n",
    "ggtitle(\"Fit 03\")\n",
    "graph3\n",
    "\n",
    "graph4 <- ggplot(mapping = aes(x, y)) + \n",
    "geom_point() +\n",
    "geom_smooth(method = glm, formula = \"y ~ poly(x, 4)\") +\n",
    "ggtitle(\"Fit 04\")\n",
    "graph4\n",
    "\n",
    "#Observation:Although the quadratic model has the smallest LOOCV error, the second, third, and fourth order polynomial fits perform slightly differently."
   ]
  },
  {
   "cell_type": "code",
   "execution_count": 86,
   "id": "2e125cb9",
   "metadata": {},
   "outputs": [
    {
     "name": "stderr",
     "output_type": "stream",
     "text": [
      "Your code contains a unicode char which cannot be displayed in your\n",
      "current locale and R will silently convert it to an escaped form when the\n",
      "R kernel executes this code. This can lead to subtle errors if you use\n",
      "such chars to do comparisons. For more information, please see\n",
      "https://github.com/IRkernel/repr/wiki/Problems-with-unicode-on-windows"
     ]
    },
    {
     "data": {
      "text/plain": [
       "\n",
       "Call:\n",
       "glm(formula = y ~ x)\n",
       "\n",
       "Deviance Residuals: \n",
       "    Min       1Q   Median       3Q      Max  \n",
       "-9.5161  -0.6800   0.6812   1.5491   3.8183  \n",
       "\n",
       "Coefficients:\n",
       "            Estimate Std. Error t value Pr(>|t|)    \n",
       "(Intercept)  -1.6254     0.2619  -6.205 1.31e-08 ***\n",
       "x             0.6925     0.2909   2.380   0.0192 *  \n",
       "---\n",
       "Signif. codes:  0 '***' 0.001 '**' 0.01 '*' 0.05 '.' 0.1 ' ' 1\n",
       "\n",
       "(Dispersion parameter for gaussian family taken to be 6.760719)\n",
       "\n",
       "    Null deviance: 700.85  on 99  degrees of freedom\n",
       "Residual deviance: 662.55  on 98  degrees of freedom\n",
       "AIC: 478.88\n",
       "\n",
       "Number of Fisher Scoring iterations: 2\n"
      ]
     },
     "metadata": {},
     "output_type": "display_data"
    },
    {
     "data": {
      "text/plain": [
       "\n",
       "Call:\n",
       "glm(formula = y ~ poly(x, 2))\n",
       "\n",
       "Deviance Residuals: \n",
       "    Min       1Q   Median       3Q      Max  \n",
       "-1.9650  -0.6254  -0.1288   0.5803   2.2700  \n",
       "\n",
       "Coefficients:\n",
       "            Estimate Std. Error t value Pr(>|t|)    \n",
       "(Intercept)  -1.5500     0.0958  -16.18  < 2e-16 ***\n",
       "poly(x, 2)1   6.1888     0.9580    6.46 4.18e-09 ***\n",
       "poly(x, 2)2 -23.9483     0.9580  -25.00  < 2e-16 ***\n",
       "---\n",
       "Signif. codes:  0 '***' 0.001 '**' 0.01 '*' 0.05 '.' 0.1 ' ' 1\n",
       "\n",
       "(Dispersion parameter for gaussian family taken to be 0.9178258)\n",
       "\n",
       "    Null deviance: 700.852  on 99  degrees of freedom\n",
       "Residual deviance:  89.029  on 97  degrees of freedom\n",
       "AIC: 280.17\n",
       "\n",
       "Number of Fisher Scoring iterations: 2\n"
      ]
     },
     "metadata": {},
     "output_type": "display_data"
    },
    {
     "data": {
      "text/plain": [
       "\n",
       "Call:\n",
       "glm(formula = y ~ poly(x, 3))\n",
       "\n",
       "Deviance Residuals: \n",
       "    Min       1Q   Median       3Q      Max  \n",
       "-1.9765  -0.6302  -0.1227   0.5545   2.2843  \n",
       "\n",
       "Coefficients:\n",
       "             Estimate Std. Error t value Pr(>|t|)    \n",
       "(Intercept)  -1.55002    0.09626 -16.102  < 2e-16 ***\n",
       "poly(x, 3)1   6.18883    0.96263   6.429 4.97e-09 ***\n",
       "poly(x, 3)2 -23.94830    0.96263 -24.878  < 2e-16 ***\n",
       "poly(x, 3)3   0.26411    0.96263   0.274    0.784    \n",
       "---\n",
       "Signif. codes:  0 '***' 0.001 '**' 0.01 '*' 0.05 '.' 0.1 ' ' 1\n",
       "\n",
       "(Dispersion parameter for gaussian family taken to be 0.9266599)\n",
       "\n",
       "    Null deviance: 700.852  on 99  degrees of freedom\n",
       "Residual deviance:  88.959  on 96  degrees of freedom\n",
       "AIC: 282.09\n",
       "\n",
       "Number of Fisher Scoring iterations: 2\n"
      ]
     },
     "metadata": {},
     "output_type": "display_data"
    },
    {
     "data": {
      "text/plain": [
       "\n",
       "Call:\n",
       "glm(formula = y ~ poly(x, 4))\n",
       "\n",
       "Deviance Residuals: \n",
       "    Min       1Q   Median       3Q      Max  \n",
       "-2.0550  -0.6212  -0.1567   0.5952   2.2267  \n",
       "\n",
       "Coefficients:\n",
       "             Estimate Std. Error t value Pr(>|t|)    \n",
       "(Intercept)  -1.55002    0.09591 -16.162  < 2e-16 ***\n",
       "poly(x, 4)1   6.18883    0.95905   6.453 4.59e-09 ***\n",
       "poly(x, 4)2 -23.94830    0.95905 -24.971  < 2e-16 ***\n",
       "poly(x, 4)3   0.26411    0.95905   0.275    0.784    \n",
       "poly(x, 4)4   1.25710    0.95905   1.311    0.193    \n",
       "---\n",
       "Signif. codes:  0 '***' 0.001 '**' 0.01 '*' 0.05 '.' 0.1 ' ' 1\n",
       "\n",
       "(Dispersion parameter for gaussian family taken to be 0.9197797)\n",
       "\n",
       "    Null deviance: 700.852  on 99  degrees of freedom\n",
       "Residual deviance:  87.379  on 95  degrees of freedom\n",
       "AIC: 282.3\n",
       "\n",
       "Number of Fisher Scoring iterations: 2\n"
      ]
     },
     "metadata": {},
     "output_type": "display_data"
    }
   ],
   "source": [
    "#Exercise 8F: Comment on the statistical significance of the coefficient estimates that results from fitting each of the models in (c) using least squares.\n",
    "#Exercise 8Fi: Y=β0+β1X+ϵ\n",
    "summary(fit.glm.01)\n",
    "\n",
    "#Exercise 8Fii: Y = β0 + β1X + β2X2 + ǫ\n",
    "summary(fit.glm.02)\n",
    "\n",
    "#Exercise 8Fiii: Y = β0 + β1X + β2X2 + β3X3 + ǫ\n",
    "summary(fit.glm.03)\n",
    "\n",
    "#Exercise 8Fiv: Y = β0 + β1X + β2X2 + β3X3 + β4X4 + ǫ\n",
    "summary(fit.glm.04)\n",
    "\n",
    "#Observation: \n",
    "#The p-values show that the linear and quadratic terms are statistically significant, but the cubic and fourth degree terms are not."
   ]
  },
  {
   "cell_type": "markdown",
   "id": "68f90ed0",
   "metadata": {},
   "source": [
    "Chapter 6 Exercise 1: We perform best subset, forward stepwise, and backward stepwise selection on a single data set. For each approach, we obtain p + 1 models, containing 0, 1, 2, . . . , p predictors. Explain your answers\n",
    "Exercise 1A: Which of the three models with k predictors has the smallest training RSS?\n",
    "The model with ideal feature selection method will indeed produce better results, though forward and backward stepwise selection can result in the same model.  It is because best subset classification will fit all 2p different models using the p predictors,  if the selection process is significantly reducing the training RSS, there really is no sub group of predictor variables that could be defined by forward/backward selection"
   ]
  },
  {
   "cell_type": "markdown",
   "id": "b4f710b4",
   "metadata": {},
   "source": [
    "Exercise 1B: Which of the three models with k predictors has the smallest test RSS?\n",
    "The best subset sampling is more likely to outperform other subsets. All three algorithms will utilize a range of significantly reducing the training RSS so as to  select between modeling techniques of the same size, guided through using cross-validated prediction error or even some sort of penalized statistic (e.g. AIC, BIC, Adjusted R2) to select the final model from the p+1 candidate models."
   ]
  },
  {
   "cell_type": "markdown",
   "id": "e375ed87",
   "metadata": {},
   "source": [
    "Exercise 1C:True or False:\n",
    "i. The predictors in the k-variable model identified by forward stepwise are a subset of the predictors in the (k+1)-\n",
    "variable model identified by forward stepwise selection.\n",
    "Answer: True. The model with (k+1) predictors is created by adding one predictor to the predictor variables with k predictors.\n",
    "\n",
    "ii. The predictors in the k-variable model identified by backward stepwise are a subset of the predictors in the (k + 1)-\n",
    "variable model identified by backward stepwise selection.\n",
    "Answer:True. By trying to remove one predictor from the model with (k+1) predictor variables, the model with k predictors is obtained.\n",
    "\n",
    "iii. The predictors in the k-variable model identified by backward\n",
    "stepwise are a subset of the predictors in the (k + 1)-variable model identified by forward stepwise selection.\n",
    "Answer:False. Forward and backward stepwise selection begin at different points and follow different paths. \n",
    "\n",
    "iv. The predictors in the k-variable model identified by forward stepwise are a subset of the predictors in the (k+1)\n",
    "-variable model identified by backward stepwise selection.\n",
    "Answer:False. There is no direct relationship between the models obtained through forward and backward selection.\n",
    "\n",
    "v. The predictors in the k-variable model identified by best subset are a subset of the predictors in the (k + 1)-variable\n",
    "model identified by best subset selection.\n",
    "Answer:False. The model with (k+1) predictors is obtained by making a choice from among all possible models with (k+1) predictors, and thus does not necessarily include all of the predictor variables preselected for the k-variable model."
   ]
  },
  {
   "cell_type": "code",
   "execution_count": 87,
   "id": "a56321de",
   "metadata": {},
   "outputs": [],
   "source": [
    "#Exercise 9:In this exercise, we will predict the number of applications received using the other variables in the College data set.\n",
    "#Exercise 9A:Split the data set into a training set and a test set.\n",
    "library(ISLR)\n",
    "data(College)\n",
    "\n",
    "set.seed(10)\n",
    "train = sample(1:dim(College)[1], dim(College)[1] / 2)\n",
    "test <- -train\n",
    "\n",
    "College.train <- College[train, ]\n",
    "College.test <- College[test, ]"
   ]
  },
  {
   "cell_type": "code",
   "execution_count": 88,
   "id": "b0fe0368",
   "metadata": {},
   "outputs": [
    {
     "data": {
      "text/html": [
       "1020099.79945705"
      ],
      "text/latex": [
       "1020099.79945705"
      ],
      "text/markdown": [
       "1020099.79945705"
      ],
      "text/plain": [
       "[1] 1020100"
      ]
     },
     "metadata": {},
     "output_type": "display_data"
    }
   ],
   "source": [
    "#Exercise 9B:Fit a linear model using least squares on the training set, and report the test error obtained.\n",
    "fit.lm01 <- lm(Apps ~ ., data = College.train)\n",
    "pred.lm01 <- predict(fit.lm01, College.test)\n",
    "mean((pred.lm01 - College.test$Apps)^2)\n",
    "\n",
    "#Test MSE is 1.020099*10^6"
   ]
  },
  {
   "cell_type": "code",
   "execution_count": 89,
   "id": "95b29196",
   "metadata": {},
   "outputs": [
    {
     "name": "stderr",
     "output_type": "stream",
     "text": [
      "Your code contains a unicode char which cannot be displayed in your\n",
      "current locale and R will silently convert it to an escaped form when the\n",
      "R kernel executes this code. This can lead to subtle errors if you use\n",
      "such chars to do comparisons. For more information, please see\n",
      "https://github.com/IRkernel/repr/wiki/Problems-with-unicode-on-windows"
     ]
    },
    {
     "data": {
      "text/html": [
       "0.01"
      ],
      "text/latex": [
       "0.01"
      ],
      "text/markdown": [
       "0.01"
      ],
      "text/plain": [
       "[1] 0.01"
      ]
     },
     "metadata": {},
     "output_type": "display_data"
    },
    {
     "data": {
      "text/html": [
       "1020089.85245992"
      ],
      "text/latex": [
       "1020089.85245992"
      ],
      "text/markdown": [
       "1020089.85245992"
      ],
      "text/plain": [
       "[1] 1020090"
      ]
     },
     "metadata": {},
     "output_type": "display_data"
    }
   ],
   "source": [
    "#Exercise 9C: Fit a ridge regression model on the training set, with λ chosen by cross-validation. Report the test error obtained.\n",
    "library(glmnet)\n",
    "train.model <- model.matrix(Apps ~ ., data = College.train)\n",
    "test.model <- model.matrix(Apps ~ ., data = College.test)\n",
    "grid <- 10 ^ seq(4, -2, length = 100)\n",
    "fit.ridged <- glmnet(train.model, College.train$Apps, alpha = 0, lambda = grid, thresh = 1e-12)\n",
    "cv.ridged <- cv.glmnet(train.model, College.train$Apps, alpha = 0, lambda = grid, thresh = 1e-12)\n",
    "bestam.ridged <- cv.ridged$lambda.min\n",
    "bestam.ridged\n",
    "\n",
    "pred.ridged <- predict(fit.ridge, s = bestam.ridged, newx = test.model)\n",
    "mean((pred.ridged - College.test$Apps)^2)\n",
    "\n",
    "#MSE is higher for ridge regression"
   ]
  },
  {
   "cell_type": "code",
   "execution_count": 90,
   "id": "0f2a5afb",
   "metadata": {},
   "outputs": [
    {
     "name": "stderr",
     "output_type": "stream",
     "text": [
      "Your code contains a unicode char which cannot be displayed in your\n",
      "current locale and R will silently convert it to an escaped form when the\n",
      "R kernel executes this code. This can lead to subtle errors if you use\n",
      "such chars to do comparisons. For more information, please see\n",
      "https://github.com/IRkernel/repr/wiki/Problems-with-unicode-on-windows"
     ]
    },
    {
     "data": {
      "text/html": [
       "0.01"
      ],
      "text/latex": [
       "0.01"
      ],
      "text/markdown": [
       "0.01"
      ],
      "text/plain": [
       "[1] 0.01"
      ]
     },
     "metadata": {},
     "output_type": "display_data"
    },
    {
     "data": {
      "text/html": [
       "1020097.40009443"
      ],
      "text/latex": [
       "1020097.40009443"
      ],
      "text/markdown": [
       "1020097.40009443"
      ],
      "text/plain": [
       "[1] 1020097"
      ]
     },
     "metadata": {},
     "output_type": "display_data"
    },
    {
     "data": {
      "text/plain": [
       "19 x 1 sparse Matrix of class \"dgCMatrix\"\n",
       "                       s1\n",
       "(Intercept) -629.58395718\n",
       "(Intercept)    .         \n",
       "PrivateYes  -647.53846353\n",
       "Accept         1.68906292\n",
       "Enroll        -1.02324702\n",
       "Top10perc     48.18302370\n",
       "Top25perc    -10.50909239\n",
       "F.Undergrad    0.01982727\n",
       "P.Undergrad    0.04214021\n",
       "Outstate      -0.09488417\n",
       "Room.Board     0.14547537\n",
       "Books          0.06661918\n",
       "Personal       0.05663252\n",
       "PhD          -10.11314460\n",
       "Terminal      -2.29132336\n",
       "S.F.Ratio     22.06683385\n",
       "perc.alumni    2.07798052\n",
       "Expend         0.07653891\n",
       "Grad.Rate      9.99638694"
      ]
     },
     "metadata": {},
     "output_type": "display_data"
    }
   ],
   "source": [
    "#Exercise 9D:Fit a lasso model on the training set, with λ chosen by cross validation.Report the test error obtained, along with the number of non-zero coefficient estimates.\n",
    "fitted.lasso <- glmnet(train.model, College.train$Apps, alpha = 1, lambda = grid, thresh = 1e-12)\n",
    "cv.lasso <- cv.glmnet(train.model, College.train$Apps, alpha = 1, lambda = grid, thresh = 1e-12)\n",
    "bestam.lasso <- cv.lasso$lambda.min\n",
    "bestam.lasso\n",
    "\n",
    "predicted.lasso <- predict(fitted.lasso, s = bestam.lasso, newx = test.model)\n",
    "mean((predicted.lasso - College.test$Apps)^2)\n",
    "\n",
    "predict(fitted.lasso, s = bestam.lasso, type = \"coefficients\")\n",
    "\n",
    "#MSE is higher than ridge regression"
   ]
  },
  {
   "cell_type": "code",
   "execution_count": 91,
   "id": "9d1fc6f1",
   "metadata": {},
   "outputs": [
    {
     "data": {
      "text/html": [
       "1422698.94677963"
      ],
      "text/latex": [
       "1422698.94677963"
      ],
      "text/markdown": [
       "1422698.94677963"
      ],
      "text/plain": [
       "[1] 1422699"
      ]
     },
     "metadata": {},
     "output_type": "display_data"
    },
    {
     "data": {
      "image/png": "[encoded data removed]",
      "text/plain": [
       "Plot with title \"Apps\""
      ]
     },
     "metadata": {
      "image/png": {
       "height": 420,
       "width": 420
      }
     },
     "output_type": "display_data"
    }
   ],
   "source": [
    "#Exercise 9E:Fit a PCR model on the training set, with M chosen by cross validation.\n",
    "library(pls)\n",
    "\n",
    "fitted.pcr <- pcr(Apps ~ ., data = College.train, scale = TRUE, validation = \"CV\")\n",
    "validationplot(fitted.pcr, val.type = \"MSEP\")\n",
    "\n",
    "predicted.pcr <- predict(fitted.pcr, College.test, ncomp = 10)\n",
    "mean((predicted.pcr - College.test$Apps)^2)\n",
    "\n",
    "#MSE is higher in pcr"
   ]
  },
  {
   "cell_type": "code",
   "execution_count": 92,
   "id": "b3c4beeb",
   "metadata": {},
   "outputs": [
    {
     "data": {
      "text/html": [
       "1029441.62667911"
      ],
      "text/latex": [
       "1029441.62667911"
      ],
      "text/markdown": [
       "1029441.62667911"
      ],
      "text/plain": [
       "[1] 1029442"
      ]
     },
     "metadata": {},
     "output_type": "display_data"
    },
    {
     "data": {
      "image/png": "[encoded data removed]",
      "text/plain": [
       "Plot with title \"Apps\""
      ]
     },
     "metadata": {
      "image/png": {
       "height": 420,
       "width": 420
      }
     },
     "output_type": "display_data"
    }
   ],
   "source": [
    "#Exercise 9F:Fit a PLS model on the training set, with M chosen by crossvalidation.\n",
    "fitted.pls <- plsr(Apps ~ ., data = College.train, scale = TRUE, validation = \"CV\")\n",
    "validationplot(fitted.pls, val.type = \"MSEP\")\n",
    "\n",
    "predicted.pls <- predict(fitted.pls, College.test, ncomp = 10)\n",
    "mean((predicted.pls - College.test$Apps)^2)\n",
    "\n",
    "#MSE is lower for PLS"
   ]
  },
  {
   "cell_type": "code",
   "execution_count": 93,
   "id": "043cb26a",
   "metadata": {},
   "outputs": [
    {
     "data": {
      "text/html": [
       "0.907613441806067"
      ],
      "text/latex": [
       "0.907613441806067"
      ],
      "text/markdown": [
       "0.907613441806067"
      ],
      "text/plain": [
       "[1] 0.9076134"
      ]
     },
     "metadata": {},
     "output_type": "display_data"
    },
    {
     "data": {
      "text/html": [
       "0.907614342667758"
      ],
      "text/latex": [
       "0.907614342667758"
      ],
      "text/markdown": [
       "0.907614342667758"
      ],
      "text/plain": [
       "[1] 0.9076143"
      ]
     },
     "metadata": {},
     "output_type": "display_data"
    },
    {
     "data": {
      "text/html": [
       "0.907613659107213"
      ],
      "text/latex": [
       "0.907613659107213"
      ],
      "text/markdown": [
       "0.907613659107213"
      ],
      "text/plain": [
       "[1] 0.9076137"
      ]
     },
     "metadata": {},
     "output_type": "display_data"
    },
    {
     "data": {
      "text/html": [
       "0.871151568592543"
      ],
      "text/latex": [
       "0.871151568592543"
      ],
      "text/markdown": [
       "0.871151568592543"
      ],
      "text/plain": [
       "[1] 0.8711516"
      ]
     },
     "metadata": {},
     "output_type": "display_data"
    },
    {
     "data": {
      "text/html": [
       "0.906767388052554"
      ],
      "text/latex": [
       "0.906767388052554"
      ],
      "text/markdown": [
       "0.906767388052554"
      ],
      "text/plain": [
       "[1] 0.9067674"
      ]
     },
     "metadata": {},
     "output_type": "display_data"
    }
   ],
   "source": [
    "#Exercise 9G: Comment on the results obtained. How accurately can we predict the number of college applications received?\n",
    "test.average <- mean(College.test$Apps)\n",
    "lm.R2 <- 1 - mean((pred.lm01 - College.test$Apps)^2) / mean((test.average - College.test$Apps)^2)\n",
    "lm.R2\n",
    "ridge.R2 <- 1 - mean((pred.ridged - College.test$Apps)^2) / mean((test.average - College.test$Apps)^2)\n",
    "ridge.R2\n",
    "lasso.R2 <- 1 - mean((predicted.lasso - College.test$Apps)^2) / mean((test.average - College.test$Apps)^2)\n",
    "lasso.R2\n",
    "pcr.R2 <- 1 - mean((predicted.pcr - College.test$Apps)^2) / mean((test.average - College.test$Apps)^2)\n",
    "pcr.R2\n",
    "pls.R2 <- 1 - mean((predicted.pls - College.test$Apps)^2) / mean((test.average - College.test$Apps)^2)\n",
    "pls.R2\n",
    "#All models except PCR predict high college application accuracy."
   ]
  },
  {
   "cell_type": "markdown",
   "id": "2b485146",
   "metadata": {},
   "source": [
    "Chapter 7 Exercise 9:This question uses the variables dis (the weighted mean of distances to five Boston employment centers) and nox (nitrogen oxides concentration in parts per 10 million) from the Boston data."
   ]
  },
  {
   "cell_type": "code",
   "execution_count": 113,
   "id": "b1370d22",
   "metadata": {},
   "outputs": [
    {
     "data": {
      "text/html": [
       "<table class=\"dataframe\">\n",
       "<caption>A data.frame: 506 × 14</caption>\n",
       "<thead>\n",
       "\t<tr><th></th><th scope=col>crim</th><th scope=col>zn</th><th scope=col>indus</th><th scope=col>chas</th><th scope=col>nox</th><th scope=col>rm</th><th scope=col>age</th><th scope=col>dis</th><th scope=col>rad</th><th scope=col>tax</th><th scope=col>ptratio</th><th scope=col>black</th><th scope=col>lstat</th><th scope=col>medv</th></tr>\n",
       "\t<tr><th></th><th scope=col>&lt;dbl&gt;</th><th scope=col>&lt;dbl&gt;</th><th scope=col>&lt;dbl&gt;</th><th scope=col>&lt;int&gt;</th><th scope=col>&lt;dbl&gt;</th><th scope=col>&lt;dbl&gt;</th><th scope=col>&lt;dbl&gt;</th><th scope=col>&lt;dbl&gt;</th><th scope=col>&lt;int&gt;</th><th scope=col>&lt;dbl&gt;</th><th scope=col>&lt;dbl&gt;</th><th scope=col>&lt;dbl&gt;</th><th scope=col>&lt;dbl&gt;</th><th scope=col>&lt;dbl&gt;</th></tr>\n",
       "</thead>\n",
       "<tbody>\n",
       "\t<tr><th scope=row>1</th><td>0.00632</td><td>18.0</td><td>2.31</td><td>0</td><td>0.538</td><td>6.575</td><td> 65.2</td><td>4.0900</td><td>1</td><td>296</td><td>15.3</td><td>396.90</td><td> 4.98</td><td>24.0</td></tr>\n",
       "\t<tr><th scope=row>2</th><td>0.02731</td><td> 0.0</td><td>7.07</td><td>0</td><td>0.469</td><td>6.421</td><td> 78.9</td><td>4.9671</td><td>2</td><td>242</td><td>17.8</td><td>396.90</td><td> 9.14</td><td>21.6</td></tr>\n",
       "\t<tr><th scope=row>3</th><td>0.02729</td><td> 0.0</td><td>7.07</td><td>0</td><td>0.469</td><td>7.185</td><td> 61.1</td><td>4.9671</td><td>2</td><td>242</td><td>17.8</td><td>392.83</td><td> 4.03</td><td>34.7</td></tr>\n",
       "\t<tr><th scope=row>4</th><td>0.03237</td><td> 0.0</td><td>2.18</td><td>0</td><td>0.458</td><td>6.998</td><td> 45.8</td><td>6.0622</td><td>3</td><td>222</td><td>18.7</td><td>394.63</td><td> 2.94</td><td>33.4</td></tr>\n",
       "\t<tr><th scope=row>5</th><td>0.06905</td><td> 0.0</td><td>2.18</td><td>0</td><td>0.458</td><td>7.147</td><td> 54.2</td><td>6.0622</td><td>3</td><td>222</td><td>18.7</td><td>396.90</td><td> 5.33</td><td>36.2</td></tr>\n",
       "\t<tr><th scope=row>6</th><td>0.02985</td><td> 0.0</td><td>2.18</td><td>0</td><td>0.458</td><td>6.430</td><td> 58.7</td><td>6.0622</td><td>3</td><td>222</td><td>18.7</td><td>394.12</td><td> 5.21</td><td>28.7</td></tr>\n",
       "\t<tr><th scope=row>7</th><td>0.08829</td><td>12.5</td><td>7.87</td><td>0</td><td>0.524</td><td>6.012</td><td> 66.6</td><td>5.5605</td><td>5</td><td>311</td><td>15.2</td><td>395.60</td><td>12.43</td><td>22.9</td></tr>\n",
       "\t<tr><th scope=row>8</th><td>0.14455</td><td>12.5</td><td>7.87</td><td>0</td><td>0.524</td><td>6.172</td><td> 96.1</td><td>5.9505</td><td>5</td><td>311</td><td>15.2</td><td>396.90</td><td>19.15</td><td>27.1</td></tr>\n",
       "\t<tr><th scope=row>9</th><td>0.21124</td><td>12.5</td><td>7.87</td><td>0</td><td>0.524</td><td>5.631</td><td>100.0</td><td>6.0821</td><td>5</td><td>311</td><td>15.2</td><td>386.63</td><td>29.93</td><td>16.5</td></tr>\n",
       "\t<tr><th scope=row>10</th><td>0.17004</td><td>12.5</td><td>7.87</td><td>0</td><td>0.524</td><td>6.004</td><td> 85.9</td><td>6.5921</td><td>5</td><td>311</td><td>15.2</td><td>386.71</td><td>17.10</td><td>18.9</td></tr>\n",
       "\t<tr><th scope=row>11</th><td>0.22489</td><td>12.5</td><td>7.87</td><td>0</td><td>0.524</td><td>6.377</td><td> 94.3</td><td>6.3467</td><td>5</td><td>311</td><td>15.2</td><td>392.52</td><td>20.45</td><td>15.0</td></tr>\n",
       "\t<tr><th scope=row>12</th><td>0.11747</td><td>12.5</td><td>7.87</td><td>0</td><td>0.524</td><td>6.009</td><td> 82.9</td><td>6.2267</td><td>5</td><td>311</td><td>15.2</td><td>396.90</td><td>13.27</td><td>18.9</td></tr>\n",
       "\t<tr><th scope=row>13</th><td>0.09378</td><td>12.5</td><td>7.87</td><td>0</td><td>0.524</td><td>5.889</td><td> 39.0</td><td>5.4509</td><td>5</td><td>311</td><td>15.2</td><td>390.50</td><td>15.71</td><td>21.7</td></tr>\n",
       "\t<tr><th scope=row>14</th><td>0.62976</td><td> 0.0</td><td>8.14</td><td>0</td><td>0.538</td><td>5.949</td><td> 61.8</td><td>4.7075</td><td>4</td><td>307</td><td>21.0</td><td>396.90</td><td> 8.26</td><td>20.4</td></tr>\n",
       "\t<tr><th scope=row>15</th><td>0.63796</td><td> 0.0</td><td>8.14</td><td>0</td><td>0.538</td><td>6.096</td><td> 84.5</td><td>4.4619</td><td>4</td><td>307</td><td>21.0</td><td>380.02</td><td>10.26</td><td>18.2</td></tr>\n",
       "\t<tr><th scope=row>16</th><td>0.62739</td><td> 0.0</td><td>8.14</td><td>0</td><td>0.538</td><td>5.834</td><td> 56.5</td><td>4.4986</td><td>4</td><td>307</td><td>21.0</td><td>395.62</td><td> 8.47</td><td>19.9</td></tr>\n",
       "\t<tr><th scope=row>17</th><td>1.05393</td><td> 0.0</td><td>8.14</td><td>0</td><td>0.538</td><td>5.935</td><td> 29.3</td><td>4.4986</td><td>4</td><td>307</td><td>21.0</td><td>386.85</td><td> 6.58</td><td>23.1</td></tr>\n",
       "\t<tr><th scope=row>18</th><td>0.78420</td><td> 0.0</td><td>8.14</td><td>0</td><td>0.538</td><td>5.990</td><td> 81.7</td><td>4.2579</td><td>4</td><td>307</td><td>21.0</td><td>386.75</td><td>14.67</td><td>17.5</td></tr>\n",
       "\t<tr><th scope=row>19</th><td>0.80271</td><td> 0.0</td><td>8.14</td><td>0</td><td>0.538</td><td>5.456</td><td> 36.6</td><td>3.7965</td><td>4</td><td>307</td><td>21.0</td><td>288.99</td><td>11.69</td><td>20.2</td></tr>\n",
       "\t<tr><th scope=row>20</th><td>0.72580</td><td> 0.0</td><td>8.14</td><td>0</td><td>0.538</td><td>5.727</td><td> 69.5</td><td>3.7965</td><td>4</td><td>307</td><td>21.0</td><td>390.95</td><td>11.28</td><td>18.2</td></tr>\n",
       "\t<tr><th scope=row>21</th><td>1.25179</td><td> 0.0</td><td>8.14</td><td>0</td><td>0.538</td><td>5.570</td><td> 98.1</td><td>3.7979</td><td>4</td><td>307</td><td>21.0</td><td>376.57</td><td>21.02</td><td>13.6</td></tr>\n",
       "\t<tr><th scope=row>22</th><td>0.85204</td><td> 0.0</td><td>8.14</td><td>0</td><td>0.538</td><td>5.965</td><td> 89.2</td><td>4.0123</td><td>4</td><td>307</td><td>21.0</td><td>392.53</td><td>13.83</td><td>19.6</td></tr>\n",
       "\t<tr><th scope=row>23</th><td>1.23247</td><td> 0.0</td><td>8.14</td><td>0</td><td>0.538</td><td>6.142</td><td> 91.7</td><td>3.9769</td><td>4</td><td>307</td><td>21.0</td><td>396.90</td><td>18.72</td><td>15.2</td></tr>\n",
       "\t<tr><th scope=row>24</th><td>0.98843</td><td> 0.0</td><td>8.14</td><td>0</td><td>0.538</td><td>5.813</td><td>100.0</td><td>4.0952</td><td>4</td><td>307</td><td>21.0</td><td>394.54</td><td>19.88</td><td>14.5</td></tr>\n",
       "\t<tr><th scope=row>25</th><td>0.75026</td><td> 0.0</td><td>8.14</td><td>0</td><td>0.538</td><td>5.924</td><td> 94.1</td><td>4.3996</td><td>4</td><td>307</td><td>21.0</td><td>394.33</td><td>16.30</td><td>15.6</td></tr>\n",
       "\t<tr><th scope=row>26</th><td>0.84054</td><td> 0.0</td><td>8.14</td><td>0</td><td>0.538</td><td>5.599</td><td> 85.7</td><td>4.4546</td><td>4</td><td>307</td><td>21.0</td><td>303.42</td><td>16.51</td><td>13.9</td></tr>\n",
       "\t<tr><th scope=row>27</th><td>0.67191</td><td> 0.0</td><td>8.14</td><td>0</td><td>0.538</td><td>5.813</td><td> 90.3</td><td>4.6820</td><td>4</td><td>307</td><td>21.0</td><td>376.88</td><td>14.81</td><td>16.6</td></tr>\n",
       "\t<tr><th scope=row>28</th><td>0.95577</td><td> 0.0</td><td>8.14</td><td>0</td><td>0.538</td><td>6.047</td><td> 88.8</td><td>4.4534</td><td>4</td><td>307</td><td>21.0</td><td>306.38</td><td>17.28</td><td>14.8</td></tr>\n",
       "\t<tr><th scope=row>29</th><td>0.77299</td><td> 0.0</td><td>8.14</td><td>0</td><td>0.538</td><td>6.495</td><td> 94.4</td><td>4.4547</td><td>4</td><td>307</td><td>21.0</td><td>387.94</td><td>12.80</td><td>18.4</td></tr>\n",
       "\t<tr><th scope=row>30</th><td>1.00245</td><td> 0.0</td><td>8.14</td><td>0</td><td>0.538</td><td>6.674</td><td> 87.3</td><td>4.2390</td><td>4</td><td>307</td><td>21.0</td><td>380.23</td><td>11.98</td><td>21.0</td></tr>\n",
       "\t<tr><th scope=row>⋮</th><td>⋮</td><td>⋮</td><td>⋮</td><td>⋮</td><td>⋮</td><td>⋮</td><td>⋮</td><td>⋮</td><td>⋮</td><td>⋮</td><td>⋮</td><td>⋮</td><td>⋮</td><td>⋮</td></tr>\n",
       "\t<tr><th scope=row>477</th><td> 4.87141</td><td>0</td><td>18.10</td><td>0</td><td>0.614</td><td>6.484</td><td>93.6</td><td>2.3053</td><td>24</td><td>666</td><td>20.2</td><td>396.21</td><td>18.68</td><td>16.7</td></tr>\n",
       "\t<tr><th scope=row>478</th><td>15.02340</td><td>0</td><td>18.10</td><td>0</td><td>0.614</td><td>5.304</td><td>97.3</td><td>2.1007</td><td>24</td><td>666</td><td>20.2</td><td>349.48</td><td>24.91</td><td>12.0</td></tr>\n",
       "\t<tr><th scope=row>479</th><td>10.23300</td><td>0</td><td>18.10</td><td>0</td><td>0.614</td><td>6.185</td><td>96.7</td><td>2.1705</td><td>24</td><td>666</td><td>20.2</td><td>379.70</td><td>18.03</td><td>14.6</td></tr>\n",
       "\t<tr><th scope=row>480</th><td>14.33370</td><td>0</td><td>18.10</td><td>0</td><td>0.614</td><td>6.229</td><td>88.0</td><td>1.9512</td><td>24</td><td>666</td><td>20.2</td><td>383.32</td><td>13.11</td><td>21.4</td></tr>\n",
       "\t<tr><th scope=row>481</th><td> 5.82401</td><td>0</td><td>18.10</td><td>0</td><td>0.532</td><td>6.242</td><td>64.7</td><td>3.4242</td><td>24</td><td>666</td><td>20.2</td><td>396.90</td><td>10.74</td><td>23.0</td></tr>\n",
       "\t<tr><th scope=row>482</th><td> 5.70818</td><td>0</td><td>18.10</td><td>0</td><td>0.532</td><td>6.750</td><td>74.9</td><td>3.3317</td><td>24</td><td>666</td><td>20.2</td><td>393.07</td><td> 7.74</td><td>23.7</td></tr>\n",
       "\t<tr><th scope=row>483</th><td> 5.73116</td><td>0</td><td>18.10</td><td>0</td><td>0.532</td><td>7.061</td><td>77.0</td><td>3.4106</td><td>24</td><td>666</td><td>20.2</td><td>395.28</td><td> 7.01</td><td>25.0</td></tr>\n",
       "\t<tr><th scope=row>484</th><td> 2.81838</td><td>0</td><td>18.10</td><td>0</td><td>0.532</td><td>5.762</td><td>40.3</td><td>4.0983</td><td>24</td><td>666</td><td>20.2</td><td>392.92</td><td>10.42</td><td>21.8</td></tr>\n",
       "\t<tr><th scope=row>485</th><td> 2.37857</td><td>0</td><td>18.10</td><td>0</td><td>0.583</td><td>5.871</td><td>41.9</td><td>3.7240</td><td>24</td><td>666</td><td>20.2</td><td>370.73</td><td>13.34</td><td>20.6</td></tr>\n",
       "\t<tr><th scope=row>486</th><td> 3.67367</td><td>0</td><td>18.10</td><td>0</td><td>0.583</td><td>6.312</td><td>51.9</td><td>3.9917</td><td>24</td><td>666</td><td>20.2</td><td>388.62</td><td>10.58</td><td>21.2</td></tr>\n",
       "\t<tr><th scope=row>487</th><td> 5.69175</td><td>0</td><td>18.10</td><td>0</td><td>0.583</td><td>6.114</td><td>79.8</td><td>3.5459</td><td>24</td><td>666</td><td>20.2</td><td>392.68</td><td>14.98</td><td>19.1</td></tr>\n",
       "\t<tr><th scope=row>488</th><td> 4.83567</td><td>0</td><td>18.10</td><td>0</td><td>0.583</td><td>5.905</td><td>53.2</td><td>3.1523</td><td>24</td><td>666</td><td>20.2</td><td>388.22</td><td>11.45</td><td>20.6</td></tr>\n",
       "\t<tr><th scope=row>489</th><td> 0.15086</td><td>0</td><td>27.74</td><td>0</td><td>0.609</td><td>5.454</td><td>92.7</td><td>1.8209</td><td> 4</td><td>711</td><td>20.1</td><td>395.09</td><td>18.06</td><td>15.2</td></tr>\n",
       "\t<tr><th scope=row>490</th><td> 0.18337</td><td>0</td><td>27.74</td><td>0</td><td>0.609</td><td>5.414</td><td>98.3</td><td>1.7554</td><td> 4</td><td>711</td><td>20.1</td><td>344.05</td><td>23.97</td><td> 7.0</td></tr>\n",
       "\t<tr><th scope=row>491</th><td> 0.20746</td><td>0</td><td>27.74</td><td>0</td><td>0.609</td><td>5.093</td><td>98.0</td><td>1.8226</td><td> 4</td><td>711</td><td>20.1</td><td>318.43</td><td>29.68</td><td> 8.1</td></tr>\n",
       "\t<tr><th scope=row>492</th><td> 0.10574</td><td>0</td><td>27.74</td><td>0</td><td>0.609</td><td>5.983</td><td>98.8</td><td>1.8681</td><td> 4</td><td>711</td><td>20.1</td><td>390.11</td><td>18.07</td><td>13.6</td></tr>\n",
       "\t<tr><th scope=row>493</th><td> 0.11132</td><td>0</td><td>27.74</td><td>0</td><td>0.609</td><td>5.983</td><td>83.5</td><td>2.1099</td><td> 4</td><td>711</td><td>20.1</td><td>396.90</td><td>13.35</td><td>20.1</td></tr>\n",
       "\t<tr><th scope=row>494</th><td> 0.17331</td><td>0</td><td> 9.69</td><td>0</td><td>0.585</td><td>5.707</td><td>54.0</td><td>2.3817</td><td> 6</td><td>391</td><td>19.2</td><td>396.90</td><td>12.01</td><td>21.8</td></tr>\n",
       "\t<tr><th scope=row>495</th><td> 0.27957</td><td>0</td><td> 9.69</td><td>0</td><td>0.585</td><td>5.926</td><td>42.6</td><td>2.3817</td><td> 6</td><td>391</td><td>19.2</td><td>396.90</td><td>13.59</td><td>24.5</td></tr>\n",
       "\t<tr><th scope=row>496</th><td> 0.17899</td><td>0</td><td> 9.69</td><td>0</td><td>0.585</td><td>5.670</td><td>28.8</td><td>2.7986</td><td> 6</td><td>391</td><td>19.2</td><td>393.29</td><td>17.60</td><td>23.1</td></tr>\n",
       "\t<tr><th scope=row>497</th><td> 0.28960</td><td>0</td><td> 9.69</td><td>0</td><td>0.585</td><td>5.390</td><td>72.9</td><td>2.7986</td><td> 6</td><td>391</td><td>19.2</td><td>396.90</td><td>21.14</td><td>19.7</td></tr>\n",
       "\t<tr><th scope=row>498</th><td> 0.26838</td><td>0</td><td> 9.69</td><td>0</td><td>0.585</td><td>5.794</td><td>70.6</td><td>2.8927</td><td> 6</td><td>391</td><td>19.2</td><td>396.90</td><td>14.10</td><td>18.3</td></tr>\n",
       "\t<tr><th scope=row>499</th><td> 0.23912</td><td>0</td><td> 9.69</td><td>0</td><td>0.585</td><td>6.019</td><td>65.3</td><td>2.4091</td><td> 6</td><td>391</td><td>19.2</td><td>396.90</td><td>12.92</td><td>21.2</td></tr>\n",
       "\t<tr><th scope=row>500</th><td> 0.17783</td><td>0</td><td> 9.69</td><td>0</td><td>0.585</td><td>5.569</td><td>73.5</td><td>2.3999</td><td> 6</td><td>391</td><td>19.2</td><td>395.77</td><td>15.10</td><td>17.5</td></tr>\n",
       "\t<tr><th scope=row>501</th><td> 0.22438</td><td>0</td><td> 9.69</td><td>0</td><td>0.585</td><td>6.027</td><td>79.7</td><td>2.4982</td><td> 6</td><td>391</td><td>19.2</td><td>396.90</td><td>14.33</td><td>16.8</td></tr>\n",
       "\t<tr><th scope=row>502</th><td> 0.06263</td><td>0</td><td>11.93</td><td>0</td><td>0.573</td><td>6.593</td><td>69.1</td><td>2.4786</td><td> 1</td><td>273</td><td>21.0</td><td>391.99</td><td> 9.67</td><td>22.4</td></tr>\n",
       "\t<tr><th scope=row>503</th><td> 0.04527</td><td>0</td><td>11.93</td><td>0</td><td>0.573</td><td>6.120</td><td>76.7</td><td>2.2875</td><td> 1</td><td>273</td><td>21.0</td><td>396.90</td><td> 9.08</td><td>20.6</td></tr>\n",
       "\t<tr><th scope=row>504</th><td> 0.06076</td><td>0</td><td>11.93</td><td>0</td><td>0.573</td><td>6.976</td><td>91.0</td><td>2.1675</td><td> 1</td><td>273</td><td>21.0</td><td>396.90</td><td> 5.64</td><td>23.9</td></tr>\n",
       "\t<tr><th scope=row>505</th><td> 0.10959</td><td>0</td><td>11.93</td><td>0</td><td>0.573</td><td>6.794</td><td>89.3</td><td>2.3889</td><td> 1</td><td>273</td><td>21.0</td><td>393.45</td><td> 6.48</td><td>22.0</td></tr>\n",
       "\t<tr><th scope=row>506</th><td> 0.04741</td><td>0</td><td>11.93</td><td>0</td><td>0.573</td><td>6.030</td><td>80.8</td><td>2.5050</td><td> 1</td><td>273</td><td>21.0</td><td>396.90</td><td> 7.88</td><td>11.9</td></tr>\n",
       "</tbody>\n",
       "</table>\n"
      ],
      "text/latex": [
       "A data.frame: 506 × 14\n",
       "\\begin{tabular}{r|llllllllllllll}\n",
       "  & crim & zn & indus & chas & nox & rm & age & dis & rad & tax & ptratio & black & lstat & medv\\\\\n",
       "  & <dbl> & <dbl> & <dbl> & <int> & <dbl> & <dbl> & <dbl> & <dbl> & <int> & <dbl> & <dbl> & <dbl> & <dbl> & <dbl>\\\\\n",
       "\\hline\n",
       "\t1 & 0.00632 & 18.0 & 2.31 & 0 & 0.538 & 6.575 &  65.2 & 4.0900 & 1 & 296 & 15.3 & 396.90 &  4.98 & 24.0\\\\\n",
       "\t2 & 0.02731 &  0.0 & 7.07 & 0 & 0.469 & 6.421 &  78.9 & 4.9671 & 2 & 242 & 17.8 & 396.90 &  9.14 & 21.6\\\\\n",
       "\t3 & 0.02729 &  0.0 & 7.07 & 0 & 0.469 & 7.185 &  61.1 & 4.9671 & 2 & 242 & 17.8 & 392.83 &  4.03 & 34.7\\\\\n",
       "\t4 & 0.03237 &  0.0 & 2.18 & 0 & 0.458 & 6.998 &  45.8 & 6.0622 & 3 & 222 & 18.7 & 394.63 &  2.94 & 33.4\\\\\n",
       "\t5 & 0.06905 &  0.0 & 2.18 & 0 & 0.458 & 7.147 &  54.2 & 6.0622 & 3 & 222 & 18.7 & 396.90 &  5.33 & 36.2\\\\\n",
       "\t6 & 0.02985 &  0.0 & 2.18 & 0 & 0.458 & 6.430 &  58.7 & 6.0622 & 3 & 222 & 18.7 & 394.12 &  5.21 & 28.7\\\\\n",
       "\t7 & 0.08829 & 12.5 & 7.87 & 0 & 0.524 & 6.012 &  66.6 & 5.5605 & 5 & 311 & 15.2 & 395.60 & 12.43 & 22.9\\\\\n",
       "\t8 & 0.14455 & 12.5 & 7.87 & 0 & 0.524 & 6.172 &  96.1 & 5.9505 & 5 & 311 & 15.2 & 396.90 & 19.15 & 27.1\\\\\n",
       "\t9 & 0.21124 & 12.5 & 7.87 & 0 & 0.524 & 5.631 & 100.0 & 6.0821 & 5 & 311 & 15.2 & 386.63 & 29.93 & 16.5\\\\\n",
       "\t10 & 0.17004 & 12.5 & 7.87 & 0 & 0.524 & 6.004 &  85.9 & 6.5921 & 5 & 311 & 15.2 & 386.71 & 17.10 & 18.9\\\\\n",
       "\t11 & 0.22489 & 12.5 & 7.87 & 0 & 0.524 & 6.377 &  94.3 & 6.3467 & 5 & 311 & 15.2 & 392.52 & 20.45 & 15.0\\\\\n",
       "\t12 & 0.11747 & 12.5 & 7.87 & 0 & 0.524 & 6.009 &  82.9 & 6.2267 & 5 & 311 & 15.2 & 396.90 & 13.27 & 18.9\\\\\n",
       "\t13 & 0.09378 & 12.5 & 7.87 & 0 & 0.524 & 5.889 &  39.0 & 5.4509 & 5 & 311 & 15.2 & 390.50 & 15.71 & 21.7\\\\\n",
       "\t14 & 0.62976 &  0.0 & 8.14 & 0 & 0.538 & 5.949 &  61.8 & 4.7075 & 4 & 307 & 21.0 & 396.90 &  8.26 & 20.4\\\\\n",
       "\t15 & 0.63796 &  0.0 & 8.14 & 0 & 0.538 & 6.096 &  84.5 & 4.4619 & 4 & 307 & 21.0 & 380.02 & 10.26 & 18.2\\\\\n",
       "\t16 & 0.62739 &  0.0 & 8.14 & 0 & 0.538 & 5.834 &  56.5 & 4.4986 & 4 & 307 & 21.0 & 395.62 &  8.47 & 19.9\\\\\n",
       "\t17 & 1.05393 &  0.0 & 8.14 & 0 & 0.538 & 5.935 &  29.3 & 4.4986 & 4 & 307 & 21.0 & 386.85 &  6.58 & 23.1\\\\\n",
       "\t18 & 0.78420 &  0.0 & 8.14 & 0 & 0.538 & 5.990 &  81.7 & 4.2579 & 4 & 307 & 21.0 & 386.75 & 14.67 & 17.5\\\\\n",
       "\t19 & 0.80271 &  0.0 & 8.14 & 0 & 0.538 & 5.456 &  36.6 & 3.7965 & 4 & 307 & 21.0 & 288.99 & 11.69 & 20.2\\\\\n",
       "\t20 & 0.72580 &  0.0 & 8.14 & 0 & 0.538 & 5.727 &  69.5 & 3.7965 & 4 & 307 & 21.0 & 390.95 & 11.28 & 18.2\\\\\n",
       "\t21 & 1.25179 &  0.0 & 8.14 & 0 & 0.538 & 5.570 &  98.1 & 3.7979 & 4 & 307 & 21.0 & 376.57 & 21.02 & 13.6\\\\\n",
       "\t22 & 0.85204 &  0.0 & 8.14 & 0 & 0.538 & 5.965 &  89.2 & 4.0123 & 4 & 307 & 21.0 & 392.53 & 13.83 & 19.6\\\\\n",
       "\t23 & 1.23247 &  0.0 & 8.14 & 0 & 0.538 & 6.142 &  91.7 & 3.9769 & 4 & 307 & 21.0 & 396.90 & 18.72 & 15.2\\\\\n",
       "\t24 & 0.98843 &  0.0 & 8.14 & 0 & 0.538 & 5.813 & 100.0 & 4.0952 & 4 & 307 & 21.0 & 394.54 & 19.88 & 14.5\\\\\n",
       "\t25 & 0.75026 &  0.0 & 8.14 & 0 & 0.538 & 5.924 &  94.1 & 4.3996 & 4 & 307 & 21.0 & 394.33 & 16.30 & 15.6\\\\\n",
       "\t26 & 0.84054 &  0.0 & 8.14 & 0 & 0.538 & 5.599 &  85.7 & 4.4546 & 4 & 307 & 21.0 & 303.42 & 16.51 & 13.9\\\\\n",
       "\t27 & 0.67191 &  0.0 & 8.14 & 0 & 0.538 & 5.813 &  90.3 & 4.6820 & 4 & 307 & 21.0 & 376.88 & 14.81 & 16.6\\\\\n",
       "\t28 & 0.95577 &  0.0 & 8.14 & 0 & 0.538 & 6.047 &  88.8 & 4.4534 & 4 & 307 & 21.0 & 306.38 & 17.28 & 14.8\\\\\n",
       "\t29 & 0.77299 &  0.0 & 8.14 & 0 & 0.538 & 6.495 &  94.4 & 4.4547 & 4 & 307 & 21.0 & 387.94 & 12.80 & 18.4\\\\\n",
       "\t30 & 1.00245 &  0.0 & 8.14 & 0 & 0.538 & 6.674 &  87.3 & 4.2390 & 4 & 307 & 21.0 & 380.23 & 11.98 & 21.0\\\\\n",
       "\t⋮ & ⋮ & ⋮ & ⋮ & ⋮ & ⋮ & ⋮ & ⋮ & ⋮ & ⋮ & ⋮ & ⋮ & ⋮ & ⋮ & ⋮\\\\\n",
       "\t477 &  4.87141 & 0 & 18.10 & 0 & 0.614 & 6.484 & 93.6 & 2.3053 & 24 & 666 & 20.2 & 396.21 & 18.68 & 16.7\\\\\n",
       "\t478 & 15.02340 & 0 & 18.10 & 0 & 0.614 & 5.304 & 97.3 & 2.1007 & 24 & 666 & 20.2 & 349.48 & 24.91 & 12.0\\\\\n",
       "\t479 & 10.23300 & 0 & 18.10 & 0 & 0.614 & 6.185 & 96.7 & 2.1705 & 24 & 666 & 20.2 & 379.70 & 18.03 & 14.6\\\\\n",
       "\t480 & 14.33370 & 0 & 18.10 & 0 & 0.614 & 6.229 & 88.0 & 1.9512 & 24 & 666 & 20.2 & 383.32 & 13.11 & 21.4\\\\\n",
       "\t481 &  5.82401 & 0 & 18.10 & 0 & 0.532 & 6.242 & 64.7 & 3.4242 & 24 & 666 & 20.2 & 396.90 & 10.74 & 23.0\\\\\n",
       "\t482 &  5.70818 & 0 & 18.10 & 0 & 0.532 & 6.750 & 74.9 & 3.3317 & 24 & 666 & 20.2 & 393.07 &  7.74 & 23.7\\\\\n",
       "\t483 &  5.73116 & 0 & 18.10 & 0 & 0.532 & 7.061 & 77.0 & 3.4106 & 24 & 666 & 20.2 & 395.28 &  7.01 & 25.0\\\\\n",
       "\t484 &  2.81838 & 0 & 18.10 & 0 & 0.532 & 5.762 & 40.3 & 4.0983 & 24 & 666 & 20.2 & 392.92 & 10.42 & 21.8\\\\\n",
       "\t485 &  2.37857 & 0 & 18.10 & 0 & 0.583 & 5.871 & 41.9 & 3.7240 & 24 & 666 & 20.2 & 370.73 & 13.34 & 20.6\\\\\n",
       "\t486 &  3.67367 & 0 & 18.10 & 0 & 0.583 & 6.312 & 51.9 & 3.9917 & 24 & 666 & 20.2 & 388.62 & 10.58 & 21.2\\\\\n",
       "\t487 &  5.69175 & 0 & 18.10 & 0 & 0.583 & 6.114 & 79.8 & 3.5459 & 24 & 666 & 20.2 & 392.68 & 14.98 & 19.1\\\\\n",
       "\t488 &  4.83567 & 0 & 18.10 & 0 & 0.583 & 5.905 & 53.2 & 3.1523 & 24 & 666 & 20.2 & 388.22 & 11.45 & 20.6\\\\\n",
       "\t489 &  0.15086 & 0 & 27.74 & 0 & 0.609 & 5.454 & 92.7 & 1.8209 &  4 & 711 & 20.1 & 395.09 & 18.06 & 15.2\\\\\n",
       "\t490 &  0.18337 & 0 & 27.74 & 0 & 0.609 & 5.414 & 98.3 & 1.7554 &  4 & 711 & 20.1 & 344.05 & 23.97 &  7.0\\\\\n",
       "\t491 &  0.20746 & 0 & 27.74 & 0 & 0.609 & 5.093 & 98.0 & 1.8226 &  4 & 711 & 20.1 & 318.43 & 29.68 &  8.1\\\\\n",
       "\t492 &  0.10574 & 0 & 27.74 & 0 & 0.609 & 5.983 & 98.8 & 1.8681 &  4 & 711 & 20.1 & 390.11 & 18.07 & 13.6\\\\\n",
       "\t493 &  0.11132 & 0 & 27.74 & 0 & 0.609 & 5.983 & 83.5 & 2.1099 &  4 & 711 & 20.1 & 396.90 & 13.35 & 20.1\\\\\n",
       "\t494 &  0.17331 & 0 &  9.69 & 0 & 0.585 & 5.707 & 54.0 & 2.3817 &  6 & 391 & 19.2 & 396.90 & 12.01 & 21.8\\\\\n",
       "\t495 &  0.27957 & 0 &  9.69 & 0 & 0.585 & 5.926 & 42.6 & 2.3817 &  6 & 391 & 19.2 & 396.90 & 13.59 & 24.5\\\\\n",
       "\t496 &  0.17899 & 0 &  9.69 & 0 & 0.585 & 5.670 & 28.8 & 2.7986 &  6 & 391 & 19.2 & 393.29 & 17.60 & 23.1\\\\\n",
       "\t497 &  0.28960 & 0 &  9.69 & 0 & 0.585 & 5.390 & 72.9 & 2.7986 &  6 & 391 & 19.2 & 396.90 & 21.14 & 19.7\\\\\n",
       "\t498 &  0.26838 & 0 &  9.69 & 0 & 0.585 & 5.794 & 70.6 & 2.8927 &  6 & 391 & 19.2 & 396.90 & 14.10 & 18.3\\\\\n",
       "\t499 &  0.23912 & 0 &  9.69 & 0 & 0.585 & 6.019 & 65.3 & 2.4091 &  6 & 391 & 19.2 & 396.90 & 12.92 & 21.2\\\\\n",
       "\t500 &  0.17783 & 0 &  9.69 & 0 & 0.585 & 5.569 & 73.5 & 2.3999 &  6 & 391 & 19.2 & 395.77 & 15.10 & 17.5\\\\\n",
       "\t501 &  0.22438 & 0 &  9.69 & 0 & 0.585 & 6.027 & 79.7 & 2.4982 &  6 & 391 & 19.2 & 396.90 & 14.33 & 16.8\\\\\n",
       "\t502 &  0.06263 & 0 & 11.93 & 0 & 0.573 & 6.593 & 69.1 & 2.4786 &  1 & 273 & 21.0 & 391.99 &  9.67 & 22.4\\\\\n",
       "\t503 &  0.04527 & 0 & 11.93 & 0 & 0.573 & 6.120 & 76.7 & 2.2875 &  1 & 273 & 21.0 & 396.90 &  9.08 & 20.6\\\\\n",
       "\t504 &  0.06076 & 0 & 11.93 & 0 & 0.573 & 6.976 & 91.0 & 2.1675 &  1 & 273 & 21.0 & 396.90 &  5.64 & 23.9\\\\\n",
       "\t505 &  0.10959 & 0 & 11.93 & 0 & 0.573 & 6.794 & 89.3 & 2.3889 &  1 & 273 & 21.0 & 393.45 &  6.48 & 22.0\\\\\n",
       "\t506 &  0.04741 & 0 & 11.93 & 0 & 0.573 & 6.030 & 80.8 & 2.5050 &  1 & 273 & 21.0 & 396.90 &  7.88 & 11.9\\\\\n",
       "\\end{tabular}\n"
      ],
      "text/markdown": [
       "\n",
       "A data.frame: 506 × 14\n",
       "\n",
       "| <!--/--> | crim &lt;dbl&gt; | zn &lt;dbl&gt; | indus &lt;dbl&gt; | chas &lt;int&gt; | nox &lt;dbl&gt; | rm &lt;dbl&gt; | age &lt;dbl&gt; | dis &lt;dbl&gt; | rad &lt;int&gt; | tax &lt;dbl&gt; | ptratio &lt;dbl&gt; | black &lt;dbl&gt; | lstat &lt;dbl&gt; | medv &lt;dbl&gt; |\n",
       "|---|---|---|---|---|---|---|---|---|---|---|---|---|---|---|\n",
       "| 1 | 0.00632 | 18.0 | 2.31 | 0 | 0.538 | 6.575 |  65.2 | 4.0900 | 1 | 296 | 15.3 | 396.90 |  4.98 | 24.0 |\n",
       "| 2 | 0.02731 |  0.0 | 7.07 | 0 | 0.469 | 6.421 |  78.9 | 4.9671 | 2 | 242 | 17.8 | 396.90 |  9.14 | 21.6 |\n",
       "| 3 | 0.02729 |  0.0 | 7.07 | 0 | 0.469 | 7.185 |  61.1 | 4.9671 | 2 | 242 | 17.8 | 392.83 |  4.03 | 34.7 |\n",
       "| 4 | 0.03237 |  0.0 | 2.18 | 0 | 0.458 | 6.998 |  45.8 | 6.0622 | 3 | 222 | 18.7 | 394.63 |  2.94 | 33.4 |\n",
       "| 5 | 0.06905 |  0.0 | 2.18 | 0 | 0.458 | 7.147 |  54.2 | 6.0622 | 3 | 222 | 18.7 | 396.90 |  5.33 | 36.2 |\n",
       "| 6 | 0.02985 |  0.0 | 2.18 | 0 | 0.458 | 6.430 |  58.7 | 6.0622 | 3 | 222 | 18.7 | 394.12 |  5.21 | 28.7 |\n",
       "| 7 | 0.08829 | 12.5 | 7.87 | 0 | 0.524 | 6.012 |  66.6 | 5.5605 | 5 | 311 | 15.2 | 395.60 | 12.43 | 22.9 |\n",
       "| 8 | 0.14455 | 12.5 | 7.87 | 0 | 0.524 | 6.172 |  96.1 | 5.9505 | 5 | 311 | 15.2 | 396.90 | 19.15 | 27.1 |\n",
       "| 9 | 0.21124 | 12.5 | 7.87 | 0 | 0.524 | 5.631 | 100.0 | 6.0821 | 5 | 311 | 15.2 | 386.63 | 29.93 | 16.5 |\n",
       "| 10 | 0.17004 | 12.5 | 7.87 | 0 | 0.524 | 6.004 |  85.9 | 6.5921 | 5 | 311 | 15.2 | 386.71 | 17.10 | 18.9 |\n",
       "| 11 | 0.22489 | 12.5 | 7.87 | 0 | 0.524 | 6.377 |  94.3 | 6.3467 | 5 | 311 | 15.2 | 392.52 | 20.45 | 15.0 |\n",
       "| 12 | 0.11747 | 12.5 | 7.87 | 0 | 0.524 | 6.009 |  82.9 | 6.2267 | 5 | 311 | 15.2 | 396.90 | 13.27 | 18.9 |\n",
       "| 13 | 0.09378 | 12.5 | 7.87 | 0 | 0.524 | 5.889 |  39.0 | 5.4509 | 5 | 311 | 15.2 | 390.50 | 15.71 | 21.7 |\n",
       "| 14 | 0.62976 |  0.0 | 8.14 | 0 | 0.538 | 5.949 |  61.8 | 4.7075 | 4 | 307 | 21.0 | 396.90 |  8.26 | 20.4 |\n",
       "| 15 | 0.63796 |  0.0 | 8.14 | 0 | 0.538 | 6.096 |  84.5 | 4.4619 | 4 | 307 | 21.0 | 380.02 | 10.26 | 18.2 |\n",
       "| 16 | 0.62739 |  0.0 | 8.14 | 0 | 0.538 | 5.834 |  56.5 | 4.4986 | 4 | 307 | 21.0 | 395.62 |  8.47 | 19.9 |\n",
       "| 17 | 1.05393 |  0.0 | 8.14 | 0 | 0.538 | 5.935 |  29.3 | 4.4986 | 4 | 307 | 21.0 | 386.85 |  6.58 | 23.1 |\n",
       "| 18 | 0.78420 |  0.0 | 8.14 | 0 | 0.538 | 5.990 |  81.7 | 4.2579 | 4 | 307 | 21.0 | 386.75 | 14.67 | 17.5 |\n",
       "| 19 | 0.80271 |  0.0 | 8.14 | 0 | 0.538 | 5.456 |  36.6 | 3.7965 | 4 | 307 | 21.0 | 288.99 | 11.69 | 20.2 |\n",
       "| 20 | 0.72580 |  0.0 | 8.14 | 0 | 0.538 | 5.727 |  69.5 | 3.7965 | 4 | 307 | 21.0 | 390.95 | 11.28 | 18.2 |\n",
       "| 21 | 1.25179 |  0.0 | 8.14 | 0 | 0.538 | 5.570 |  98.1 | 3.7979 | 4 | 307 | 21.0 | 376.57 | 21.02 | 13.6 |\n",
       "| 22 | 0.85204 |  0.0 | 8.14 | 0 | 0.538 | 5.965 |  89.2 | 4.0123 | 4 | 307 | 21.0 | 392.53 | 13.83 | 19.6 |\n",
       "| 23 | 1.23247 |  0.0 | 8.14 | 0 | 0.538 | 6.142 |  91.7 | 3.9769 | 4 | 307 | 21.0 | 396.90 | 18.72 | 15.2 |\n",
       "| 24 | 0.98843 |  0.0 | 8.14 | 0 | 0.538 | 5.813 | 100.0 | 4.0952 | 4 | 307 | 21.0 | 394.54 | 19.88 | 14.5 |\n",
       "| 25 | 0.75026 |  0.0 | 8.14 | 0 | 0.538 | 5.924 |  94.1 | 4.3996 | 4 | 307 | 21.0 | 394.33 | 16.30 | 15.6 |\n",
       "| 26 | 0.84054 |  0.0 | 8.14 | 0 | 0.538 | 5.599 |  85.7 | 4.4546 | 4 | 307 | 21.0 | 303.42 | 16.51 | 13.9 |\n",
       "| 27 | 0.67191 |  0.0 | 8.14 | 0 | 0.538 | 5.813 |  90.3 | 4.6820 | 4 | 307 | 21.0 | 376.88 | 14.81 | 16.6 |\n",
       "| 28 | 0.95577 |  0.0 | 8.14 | 0 | 0.538 | 6.047 |  88.8 | 4.4534 | 4 | 307 | 21.0 | 306.38 | 17.28 | 14.8 |\n",
       "| 29 | 0.77299 |  0.0 | 8.14 | 0 | 0.538 | 6.495 |  94.4 | 4.4547 | 4 | 307 | 21.0 | 387.94 | 12.80 | 18.4 |\n",
       "| 30 | 1.00245 |  0.0 | 8.14 | 0 | 0.538 | 6.674 |  87.3 | 4.2390 | 4 | 307 | 21.0 | 380.23 | 11.98 | 21.0 |\n",
       "| ⋮ | ⋮ | ⋮ | ⋮ | ⋮ | ⋮ | ⋮ | ⋮ | ⋮ | ⋮ | ⋮ | ⋮ | ⋮ | ⋮ | ⋮ |\n",
       "| 477 |  4.87141 | 0 | 18.10 | 0 | 0.614 | 6.484 | 93.6 | 2.3053 | 24 | 666 | 20.2 | 396.21 | 18.68 | 16.7 |\n",
       "| 478 | 15.02340 | 0 | 18.10 | 0 | 0.614 | 5.304 | 97.3 | 2.1007 | 24 | 666 | 20.2 | 349.48 | 24.91 | 12.0 |\n",
       "| 479 | 10.23300 | 0 | 18.10 | 0 | 0.614 | 6.185 | 96.7 | 2.1705 | 24 | 666 | 20.2 | 379.70 | 18.03 | 14.6 |\n",
       "| 480 | 14.33370 | 0 | 18.10 | 0 | 0.614 | 6.229 | 88.0 | 1.9512 | 24 | 666 | 20.2 | 383.32 | 13.11 | 21.4 |\n",
       "| 481 |  5.82401 | 0 | 18.10 | 0 | 0.532 | 6.242 | 64.7 | 3.4242 | 24 | 666 | 20.2 | 396.90 | 10.74 | 23.0 |\n",
       "| 482 |  5.70818 | 0 | 18.10 | 0 | 0.532 | 6.750 | 74.9 | 3.3317 | 24 | 666 | 20.2 | 393.07 |  7.74 | 23.7 |\n",
       "| 483 |  5.73116 | 0 | 18.10 | 0 | 0.532 | 7.061 | 77.0 | 3.4106 | 24 | 666 | 20.2 | 395.28 |  7.01 | 25.0 |\n",
       "| 484 |  2.81838 | 0 | 18.10 | 0 | 0.532 | 5.762 | 40.3 | 4.0983 | 24 | 666 | 20.2 | 392.92 | 10.42 | 21.8 |\n",
       "| 485 |  2.37857 | 0 | 18.10 | 0 | 0.583 | 5.871 | 41.9 | 3.7240 | 24 | 666 | 20.2 | 370.73 | 13.34 | 20.6 |\n",
       "| 486 |  3.67367 | 0 | 18.10 | 0 | 0.583 | 6.312 | 51.9 | 3.9917 | 24 | 666 | 20.2 | 388.62 | 10.58 | 21.2 |\n",
       "| 487 |  5.69175 | 0 | 18.10 | 0 | 0.583 | 6.114 | 79.8 | 3.5459 | 24 | 666 | 20.2 | 392.68 | 14.98 | 19.1 |\n",
       "| 488 |  4.83567 | 0 | 18.10 | 0 | 0.583 | 5.905 | 53.2 | 3.1523 | 24 | 666 | 20.2 | 388.22 | 11.45 | 20.6 |\n",
       "| 489 |  0.15086 | 0 | 27.74 | 0 | 0.609 | 5.454 | 92.7 | 1.8209 |  4 | 711 | 20.1 | 395.09 | 18.06 | 15.2 |\n",
       "| 490 |  0.18337 | 0 | 27.74 | 0 | 0.609 | 5.414 | 98.3 | 1.7554 |  4 | 711 | 20.1 | 344.05 | 23.97 |  7.0 |\n",
       "| 491 |  0.20746 | 0 | 27.74 | 0 | 0.609 | 5.093 | 98.0 | 1.8226 |  4 | 711 | 20.1 | 318.43 | 29.68 |  8.1 |\n",
       "| 492 |  0.10574 | 0 | 27.74 | 0 | 0.609 | 5.983 | 98.8 | 1.8681 |  4 | 711 | 20.1 | 390.11 | 18.07 | 13.6 |\n",
       "| 493 |  0.11132 | 0 | 27.74 | 0 | 0.609 | 5.983 | 83.5 | 2.1099 |  4 | 711 | 20.1 | 396.90 | 13.35 | 20.1 |\n",
       "| 494 |  0.17331 | 0 |  9.69 | 0 | 0.585 | 5.707 | 54.0 | 2.3817 |  6 | 391 | 19.2 | 396.90 | 12.01 | 21.8 |\n",
       "| 495 |  0.27957 | 0 |  9.69 | 0 | 0.585 | 5.926 | 42.6 | 2.3817 |  6 | 391 | 19.2 | 396.90 | 13.59 | 24.5 |\n",
       "| 496 |  0.17899 | 0 |  9.69 | 0 | 0.585 | 5.670 | 28.8 | 2.7986 |  6 | 391 | 19.2 | 393.29 | 17.60 | 23.1 |\n",
       "| 497 |  0.28960 | 0 |  9.69 | 0 | 0.585 | 5.390 | 72.9 | 2.7986 |  6 | 391 | 19.2 | 396.90 | 21.14 | 19.7 |\n",
       "| 498 |  0.26838 | 0 |  9.69 | 0 | 0.585 | 5.794 | 70.6 | 2.8927 |  6 | 391 | 19.2 | 396.90 | 14.10 | 18.3 |\n",
       "| 499 |  0.23912 | 0 |  9.69 | 0 | 0.585 | 6.019 | 65.3 | 2.4091 |  6 | 391 | 19.2 | 396.90 | 12.92 | 21.2 |\n",
       "| 500 |  0.17783 | 0 |  9.69 | 0 | 0.585 | 5.569 | 73.5 | 2.3999 |  6 | 391 | 19.2 | 395.77 | 15.10 | 17.5 |\n",
       "| 501 |  0.22438 | 0 |  9.69 | 0 | 0.585 | 6.027 | 79.7 | 2.4982 |  6 | 391 | 19.2 | 396.90 | 14.33 | 16.8 |\n",
       "| 502 |  0.06263 | 0 | 11.93 | 0 | 0.573 | 6.593 | 69.1 | 2.4786 |  1 | 273 | 21.0 | 391.99 |  9.67 | 22.4 |\n",
       "| 503 |  0.04527 | 0 | 11.93 | 0 | 0.573 | 6.120 | 76.7 | 2.2875 |  1 | 273 | 21.0 | 396.90 |  9.08 | 20.6 |\n",
       "| 504 |  0.06076 | 0 | 11.93 | 0 | 0.573 | 6.976 | 91.0 | 2.1675 |  1 | 273 | 21.0 | 396.90 |  5.64 | 23.9 |\n",
       "| 505 |  0.10959 | 0 | 11.93 | 0 | 0.573 | 6.794 | 89.3 | 2.3889 |  1 | 273 | 21.0 | 393.45 |  6.48 | 22.0 |\n",
       "| 506 |  0.04741 | 0 | 11.93 | 0 | 0.573 | 6.030 | 80.8 | 2.5050 |  1 | 273 | 21.0 | 396.90 |  7.88 | 11.9 |\n",
       "\n"
      ],
      "text/plain": [
       "    crim     zn   indus chas nox   rm    age   dis    rad tax ptratio black \n",
       "1   0.00632  18.0 2.31  0    0.538 6.575  65.2 4.0900 1   296 15.3    396.90\n",
       "2   0.02731   0.0 7.07  0    0.469 6.421  78.9 4.9671 2   242 17.8    396.90\n",
       "3   0.02729   0.0 7.07  0    0.469 7.185  61.1 4.9671 2   242 17.8    392.83\n",
       "4   0.03237   0.0 2.18  0    0.458 6.998  45.8 6.0622 3   222 18.7    394.63\n",
       "5   0.06905   0.0 2.18  0    0.458 7.147  54.2 6.0622 3   222 18.7    396.90\n",
       "6   0.02985   0.0 2.18  0    0.458 6.430  58.7 6.0622 3   222 18.7    394.12\n",
       "7   0.08829  12.5 7.87  0    0.524 6.012  66.6 5.5605 5   311 15.2    395.60\n",
       "8   0.14455  12.5 7.87  0    0.524 6.172  96.1 5.9505 5   311 15.2    396.90\n",
       "9   0.21124  12.5 7.87  0    0.524 5.631 100.0 6.0821 5   311 15.2    386.63\n",
       "10  0.17004  12.5 7.87  0    0.524 6.004  85.9 6.5921 5   311 15.2    386.71\n",
       "11  0.22489  12.5 7.87  0    0.524 6.377  94.3 6.3467 5   311 15.2    392.52\n",
       "12  0.11747  12.5 7.87  0    0.524 6.009  82.9 6.2267 5   311 15.2    396.90\n",
       "13  0.09378  12.5 7.87  0    0.524 5.889  39.0 5.4509 5   311 15.2    390.50\n",
       "14  0.62976   0.0 8.14  0    0.538 5.949  61.8 4.7075 4   307 21.0    396.90\n",
       "15  0.63796   0.0 8.14  0    0.538 6.096  84.5 4.4619 4   307 21.0    380.02\n",
       "16  0.62739   0.0 8.14  0    0.538 5.834  56.5 4.4986 4   307 21.0    395.62\n",
       "17  1.05393   0.0 8.14  0    0.538 5.935  29.3 4.4986 4   307 21.0    386.85\n",
       "18  0.78420   0.0 8.14  0    0.538 5.990  81.7 4.2579 4   307 21.0    386.75\n",
       "19  0.80271   0.0 8.14  0    0.538 5.456  36.6 3.7965 4   307 21.0    288.99\n",
       "20  0.72580   0.0 8.14  0    0.538 5.727  69.5 3.7965 4   307 21.0    390.95\n",
       "21  1.25179   0.0 8.14  0    0.538 5.570  98.1 3.7979 4   307 21.0    376.57\n",
       "22  0.85204   0.0 8.14  0    0.538 5.965  89.2 4.0123 4   307 21.0    392.53\n",
       "23  1.23247   0.0 8.14  0    0.538 6.142  91.7 3.9769 4   307 21.0    396.90\n",
       "24  0.98843   0.0 8.14  0    0.538 5.813 100.0 4.0952 4   307 21.0    394.54\n",
       "25  0.75026   0.0 8.14  0    0.538 5.924  94.1 4.3996 4   307 21.0    394.33\n",
       "26  0.84054   0.0 8.14  0    0.538 5.599  85.7 4.4546 4   307 21.0    303.42\n",
       "27  0.67191   0.0 8.14  0    0.538 5.813  90.3 4.6820 4   307 21.0    376.88\n",
       "28  0.95577   0.0 8.14  0    0.538 6.047  88.8 4.4534 4   307 21.0    306.38\n",
       "29  0.77299   0.0 8.14  0    0.538 6.495  94.4 4.4547 4   307 21.0    387.94\n",
       "30  1.00245   0.0 8.14  0    0.538 6.674  87.3 4.2390 4   307 21.0    380.23\n",
       "<U+22EE>   <U+22EE> <U+22EE> <U+22EE> <U+22EE> <U+22EE> <U+22EE> <U+22EE> <U+22EE> <U+22EE> <U+22EE> <U+22EE> <U+22EE>\n",
       "477  4.87141 0    18.10 0    0.614 6.484 93.6  2.3053 24  666 20.2    396.21\n",
       "478 15.02340 0    18.10 0    0.614 5.304 97.3  2.1007 24  666 20.2    349.48\n",
       "479 10.23300 0    18.10 0    0.614 6.185 96.7  2.1705 24  666 20.2    379.70\n",
       "480 14.33370 0    18.10 0    0.614 6.229 88.0  1.9512 24  666 20.2    383.32\n",
       "481  5.82401 0    18.10 0    0.532 6.242 64.7  3.4242 24  666 20.2    396.90\n",
       "482  5.70818 0    18.10 0    0.532 6.750 74.9  3.3317 24  666 20.2    393.07\n",
       "483  5.73116 0    18.10 0    0.532 7.061 77.0  3.4106 24  666 20.2    395.28\n",
       "484  2.81838 0    18.10 0    0.532 5.762 40.3  4.0983 24  666 20.2    392.92\n",
       "485  2.37857 0    18.10 0    0.583 5.871 41.9  3.7240 24  666 20.2    370.73\n",
       "486  3.67367 0    18.10 0    0.583 6.312 51.9  3.9917 24  666 20.2    388.62\n",
       "487  5.69175 0    18.10 0    0.583 6.114 79.8  3.5459 24  666 20.2    392.68\n",
       "488  4.83567 0    18.10 0    0.583 5.905 53.2  3.1523 24  666 20.2    388.22\n",
       "489  0.15086 0    27.74 0    0.609 5.454 92.7  1.8209  4  711 20.1    395.09\n",
       "490  0.18337 0    27.74 0    0.609 5.414 98.3  1.7554  4  711 20.1    344.05\n",
       "491  0.20746 0    27.74 0    0.609 5.093 98.0  1.8226  4  711 20.1    318.43\n",
       "492  0.10574 0    27.74 0    0.609 5.983 98.8  1.8681  4  711 20.1    390.11\n",
       "493  0.11132 0    27.74 0    0.609 5.983 83.5  2.1099  4  711 20.1    396.90\n",
       "494  0.17331 0     9.69 0    0.585 5.707 54.0  2.3817  6  391 19.2    396.90\n",
       "495  0.27957 0     9.69 0    0.585 5.926 42.6  2.3817  6  391 19.2    396.90\n",
       "496  0.17899 0     9.69 0    0.585 5.670 28.8  2.7986  6  391 19.2    393.29\n",
       "497  0.28960 0     9.69 0    0.585 5.390 72.9  2.7986  6  391 19.2    396.90\n",
       "498  0.26838 0     9.69 0    0.585 5.794 70.6  2.8927  6  391 19.2    396.90\n",
       "499  0.23912 0     9.69 0    0.585 6.019 65.3  2.4091  6  391 19.2    396.90\n",
       "500  0.17783 0     9.69 0    0.585 5.569 73.5  2.3999  6  391 19.2    395.77\n",
       "501  0.22438 0     9.69 0    0.585 6.027 79.7  2.4982  6  391 19.2    396.90\n",
       "502  0.06263 0    11.93 0    0.573 6.593 69.1  2.4786  1  273 21.0    391.99\n",
       "503  0.04527 0    11.93 0    0.573 6.120 76.7  2.2875  1  273 21.0    396.90\n",
       "504  0.06076 0    11.93 0    0.573 6.976 91.0  2.1675  1  273 21.0    396.90\n",
       "505  0.10959 0    11.93 0    0.573 6.794 89.3  2.3889  1  273 21.0    393.45\n",
       "506  0.04741 0    11.93 0    0.573 6.030 80.8  2.5050  1  273 21.0    396.90\n",
       "    lstat medv\n",
       "1    4.98 24.0\n",
       "2    9.14 21.6\n",
       "3    4.03 34.7\n",
       "4    2.94 33.4\n",
       "5    5.33 36.2\n",
       "6    5.21 28.7\n",
       "7   12.43 22.9\n",
       "8   19.15 27.1\n",
       "9   29.93 16.5\n",
       "10  17.10 18.9\n",
       "11  20.45 15.0\n",
       "12  13.27 18.9\n",
       "13  15.71 21.7\n",
       "14   8.26 20.4\n",
       "15  10.26 18.2\n",
       "16   8.47 19.9\n",
       "17   6.58 23.1\n",
       "18  14.67 17.5\n",
       "19  11.69 20.2\n",
       "20  11.28 18.2\n",
       "21  21.02 13.6\n",
       "22  13.83 19.6\n",
       "23  18.72 15.2\n",
       "24  19.88 14.5\n",
       "25  16.30 15.6\n",
       "26  16.51 13.9\n",
       "27  14.81 16.6\n",
       "28  17.28 14.8\n",
       "29  12.80 18.4\n",
       "30  11.98 21.0\n",
       "<U+22EE>   <U+22EE> <U+22EE>\n",
       "477 18.68 16.7\n",
       "478 24.91 12.0\n",
       "479 18.03 14.6\n",
       "480 13.11 21.4\n",
       "481 10.74 23.0\n",
       "482  7.74 23.7\n",
       "483  7.01 25.0\n",
       "484 10.42 21.8\n",
       "485 13.34 20.6\n",
       "486 10.58 21.2\n",
       "487 14.98 19.1\n",
       "488 11.45 20.6\n",
       "489 18.06 15.2\n",
       "490 23.97  7.0\n",
       "491 29.68  8.1\n",
       "492 18.07 13.6\n",
       "493 13.35 20.1\n",
       "494 12.01 21.8\n",
       "495 13.59 24.5\n",
       "496 17.60 23.1\n",
       "497 21.14 19.7\n",
       "498 14.10 18.3\n",
       "499 12.92 21.2\n",
       "500 15.10 17.5\n",
       "501 14.33 16.8\n",
       "502  9.67 22.4\n",
       "503  9.08 20.6\n",
       "504  5.64 23.9\n",
       "505  6.48 22.0\n",
       "506  7.88 11.9"
      ]
     },
     "metadata": {},
     "output_type": "display_data"
    },
    {
     "data": {
      "text/plain": [
       "\n",
       "Call:\n",
       "lm(formula = nox ~ poly(dis, 3, raw = T), data = Bos)\n",
       "\n",
       "Residuals:\n",
       "      Min        1Q    Median        3Q       Max \n",
       "-0.121130 -0.040619 -0.009738  0.023385  0.194904 \n",
       "\n",
       "Coefficients:\n",
       "                         Estimate Std. Error t value Pr(>|t|)    \n",
       "(Intercept)             0.9341281  0.0207076  45.110  < 2e-16 ***\n",
       "poly(dis, 3, raw = T)1 -0.1820817  0.0146973 -12.389  < 2e-16 ***\n",
       "poly(dis, 3, raw = T)2  0.0219277  0.0029329   7.476 3.43e-13 ***\n",
       "poly(dis, 3, raw = T)3 -0.0008850  0.0001727  -5.124 4.27e-07 ***\n",
       "---\n",
       "Signif. codes:  0 '***' 0.001 '**' 0.01 '*' 0.05 '.' 0.1 ' ' 1\n",
       "\n",
       "Residual standard error: 0.06207 on 502 degrees of freedom\n",
       "Multiple R-squared:  0.7148,\tAdjusted R-squared:  0.7131 \n",
       "F-statistic: 419.3 on 3 and 502 DF,  p-value: < 2.2e-16\n"
      ]
     },
     "metadata": {},
     "output_type": "display_data"
    },
    {
     "name": "stderr",
     "output_type": "stream",
     "text": [
      "Warning message:\n",
      "\"Computation failed in `stat_smooth()`:\n",
      "object 'nox' not found\"\n"
     ]
    },
    {
     "data": {
      "image/png": "[encoded data removed]",
      "text/plain": [
       "plot without title"
      ]
     },
     "metadata": {
      "image/png": {
       "height": 420,
       "width": 420
      }
     },
     "output_type": "display_data"
    }
   ],
   "source": [
    "#Exercise 9A:Use the poly() function to fit a cubic polynomial regression to predict nox using dis\n",
    "library(ISLR)\n",
    "library(MASS)\n",
    "\n",
    "Bos <- data.frame(Boston)\n",
    "Bos\n",
    "mod <- lm(nox ~ poly(dis, 3, raw = T), data = Bos)\n",
    "summary(mod)\n",
    "\n",
    "ggplot(Bos, aes(x = dis, y = nox)) + \n",
    "geom_point(alpha = 0.5) + \n",
    "geom_smooth(method = lm, formula = \"nox ~ poly(dis, 3, raw = T)\") + \n",
    "ggtitle(\"Cubic Polynomial Regression to Predict NOX\")\n",
    "\n",
    "#The end of the graph points will not fit into a curve"
   ]
  },
  {
   "cell_type": "code",
   "execution_count": 115,
   "id": "dfa41ccb",
   "metadata": {},
   "outputs": [
    {
     "data": {
      "image/png": "[encoded data removed]",
      "text/plain": [
       "plot without title"
      ]
     },
     "metadata": {
      "image/png": {
       "height": 420,
       "width": 420
      }
     },
     "output_type": "display_data"
    }
   ],
   "source": [
    "#Exercise 9B:Plot the polynomial fits for a range of different polynomial degrees (say, from 1 to 10), and report the associated residual sum of squares.\n",
    "polyfit <- rep(NA, 10)\n",
    "for (i in 1:10) {\n",
    "    fitted <- lm(nox ~ poly(dis, i), data = Bos)\n",
    "    polyfit[i] <- sum(fitted$residuals^2)}\n",
    "\n",
    "plot(1:10, polyfit, xlab = \"Degree\", ylab = \"RSS\", type = \"l\")\n",
    "\n",
    "#RSS decreases with degree of polymonials with a minimum degree of 10."
   ]
  },
  {
   "cell_type": "code",
   "execution_count": 116,
   "id": "3c12ac1e",
   "metadata": {},
   "outputs": [
    {
     "data": {
      "image/png": "[encoded data removed]",
      "text/plain": [
       "plot without title"
      ]
     },
     "metadata": {
      "image/png": {
       "height": 420,
       "width": 420
      }
     },
     "output_type": "display_data"
    }
   ],
   "source": [
    "#Exercise 9C:Perform cross-validation or another approach to select the optimal degree for the polynomial, and explain your results.\n",
    "crossval <- rep(NA, 10)\n",
    "for (i in 1:10) {\n",
    "    fitted <- glm(nox ~ poly(dis, i), data = Bos)\n",
    "    crossval [i] <- cv.glm(Bos, fitted, K = 10)$delta[1]\n",
    "}\n",
    "plot(1:10, crossval , xlab = \"Degree\", ylab = \"Test MSE\", type = \"l\")\n",
    "\n",
    "#From degree of 4 the polynomial minimizes Test MSE."
   ]
  },
  {
   "cell_type": "code",
   "execution_count": 146,
   "id": "d0eed5b3",
   "metadata": {},
   "outputs": [
    {
     "data": {
      "text/plain": [
       "\n",
       "Call:\n",
       "lm(formula = nox ~ splines::bs(Bos$dis, knots = c(4, 7, 11)), \n",
       "    data = Bos)\n",
       "\n",
       "Residuals:\n",
       "      Min        1Q    Median        3Q       Max \n",
       "-0.124567 -0.040355 -0.008702  0.024740  0.192920 \n",
       "\n",
       "Coefficients:\n",
       "                                           Estimate Std. Error t value Pr(>|t|)\n",
       "(Intercept)                                 0.73926    0.01331  55.537  < 2e-16\n",
       "splines::bs(Bos$dis, knots = c(4, 7, 11))1 -0.08861    0.02504  -3.539  0.00044\n",
       "splines::bs(Bos$dis, knots = c(4, 7, 11))2 -0.31341    0.01680 -18.658  < 2e-16\n",
       "splines::bs(Bos$dis, knots = c(4, 7, 11))3 -0.26618    0.03147  -8.459 3.00e-16\n",
       "splines::bs(Bos$dis, knots = c(4, 7, 11))4 -0.39802    0.04647  -8.565  < 2e-16\n",
       "splines::bs(Bos$dis, knots = c(4, 7, 11))5 -0.25681    0.09001  -2.853  0.00451\n",
       "splines::bs(Bos$dis, knots = c(4, 7, 11))6 -0.32926    0.06327  -5.204 2.85e-07\n",
       "                                              \n",
       "(Intercept)                                ***\n",
       "splines::bs(Bos$dis, knots = c(4, 7, 11))1 ***\n",
       "splines::bs(Bos$dis, knots = c(4, 7, 11))2 ***\n",
       "splines::bs(Bos$dis, knots = c(4, 7, 11))3 ***\n",
       "splines::bs(Bos$dis, knots = c(4, 7, 11))4 ***\n",
       "splines::bs(Bos$dis, knots = c(4, 7, 11))5 ** \n",
       "splines::bs(Bos$dis, knots = c(4, 7, 11))6 ***\n",
       "---\n",
       "Signif. codes:  0 '***' 0.001 '**' 0.01 '*' 0.05 '.' 0.1 ' ' 1\n",
       "\n",
       "Residual standard error: 0.06185 on 499 degrees of freedom\n",
       "Multiple R-squared:  0.7185,\tAdjusted R-squared:  0.7151 \n",
       "F-statistic: 212.3 on 6 and 499 DF,  p-value: < 2.2e-16\n"
      ]
     },
     "metadata": {},
     "output_type": "display_data"
    },
    {
     "data": {
      "image/png": "[encoded data removed]",
      "text/plain": [
       "plot without title"
      ]
     },
     "metadata": {
      "image/png": {
       "height": 420,
       "width": 420
      }
     },
     "output_type": "display_data"
    }
   ],
   "source": [
    "#Exercise 9D:Use the bs() function to fit a regression spline to predict nox using dis.\n",
    "library(gam)\n",
    "fitted <- lm(nox ~ splines::bs(Bos$dis, knots = c(4, 7, 11)), data = Bos)\n",
    "summary(fitted)\n",
    "\n",
    "ggplot(Bos, aes(x = dis, y = nox)) + \n",
    "  geom_vline(xintercept = attr(bs(Bos$dis, df = 3),\"knots\"), col = \"darkblue\", linetype = \"twodash\") +\n",
    "  geom_point(alpha = 0.3) + \n",
    "  geom_smooth(method = \"lm\", formula = \"y ~ poly(x, 3)\", aes(col = \"Orthogonal Cubic\")) + \n",
    "  geom_smooth(method = \"lm\", formula = \"y ~ poly(x, 3, raw = T)\", aes(col = \"Raw Cubic\")) + \n",
    "  geom_smooth(method = \"lm\", formula = \"y ~ bs(x, df = 3)\", aes(col = \"B-spline (no knots)\")) +\n",
    "  coord_cartesian(ylim = c(0.3, 0.9)) \n"
   ]
  },
  {
   "cell_type": "code",
   "execution_count": 148,
   "id": "3d699554",
   "metadata": {},
   "outputs": [
    {
     "data": {
      "image/png": "[encoded data removed]",
      "text/plain": [
       "plot without title"
      ]
     },
     "metadata": {
      "image/png": {
       "height": 420,
       "width": 420
      }
     },
     "output_type": "display_data"
    }
   ],
   "source": [
    "#Exercise 9E: Now fit a regression spline for a range of degrees of freedom, and plot the resulting fits and report the resulting RSS.\n",
    "RSSRes <- rep(NA, 16)\n",
    "for (i in 3:16) {\n",
    "    fitted <- lm(nox ~ bs(dis, df = i), data = Bos)\n",
    "    RSSRes[i] <- sum(fitted$residuals^2)}\n",
    "plot(3:16, RSSRes[-c(1, 2)], xlab = \"Degrees of freedom\", ylab = \"RSS\", type = \"l\")\n",
    "\n",
    "#RSS decreases over the degrees of freedom but at 14 it starts to increase"
   ]
  },
  {
   "cell_type": "code",
   "execution_count": 164,
   "id": "ac8d0780",
   "metadata": {},
   "outputs": [
    {
     "name": "stderr",
     "output_type": "stream",
     "text": [
      "Warning message in bs(dis, degree = 3L, knots = numeric(0), Boundary.knots = c(1.137, :\n",
      "\"some 'x' values beyond boundary knots may cause ill-conditioned bases\"\n",
      "Warning message in bs(dis, degree = 3L, knots = numeric(0), Boundary.knots = c(1.137, :\n",
      "\"some 'x' values beyond boundary knots may cause ill-conditioned bases\"\n",
      "Warning message in bs(dis, degree = 3L, knots = c(`50%` = 3.2157), Boundary.knots = c(1.137, :\n",
      "\"some 'x' values beyond boundary knots may cause ill-conditioned bases\"\n",
      "Warning message in bs(dis, degree = 3L, knots = c(`50%` = 3.2157), Boundary.knots = c(1.137, :\n",
      "\"some 'x' values beyond boundary knots may cause ill-conditioned bases\"\n",
      "Warning message in bs(dis, degree = 3L, knots = c(`50%` = 3.19095), Boundary.knots = c(1.1296, :\n",
      "\"some 'x' values beyond boundary knots may cause ill-conditioned bases\"\n",
      "Warning message in bs(dis, degree = 3L, knots = c(`50%` = 3.19095), Boundary.knots = c(1.1296, :\n",
      "\"some 'x' values beyond boundary knots may cause ill-conditioned bases\"\n",
      "Warning message in bs(dis, degree = 3L, knots = c(`33.33333%` = 2.3817, `66.66667%` = 4.166:\n",
      "\"some 'x' values beyond boundary knots may cause ill-conditioned bases\"\n",
      "Warning message in bs(dis, degree = 3L, knots = c(`33.33333%` = 2.3817, `66.66667%` = 4.166:\n",
      "\"some 'x' values beyond boundary knots may cause ill-conditioned bases\"\n",
      "Warning message in bs(dis, degree = 3L, knots = c(`33.33333%` = 2.40603333333333, :\n",
      "\"some 'x' values beyond boundary knots may cause ill-conditioned bases\"\n",
      "Warning message in bs(dis, degree = 3L, knots = c(`33.33333%` = 2.40603333333333, :\n",
      "\"some 'x' values beyond boundary knots may cause ill-conditioned bases\"\n",
      "Warning message in bs(dis, degree = 3L, knots = c(`25%` = 2.1088, `50%` = 3.2721, :\n",
      "\"some 'x' values beyond boundary knots may cause ill-conditioned bases\"\n",
      "Warning message in bs(dis, degree = 3L, knots = c(`25%` = 2.1088, `50%` = 3.2721, :\n",
      "\"some 'x' values beyond boundary knots may cause ill-conditioned bases\"\n",
      "Warning message in bs(dis, degree = 3L, knots = c(`25%` = 2.09345, `50%` = 3.1121, :\n",
      "\"some 'x' values beyond boundary knots may cause ill-conditioned bases\"\n",
      "Warning message in bs(dis, degree = 3L, knots = c(`25%` = 2.09345, `50%` = 3.1121, :\n",
      "\"some 'x' values beyond boundary knots may cause ill-conditioned bases\"\n",
      "Warning message in bs(dis, degree = 3L, knots = c(`20%` = 1.9784, `40%` = 2.7006, :\n",
      "\"some 'x' values beyond boundary knots may cause ill-conditioned bases\"\n",
      "Warning message in bs(dis, degree = 3L, knots = c(`20%` = 1.9784, `40%` = 2.7006, :\n",
      "\"some 'x' values beyond boundary knots may cause ill-conditioned bases\"\n",
      "Warning message in bs(dis, degree = 3L, knots = c(`20%` = 1.9356, `40%` = 2.5975, :\n",
      "\"some 'x' values beyond boundary knots may cause ill-conditioned bases\"\n",
      "Warning message in bs(dis, degree = 3L, knots = c(`20%` = 1.9356, `40%` = 2.5975, :\n",
      "\"some 'x' values beyond boundary knots may cause ill-conditioned bases\"\n",
      "Warning message in bs(dis, degree = 3L, knots = c(`16.66667%` = 1.86156666666667, :\n",
      "\"some 'x' values beyond boundary knots may cause ill-conditioned bases\"\n",
      "Warning message in bs(dis, degree = 3L, knots = c(`16.66667%` = 1.86156666666667, :\n",
      "\"some 'x' values beyond boundary knots may cause ill-conditioned bases\"\n",
      "Warning message in bs(dis, degree = 3L, knots = c(`16.66667%` = 1.86565, `33.33333%` = 2.41396666666667, :\n",
      "\"some 'x' values beyond boundary knots may cause ill-conditioned bases\"\n",
      "Warning message in bs(dis, degree = 3L, knots = c(`16.66667%` = 1.86565, `33.33333%` = 2.41396666666667, :\n",
      "\"some 'x' values beyond boundary knots may cause ill-conditioned bases\"\n",
      "Warning message in bs(dis, degree = 3L, knots = c(`14.28571%` = 1.79777142857143, :\n",
      "\"some 'x' values beyond boundary knots may cause ill-conditioned bases\"\n",
      "Warning message in bs(dis, degree = 3L, knots = c(`14.28571%` = 1.79777142857143, :\n",
      "\"some 'x' values beyond boundary knots may cause ill-conditioned bases\"\n",
      "Warning message in bs(dis, degree = 3L, knots = c(`14.28571%` = 1.79078571428571, :\n",
      "\"some 'x' values beyond boundary knots may cause ill-conditioned bases\"\n",
      "Warning message in bs(dis, degree = 3L, knots = c(`14.28571%` = 1.79078571428571, :\n",
      "\"some 'x' values beyond boundary knots may cause ill-conditioned bases\"\n",
      "Warning message in bs(dis, degree = 3L, knots = c(`12.5%` = 1.743225, `25%` = 2.09345, :\n",
      "\"some 'x' values beyond boundary knots may cause ill-conditioned bases\"\n",
      "Warning message in bs(dis, degree = 3L, knots = c(`12.5%` = 1.743225, `25%` = 2.09345, :\n",
      "\"some 'x' values beyond boundary knots may cause ill-conditioned bases\"\n",
      "Warning message in bs(dis, degree = 3L, knots = c(`12.5%` = 1.7573, `25%` = 2.1036, :\n",
      "\"some 'x' values beyond boundary knots may cause ill-conditioned bases\"\n",
      "Warning message in bs(dis, degree = 3L, knots = c(`12.5%` = 1.7573, `25%` = 2.1036, :\n",
      "\"some 'x' values beyond boundary knots may cause ill-conditioned bases\"\n",
      "Warning message in bs(dis, degree = 3L, knots = c(`11.11111%` = 1.73271111111111, :\n",
      "\"some 'x' values beyond boundary knots may cause ill-conditioned bases\"\n",
      "Warning message in bs(dis, degree = 3L, knots = c(`11.11111%` = 1.73271111111111, :\n",
      "\"some 'x' values beyond boundary knots may cause ill-conditioned bases\"\n",
      "Warning message in bs(dis, degree = 3L, knots = c(`11.11111%` = 1.68835555555556, :\n",
      "\"some 'x' values beyond boundary knots may cause ill-conditioned bases\"\n",
      "Warning message in bs(dis, degree = 3L, knots = c(`11.11111%` = 1.68835555555556, :\n",
      "\"some 'x' values beyond boundary knots may cause ill-conditioned bases\"\n",
      "Warning message in bs(dis, degree = 3L, knots = c(`10%` = 1.6156, `20%` = 1.9682, :\n",
      "\"some 'x' values beyond boundary knots may cause ill-conditioned bases\"\n",
      "Warning message in bs(dis, degree = 3L, knots = c(`10%` = 1.6156, `20%` = 1.9682, :\n",
      "\"some 'x' values beyond boundary knots may cause ill-conditioned bases\"\n"
     ]
    }
   ],
   "source": [
    "#Exercise 9F:Perform cross-validation or another approach in order to select the best degrees of freedom for a regression spline on this data.\n",
    "library(dplyr)\n",
    "set.seed(2)\n",
    "cv <- 1\n",
    "for (i in 3:12) {\n",
    "    fit <- glm(nox ~ bs(dis, df = i), data = Bos)\n",
    "    cv[i] <- cv.glm(Bos, fitted, K = 10)$delta[1]\n",
    "    \n",
    "}\n",
    "\n",
    "plot(3:16, cv[-c(1, 2)],xlab = \"Degrees of freedom\", ylab = \"Test MSE\", type = \"l\", ylim = c(0.4, 0.84))\n",
    "#The minimum cross validation is at 10 degrees"
   ]
  },
  {
   "cell_type": "code",
   "execution_count": 180,
   "id": "70707ce9",
   "metadata": {},
   "outputs": [
    {
     "data": {
      "text/html": [
       "0.7001287001287"
      ],
      "text/latex": [
       "0.7001287001287"
      ],
      "text/markdown": [
       "0.7001287001287"
      ],
      "text/plain": [
       "[1] 0.7001287"
      ]
     },
     "metadata": {},
     "output_type": "display_data"
    },
    {
     "data": {
      "text/html": [
       "0.2998712998713"
      ],
      "text/latex": [
       "0.2998712998713"
      ],
      "text/markdown": [
       "0.2998712998713"
      ],
      "text/plain": [
       "[1] 0.2998713"
      ]
     },
     "metadata": {},
     "output_type": "display_data"
    },
    {
     "name": "stderr",
     "output_type": "stream",
     "text": [
      "Warning message in train.default(x, y, weights = w, ...):\n",
      "\"The metric \"MSE\" was not in the result set. rmsle will be used instead.\"\n"
     ]
    },
    {
     "data": {
      "text/plain": [
       "Linear Regression with Forward Selection \n",
       "\n",
       "544 samples\n",
       " 17 predictor\n",
       "\n",
       "No pre-processing\n",
       "Resampling: Cross-Validated (10 fold, repeated 1 times) \n",
       "Summary of sample sizes: 491, 490, 491, 489, 491, 489, ... \n",
       "Resampling results across tuning parameters:\n",
       "\n",
       "  nvmax  rmsle    \n",
       "   1     0.3013617\n",
       "   2     0.2505721\n",
       "   3     0.2329073\n",
       "   4     0.2298363\n",
       "   5     0.2304827\n",
       "   6     0.2197898\n",
       "   7     0.2217847\n",
       "   8     0.2194695\n",
       "   9     0.2199638\n",
       "  10     0.2227089\n",
       "  11     0.2229851\n",
       "  12     0.2213640\n",
       "  13     0.2199621\n",
       "  14     0.2193924\n",
       "  15     0.2192868\n",
       "  16     0.2203517\n",
       "  17     0.2206354\n",
       "\n",
       "rmsle was used to select the optimal model using  the one SE rule.\n",
       "The final value used for the model was nvmax = 6."
      ]
     },
     "metadata": {},
     "output_type": "display_data"
    }
   ],
   "source": [
    "#Exercise 10:This question relates to the College data set.\n",
    "#Exercise 10A: Split the data into a training set and a test set.\n",
    "library(leaps)\n",
    "library(caret)\n",
    "library(Metrics)\n",
    "set.seed(5)\n",
    "trainindex <- sample(1:nrow(College), round(nrow(College) * 0.7))\n",
    "trained <- College[trainindex, ]\n",
    "nrow(trained) / nrow(College)\n",
    "\n",
    "tested <- College[-trainindex, ]\n",
    "nrow(tested) / nrow(College)\n",
    "\n",
    "rmsleMetrics <- function(data, lev = NULL, model = NULL){\n",
    "    out <- Metrics::rmsle(data$obs, data$pred)\n",
    "    names(out) <- c(\"rmsle\")\n",
    "    return (out)\n",
    "}\n",
    "\n",
    "control <- trainControl(method = \"repeatedcv\", \n",
    "                     number = 10, \n",
    "                     repeats = 1, \n",
    "                     summaryFunction = rmsleMetrics, \n",
    "                     selectionFunction = \"oneSE\")\n",
    "\n",
    "set.seed(15)\n",
    "\n",
    "modelward <- train(Outstate ~ .,\n",
    "                       data = trained,\n",
    "                       method = \"leapForward\",\n",
    "                       metric = \"MSE\",\n",
    "                       maximize = F,\n",
    "                       trControl = control,\n",
    "                       tuneGrid = data.frame(nvmax = 1:17))\n",
    "modelward\n",
    "\n",
    "library(leaps)\n",
    "set.seed(2)\n",
    "attach(College)\n",
    "\n",
    "train <- sample(length(Outstate), length(Outstate) / 2)\n",
    "test <- -train\n",
    "College.trained <- College[train, ]\n",
    "College.tested <- College[test, ]\n",
    "fitted <- regsubsets(Outstate ~ ., data = College.trained, nvmax = 17, method = \"forward\")\n",
    "fit.summary <- summary(fitted)\n",
    "par(mfrow = c(1, 3))\n",
    "plot(fit.summary$cp, xlab = \"Variables\", ylab = \"Cp\", type = \"l\")\n",
    "min.cp <- min(fit.summary$cp)\n",
    "std.cp <- sd(fit.summary$cp)\n",
    "abline(h = min.cp + 0.2 * std.cp, col = \"blue\", lty = 2)\n",
    "abline(h = min.cp - 0.2 * std.cp, col = \"blue\", lty = 2)\n",
    "plot(fit.summary$bic, xlab = \"Variables\", ylab = \"BIC\", type='l')\n",
    "min.bic <- min(fit.summary$bic)\n",
    "std.bic <- sd(fit.summary$bic)\n",
    "abline(h = min.bic + 0.2 * std.bic, col = \"blue\", lty = 2)\n",
    "abline(h = min.bic - 0.2 * std.bic, col = \"blue\", lty = 2)\n",
    "plot(fit.summary$adjr02, xlab = \"Variables\", ylab = \"R2\", type = \"l\", ylim = c(0.4, 0.84))\n",
    "max.adjr02 <- max(fit.summary$adjr02)\n",
    "std.adjr02 <- sd(fit.summary$adjr02)\n",
    "abline(h = max.adjr02 + 0.2 * std.adjr02, col = \"blue\", lty = 2)\n",
    "abline(h = max.adjr02 - 0.2 * std.adjr02, col = \"blue\", lty = 2)"
   ]
  },
  {
   "cell_type": "code",
   "execution_count": 191,
   "id": "41b261c8",
   "metadata": {},
   "outputs": [
    {
     "data": {
      "text/html": [
       "<style>\n",
       ".dl-inline {width: auto; margin:0; padding: 0}\n",
       ".dl-inline>dt, .dl-inline>dd {float: none; width: auto; display: inline-block}\n",
       ".dl-inline>dt::after {content: \":\\0020\"; padding-right: .5ex}\n",
       ".dl-inline>dt:not(:first-of-type) {padding-left: .5ex}\n",
       "</style><dl class=dl-inline><dt>(Intercept)</dt><dd>-4076.64239094457</dd><dt>PrivateYes</dt><dd>2674.14281575758</dd><dt>Room.Board</dt><dd>0.883881313161239</dd><dt>Terminal</dt><dd>38.9978045262416</dd><dt>perc.alumni</dt><dd>45.446860557993</dd><dt>Expend</dt><dd>0.242175334124015</dd><dt>Grad.Rate</dt><dd>35.2735430008332</dd></dl>\n"
      ],
      "text/latex": [
       "\\begin{description*}\n",
       "\\item[(Intercept)] -4076.64239094457\n",
       "\\item[PrivateYes] 2674.14281575758\n",
       "\\item[Room.Board] 0.883881313161239\n",
       "\\item[Terminal] 38.9978045262416\n",
       "\\item[perc.alumni] 45.446860557993\n",
       "\\item[Expend] 0.242175334124015\n",
       "\\item[Grad.Rate] 35.2735430008332\n",
       "\\end{description*}\n"
      ],
      "text/markdown": [
       "(Intercept)\n",
       ":   -4076.64239094457PrivateYes\n",
       ":   2674.14281575758Room.Board\n",
       ":   0.883881313161239Terminal\n",
       ":   38.9978045262416perc.alumni\n",
       ":   45.446860557993Expend\n",
       ":   0.242175334124015Grad.Rate\n",
       ":   35.2735430008332\n",
       "\n"
      ],
      "text/plain": [
       "  (Intercept)    PrivateYes    Room.Board      Terminal   perc.alumni \n",
       "-4076.6423909  2674.1428158     0.8838813    38.9978045    45.4468606 \n",
       "       Expend     Grad.Rate \n",
       "    0.2421753    35.2735430 "
      ]
     },
     "metadata": {},
     "output_type": "display_data"
    },
    {
     "data": {
      "image/png": "[encoded data removed]",
      "text/plain": [
       "plot without title"
      ]
     },
     "metadata": {
      "image/png": {
       "height": 420,
       "width": 420
      }
     },
     "output_type": "display_data"
    }
   ],
   "source": [
    "#Exercise 10B:Fit a GAM on the training data, using out-of-state tuition as the response and the features selected in the previous step as the predictors.\n",
    "coef(modelward$finalModel, id = 6)\n",
    "\n",
    "model1 <- gam(Outstate ~ Private + s(Room.Board) + s(PhD) + s(perc.alumni) + s(Expend) + s(Grad.Rate), data = trained)\n",
    "par(mfrow = c(2, 3))\n",
    "plot(model1, se = T, col = \"red\")\n"
   ]
  },
  {
   "cell_type": "code",
   "execution_count": 196,
   "id": "f0827592",
   "metadata": {},
   "outputs": [
    {
     "data": {
      "text/html": [
       "3513842.34137472"
      ],
      "text/latex": [
       "3513842.34137472"
      ],
      "text/markdown": [
       "3513842.34137472"
      ],
      "text/plain": [
       "[1] 3513842"
      ]
     },
     "metadata": {},
     "output_type": "display_data"
    },
    {
     "data": {
      "text/html": [
       "0.798237996296018"
      ],
      "text/latex": [
       "0.798237996296018"
      ],
      "text/markdown": [
       "0.798237996296018"
      ],
      "text/plain": [
       "[1] 0.798238"
      ]
     },
     "metadata": {},
     "output_type": "display_data"
    },
    {
     "data": {
      "text/html": [
       "4345195.61403297"
      ],
      "text/latex": [
       "4345195.61403297"
      ],
      "text/markdown": [
       "4345195.61403297"
      ],
      "text/plain": [
       "[1] 4345196"
      ]
     },
     "metadata": {},
     "output_type": "display_data"
    },
    {
     "data": {
      "text/html": [
       "0.750502359411477"
      ],
      "text/latex": [
       "0.750502359411477"
      ],
      "text/markdown": [
       "0.750502359411477"
      ],
      "text/plain": [
       "[1] 0.7505024"
      ]
     },
     "metadata": {},
     "output_type": "display_data"
    }
   ],
   "source": [
    "#Exercise 10C: Evaluate the model obtained on the test set, and explain the results obtained.\n",
    "mean((predict(model1, newdata = tested) - tested$Outstate)^2)\n",
    "\n",
    "testedTSS <- sum((tested$Outstate - mean(tested$Outstate))^2)\n",
    "testedRSS <- sum((predict(model1, newdata = tested) - tested$Outstate)^2)\n",
    "1 - testedRSS/testedTSS\n",
    "\n",
    "mean((predict(modelward, newdata = tested) - tested$Outstate)^2)\n",
    "testedRSS <- sum((predict(modelward, newdata = tested) - tested$Outstate)^2)\n",
    "1 - testedRSS/testedTSS\n",
    "\n",
    "#GAM has the best performance for test as there isn't any nonlinear relationship"
   ]
  },
  {
   "cell_type": "code",
   "execution_count": 197,
   "id": "b015e9a7",
   "metadata": {},
   "outputs": [
    {
     "data": {
      "text/plain": [
       "\n",
       "Call: gam(formula = Outstate ~ Private + s(Room.Board) + s(PhD) + s(perc.alumni) + \n",
       "    s(Expend) + s(Grad.Rate), data = trained)\n",
       "Deviance Residuals:\n",
       "     Min       1Q   Median       3Q      Max \n",
       "-7392.22 -1127.04    26.61  1269.44  4468.88 \n",
       "\n",
       "(Dispersion Parameter for gaussian family taken to be 3476500)\n",
       "\n",
       "    Null Deviance: 8500800916 on 543 degrees of freedom\n",
       "Residual Deviance: 1814732424 on 521.9998 degrees of freedom\n",
       "AIC: 9760.824 \n",
       "\n",
       "Number of Local Scoring Iterations: NA \n",
       "\n",
       "Anova for Parametric Effects\n",
       "                Df     Sum Sq    Mean Sq F value    Pr(>F)    \n",
       "Private          1 2360650553 2360650553 679.031 < 2.2e-16 ***\n",
       "s(Room.Board)    1 1636171079 1636171079 470.637 < 2.2e-16 ***\n",
       "s(PhD)           1  685004075  685004075 197.038 < 2.2e-16 ***\n",
       "s(perc.alumni)   1  336233748  336233748  96.716 < 2.2e-16 ***\n",
       "s(Expend)        1  567967331  567967331 163.373 < 2.2e-16 ***\n",
       "s(Grad.Rate)     1  123587495  123587495  35.549 4.584e-09 ***\n",
       "Residuals      522 1814732424    3476500                      \n",
       "---\n",
       "Signif. codes:  0 '***' 0.001 '**' 0.01 '*' 0.05 '.' 0.1 ' ' 1\n",
       "\n",
       "Anova for Nonparametric Effects\n",
       "               Npar Df  Npar F    Pr(F)    \n",
       "(Intercept)                                \n",
       "Private                                    \n",
       "s(Room.Board)        3  1.7876   0.1485    \n",
       "s(PhD)               3  1.0894   0.3531    \n",
       "s(perc.alumni)       3  0.9821   0.4008    \n",
       "s(Expend)            3 26.0262 1.11e-15 ***\n",
       "s(Grad.Rate)         3  1.5817   0.1928    \n",
       "---\n",
       "Signif. codes:  0 '***' 0.001 '**' 0.01 '*' 0.05 '.' 0.1 ' ' 1"
      ]
     },
     "metadata": {},
     "output_type": "display_data"
    },
    {
     "data": {
      "text/html": [
       "3533103.71920698"
      ],
      "text/latex": [
       "3533103.71920698"
      ],
      "text/markdown": [
       "3533103.71920698"
      ],
      "text/plain": [
       "[1] 3533104"
      ]
     },
     "metadata": {},
     "output_type": "display_data"
    },
    {
     "data": {
      "text/html": [
       "0.797132023458314"
      ],
      "text/latex": [
       "0.797132023458314"
      ],
      "text/markdown": [
       "0.797132023458314"
      ],
      "text/plain": [
       "[1] 0.797132"
      ]
     },
     "metadata": {},
     "output_type": "display_data"
    },
    {
     "data": {
      "text/html": [
       "4341052.9875519"
      ],
      "text/latex": [
       "4341052.9875519"
      ],
      "text/markdown": [
       "4341052.9875519"
      ],
      "text/plain": [
       "[1] 4341053"
      ]
     },
     "metadata": {},
     "output_type": "display_data"
    },
    {
     "data": {
      "text/html": [
       "0.750740225695225"
      ],
      "text/latex": [
       "0.750740225695225"
      ],
      "text/markdown": [
       "0.750740225695225"
      ],
      "text/plain": [
       "[1] 0.7507402"
      ]
     },
     "metadata": {},
     "output_type": "display_data"
    }
   ],
   "source": [
    "#Exercise 10D: For which variables, if any, is there evidence of a non-linear relationship with the response?\n",
    "summary(model1)\n",
    "model2 <- gam(Outstate ~ Private + s(Room.Board) + PhD + perc.alumni + s(Expend) + Grad.Rate, data = trained)\n",
    "mean((predict(model2, newdata = tested) - tested$Outstate)^2)\n",
    "\n",
    "testedRSS <- sum((predict(model2, newdata = tested) - tested$Outstate)^2)\n",
    "1 - testedRSS/testedTSS\n",
    "\n",
    "model3 <- gam(Outstate ~ Private + s(Room.Board) + PhD + perc.alumni + Expend + Grad.Rate, data = trained)\n",
    "mean((predict(model3, newdata = tested) - tested$Outstate)^2)\n",
    "testedRSS <- sum((predict(model3, newdata = tested) - tested$Outstate)^2)\n",
    "1 - testedRSS/testedTSS"
   ]
  }
 ],
 "metadata": {
  "kernelspec": {
   "display_name": "R",
   "language": "R",
   "name": "ir"
  },
  "language_info": {
   "codemirror_mode": "r",
   "file_extension": ".r",
   "mimetype": "text/x-r-source",
   "name": "R",
   "pygments_lexer": "r",
   "version": "4.0.5"
  }
 },
 "nbformat": 4,
 "nbformat_minor": 5
}

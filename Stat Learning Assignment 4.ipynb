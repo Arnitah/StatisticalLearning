{
 "cells": [
  {
   "cell_type": "markdown",
   "id": "137e5585",
   "metadata": {},
   "source": [
    "# STATISTICAL LEARNING ASSIGNMENT 4"
   ]
  },
  {
   "cell_type": "markdown",
   "id": "f87c4b8a",
   "metadata": {},
   "source": [
    "Chapter 8 Exercise 3: Consider the Gini index, classification error, and entropy in a simple classification setting with two classes.\n",
    "Create a single plot that displays each of these quantities as a function of ˆpm1. The xaxis should display ˆpm1, ranging from 0 to 1, and the y-axis should\n",
    "display the value of the Gini index, classification error, and entropy.\n",
    "\n",
    "Classification Error:\n",
    "\n",
    "E=1−maxk(p^mk)=1−max{p^m1,p^m2}\n",
    "\n",
    "Gini Index:\n",
    "\n",
    "G=∑k=1Kp^mk(1−p^mk)=p^m1(1−p^m1)+p^m2(1−p^m2)\n",
    "\n",
    "Entropy:\n",
    "\n",
    "D=−∑k=1Kp^mklog(p^mk)=−p^m1log(p^m1)−p^m2log(p^m2)\n",
    "\n",
    "\n",
    "E=1−max{70,20}≈0.1429\n",
    "G=70(1−70)+20(1−20)≈0.2449\n",
    "D=−70log(70)−20log(20)≈0.4101"
   ]
  },
  {
   "cell_type": "code",
   "execution_count": 8,
   "id": "e61e73d6",
   "metadata": {},
   "outputs": [
    {
     "name": "stderr",
     "output_type": "stream",
     "text": [
      "Warning message:\n",
      "\"Removed 2 row(s) containing missing values (geom_path).\"\n"
     ]
    },
    {
     "data": {
      "image/png": "[encoded data removed]",
      "text/plain": [
       "plot without title"
      ]
     },
     "metadata": {
      "image/png": {
       "height": 420,
       "width": 420
      }
     },
     "output_type": "display_data"
    }
   ],
   "source": [
    "#Libraries for this exercise\n",
    "library(ggplot2)\n",
    "library(dplyr)\n",
    "library(tidyr)\n",
    "\n",
    "#Chapter 8 Exercise 3 Solution \n",
    "\n",
    "propclass01 <- seq(0, 1, 0.001)\n",
    "\n",
    "propclass02 <- 1 - propclass01\n",
    "\n",
    "classerror <- 1 - pmax(propclass01, propclass02)\n",
    "\n",
    "giniindex <- propclass01*(1-propclass01) + propclass02*(1-propclass02)\n",
    "\n",
    "entropy <- -propclass01*log(propclass01) - propclass02*log(propclass02)\n",
    "\n",
    "\n",
    "data.frame(propclass01, propclass02, classerror, giniindex, entropy) %>%\n",
    "  pivot_longer(cols = c(classerror, giniindex, entropy), names_to = \"metric\") %>%\n",
    "  ggplot(aes(x = propclass01, y = value, col = factor(metric))) + \n",
    "  geom_line(size = 1) + \n",
    "  scale_y_continuous(breaks = seq(0, 1, 0.1), minor_breaks = NULL) + \n",
    "  scale_color_hue(labels = c(\"Classification Error\", \"Entropy\", \"Gini Index\")) +\n",
    "  labs(col = \"Metric\", \n",
    "       y = \"Value\", \n",
    "       x = \"Proportion (of class '01')\")\n"
   ]
  },
  {
   "cell_type": "code",
   "execution_count": 14,
   "id": "a97210be",
   "metadata": {},
   "outputs": [
    {
     "data": {
      "text/html": [
       "6"
      ],
      "text/latex": [
       "6"
      ],
      "text/markdown": [
       "6"
      ],
      "text/plain": [
       "[1] 6"
      ]
     },
     "metadata": {},
     "output_type": "display_data"
    },
    {
     "data": {
      "text/html": [
       "4"
      ],
      "text/latex": [
       "4"
      ],
      "text/markdown": [
       "4"
      ],
      "text/plain": [
       "[1] 4"
      ]
     },
     "metadata": {},
     "output_type": "display_data"
    },
    {
     "data": {
      "text/html": [
       "'Red'"
      ],
      "text/latex": [
       "'Red'"
      ],
      "text/markdown": [
       "'Red'"
      ],
      "text/plain": [
       "[1] \"Red\""
      ]
     },
     "metadata": {},
     "output_type": "display_data"
    },
    {
     "data": {
      "text/html": [
       "0.45"
      ],
      "text/latex": [
       "0.45"
      ],
      "text/markdown": [
       "0.45"
      ],
      "text/plain": [
       "[1] 0.45"
      ]
     },
     "metadata": {},
     "output_type": "display_data"
    },
    {
     "data": {
      "text/html": [
       "'Green'"
      ],
      "text/latex": [
       "'Green'"
      ],
      "text/markdown": [
       "'Green'"
      ],
      "text/plain": [
       "[1] \"Green\""
      ]
     },
     "metadata": {},
     "output_type": "display_data"
    }
   ],
   "source": [
    "#Chapter 8 Exercise 5: Suppose we produce ten bootstrapped samples from a data set containing red and green classes.\n",
    "probab <- c(0.1, 0.15, 0.2, 0.2, 0.55, 0.6, 0.6, 0.65, 0.7, 0.75)\n",
    "#Number of 'Red' prediction\n",
    "sum(probab >= 0.5) \n",
    "#Number of 'Green' prediction\n",
    "sum(probab < 0.5) \n",
    "ifelse(sum(probab >= 0.5) > sum(probab < 0.5), \"Red\", \"Green\")\n",
    "#Average P(Red)\n",
    "mean(probab) \n",
    "ifelse(mean(probab) >= 0.5, \"Red\", \"Green\")"
   ]
  },
  {
   "cell_type": "code",
   "execution_count": 24,
   "id": "c9dee080",
   "metadata": {},
   "outputs": [
    {
     "name": "stderr",
     "output_type": "stream",
     "text": [
      "Warning message in set.seed(2, sample.kind = \"Rounding\"):\n",
      "\"non-uniform 'Rounding' sampler used\"\n"
     ]
    }
   ],
   "source": [
    "#Chapter 8 Exercise 8:Classification tree was applied to the Carseats data set after converting Sales into a qualitative response variable\n",
    "library(ISLR)\n",
    "library(MASS)\n",
    "library(tree)\n",
    "data(Boston)\n",
    "\n",
    "#Exercise 8A:Split the data set into a training set and a test set.\n",
    "#This allows us to match the same train/test split\n",
    "set.seed(2, sample.kind = \"Rounding\") \n",
    "\n",
    "trainind <- sample(1:nrow(Carseats), nrow(Carseats) / 2)\n",
    "\n",
    "traindataset <- Carseats[trainind, ] \n",
    "testdataset <- Carseats[-trainind, ]"
   ]
  },
  {
   "cell_type": "code",
   "execution_count": 28,
   "id": "6459618d",
   "metadata": {},
   "outputs": [
    {
     "data": {
      "text/plain": [
       "\n",
       "Regression tree:\n",
       "tree(formula = Sales ~ ., data = traindataset)\n",
       "Variables actually used in tree construction:\n",
       "[1] \"ShelveLoc\"   \"Price\"       \"Age\"         \"Income\"      \"CompPrice\"  \n",
       "[6] \"Population\"  \"Advertising\"\n",
       "Number of terminal nodes:  17 \n",
       "Residual mean deviance:  2.341 = 428.4 / 183 \n",
       "Distribution of residuals:\n",
       "    Min.  1st Qu.   Median     Mean  3rd Qu.     Max. \n",
       "-3.76700 -1.00900 -0.01558  0.00000  0.94900  3.58600 "
      ]
     },
     "metadata": {},
     "output_type": "display_data"
    },
    {
     "data": {
      "text/html": [
       "4.84499143801121"
      ],
      "text/latex": [
       "4.84499143801121"
      ],
      "text/markdown": [
       "4.84499143801121"
      ],
      "text/plain": [
       "[1] 4.844991"
      ]
     },
     "metadata": {},
     "output_type": "display_data"
    },
    {
     "data": {
      "text/html": [
       "8.08505646"
      ],
      "text/latex": [
       "8.08505646"
      ],
      "text/markdown": [
       "8.08505646"
      ],
      "text/plain": [
       "[1] 8.085056"
      ]
     },
     "metadata": {},
     "output_type": "display_data"
    },
    {
     "data": {
      "image/png": "[encoded data removed]",
      "text/plain": [
       "plot without title"
      ]
     },
     "metadata": {
      "image/png": {
       "height": 420,
       "width": 420
      }
     },
     "output_type": "display_data"
    }
   ],
   "source": [
    "#Exercise 8B: Fit a regression tree to the training set. Plot the tree, and interpret the results. What test MSE do you obtain?\n",
    "treemodel <- tree(Sales ~ ., traindataset)\n",
    "\n",
    "plot(treemodel)\n",
    "text(treemodel, pretty = 0, cex = 0.7)\n",
    "\n",
    "summary(treemodel)\n",
    "testpred <- predict(treemodel, testdataset)\n",
    "mean((testpred - testdataset$Sales)^2)\n",
    "\n",
    "basetestpred <- mean(traindataset$Sales)\n",
    "mean((basetestpred - testdataset$Sales)^2)\n",
    "#Because ShelveLoc and Price appear at the top of the tree, we can conclude that they are the two most important factors in predicting car seat sales"
   ]
  },
  {
   "cell_type": "code",
   "execution_count": 34,
   "id": "ae11e31a",
   "metadata": {},
   "outputs": [
    {
     "data": {
      "text/html": [
       "4.84499143801121"
      ],
      "text/latex": [
       "4.84499143801121"
      ],
      "text/markdown": [
       "4.84499143801121"
      ],
      "text/plain": [
       "[1] 4.844991"
      ]
     },
     "metadata": {},
     "output_type": "display_data"
    },
    {
     "data": {
      "text/html": [
       "<table class=\"dataframe\">\n",
       "<caption>A data.frame: 16 × 3</caption>\n",
       "<thead>\n",
       "\t<tr><th scope=col>size</th><th scope=col>dev</th><th scope=col>k</th></tr>\n",
       "\t<tr><th scope=col>&lt;int&gt;</th><th scope=col>&lt;dbl&gt;</th><th scope=col>&lt;dbl&gt;</th></tr>\n",
       "</thead>\n",
       "<tbody>\n",
       "\t<tr><td>17</td><td> 996.5117</td><td>     -Inf</td></tr>\n",
       "\t<tr><td>16</td><td> 998.3865</td><td> 16.25730</td></tr>\n",
       "\t<tr><td>15</td><td>1008.3807</td><td> 19.34054</td></tr>\n",
       "\t<tr><td>14</td><td>1032.8005</td><td> 21.45248</td></tr>\n",
       "\t<tr><td>13</td><td>1032.2548</td><td> 22.09786</td></tr>\n",
       "\t<tr><td>12</td><td>1124.1770</td><td> 31.59872</td></tr>\n",
       "\t<tr><td>11</td><td>1130.3090</td><td> 32.10994</td></tr>\n",
       "\t<tr><td>10</td><td>1125.5635</td><td> 35.48396</td></tr>\n",
       "\t<tr><td> 9</td><td>1142.3155</td><td> 42.57770</td></tr>\n",
       "\t<tr><td> 7</td><td>1142.3155</td><td> 43.06856</td></tr>\n",
       "\t<tr><td> 6</td><td>1165.2758</td><td> 46.54477</td></tr>\n",
       "\t<tr><td> 5</td><td>1166.0119</td><td> 47.65604</td></tr>\n",
       "\t<tr><td> 4</td><td>1147.0774</td><td> 80.06393</td></tr>\n",
       "\t<tr><td> 3</td><td>1166.6474</td><td>108.73209</td></tr>\n",
       "\t<tr><td> 2</td><td>1213.4513</td><td>146.62539</td></tr>\n",
       "\t<tr><td> 1</td><td>1600.1608</td><td>406.17230</td></tr>\n",
       "</tbody>\n",
       "</table>\n"
      ],
      "text/latex": [
       "A data.frame: 16 × 3\n",
       "\\begin{tabular}{lll}\n",
       " size & dev & k\\\\\n",
       " <int> & <dbl> & <dbl>\\\\\n",
       "\\hline\n",
       "\t 17 &  996.5117 &      -Inf\\\\\n",
       "\t 16 &  998.3865 &  16.25730\\\\\n",
       "\t 15 & 1008.3807 &  19.34054\\\\\n",
       "\t 14 & 1032.8005 &  21.45248\\\\\n",
       "\t 13 & 1032.2548 &  22.09786\\\\\n",
       "\t 12 & 1124.1770 &  31.59872\\\\\n",
       "\t 11 & 1130.3090 &  32.10994\\\\\n",
       "\t 10 & 1125.5635 &  35.48396\\\\\n",
       "\t  9 & 1142.3155 &  42.57770\\\\\n",
       "\t  7 & 1142.3155 &  43.06856\\\\\n",
       "\t  6 & 1165.2758 &  46.54477\\\\\n",
       "\t  5 & 1166.0119 &  47.65604\\\\\n",
       "\t  4 & 1147.0774 &  80.06393\\\\\n",
       "\t  3 & 1166.6474 & 108.73209\\\\\n",
       "\t  2 & 1213.4513 & 146.62539\\\\\n",
       "\t  1 & 1600.1608 & 406.17230\\\\\n",
       "\\end{tabular}\n"
      ],
      "text/markdown": [
       "\n",
       "A data.frame: 16 × 3\n",
       "\n",
       "| size &lt;int&gt; | dev &lt;dbl&gt; | k &lt;dbl&gt; |\n",
       "|---|---|---|\n",
       "| 17 |  996.5117 |      -Inf |\n",
       "| 16 |  998.3865 |  16.25730 |\n",
       "| 15 | 1008.3807 |  19.34054 |\n",
       "| 14 | 1032.8005 |  21.45248 |\n",
       "| 13 | 1032.2548 |  22.09786 |\n",
       "| 12 | 1124.1770 |  31.59872 |\n",
       "| 11 | 1130.3090 |  32.10994 |\n",
       "| 10 | 1125.5635 |  35.48396 |\n",
       "|  9 | 1142.3155 |  42.57770 |\n",
       "|  7 | 1142.3155 |  43.06856 |\n",
       "|  6 | 1165.2758 |  46.54477 |\n",
       "|  5 | 1166.0119 |  47.65604 |\n",
       "|  4 | 1147.0774 |  80.06393 |\n",
       "|  3 | 1166.6474 | 108.73209 |\n",
       "|  2 | 1213.4513 | 146.62539 |\n",
       "|  1 | 1600.1608 | 406.17230 |\n",
       "\n"
      ],
      "text/plain": [
       "   size dev       k        \n",
       "1  17    996.5117      -Inf\n",
       "2  16    998.3865  16.25730\n",
       "3  15   1008.3807  19.34054\n",
       "4  14   1032.8005  21.45248\n",
       "5  13   1032.2548  22.09786\n",
       "6  12   1124.1770  31.59872\n",
       "7  11   1130.3090  32.10994\n",
       "8  10   1125.5635  35.48396\n",
       "9   9   1142.3155  42.57770\n",
       "10  7   1142.3155  43.06856\n",
       "11  6   1165.2758  46.54477\n",
       "12  5   1166.0119  47.65604\n",
       "13  4   1147.0774  80.06393\n",
       "14  3   1166.6474 108.73209\n",
       "15  2   1213.4513 146.62539\n",
       "16  1   1600.1608 406.17230"
      ]
     },
     "metadata": {},
     "output_type": "display_data"
    },
    {
     "data": {
      "image/png": "[encoded data removed]",
      "text/plain": [
       "plot without title"
      ]
     },
     "metadata": {
      "image/png": {
       "height": 420,
       "width": 420
      }
     },
     "output_type": "display_data"
    }
   ],
   "source": [
    "#Exercise 8C:Use cross-validation in order to determine the optimal level of tree complexity. Does pruning the tree improve the test MSE? \n",
    "set.seed(3)\n",
    "\n",
    "cvtreemodel <- cv.tree(treemodel, K = 10)\n",
    "\n",
    "data.frame(n_leaves = cvtreemodel$size,\n",
    "           CVRSS = cvtreemodel$dev) %>%\n",
    "  mutate(min_CVRSS = as.numeric(min(CVRSS) == CVRSS)) %>%\n",
    "  ggplot(aes(x = n_leaves, y = CVRSS)) +\n",
    "  geom_line(col = \"deepskyblue\") +\n",
    "  geom_point(size = 2, aes(col = factor(min_CVRSS))) +\n",
    "  scale_x_continuous(breaks = seq(1, 17, 2)) +\n",
    "  scale_y_continuous(labels = scales::comma_format()) +\n",
    "  scale_color_manual(values = c(\"red\", \"green\")) +\n",
    "  theme(legend.position = \"none\") +\n",
    "  labs(title = \"Carseats Dataset - Regression Tree\",\n",
    "       subtitle = \"Selecting the complexity parameter with cross-validation\",\n",
    "       x = \"Terminal Nodes\",\n",
    "       y = \"CV RSS\")\n",
    "\n",
    "#We would select a smaller sub-tree, in this case the full tree with 17 terminal nodes is selected (best = 17)\n",
    "\n",
    "prunedtreemodel <- prune.tree(treemodel, best = 17)\n",
    "testpred <- predict(prunedtreemodel, testdataset)\n",
    "mean((testpred - testdataset$Sales)^2)\n",
    "\n",
    "data.frame(size = cvtreemodel$size, \n",
    "           dev = cvtreemodel$dev, \n",
    "           k = cvtreemodel$k)\n",
    "#k seems to to be capable of handling both -Inf and 0 values, resulting in models with varying numbers of terminal nodes"
   ]
  },
  {
   "cell_type": "code",
   "execution_count": 41,
   "id": "733dbf34",
   "metadata": {},
   "outputs": [
    {
     "data": {
      "text/html": [
       "2.36867427674614"
      ],
      "text/latex": [
       "2.36867427674614"
      ],
      "text/markdown": [
       "2.36867427674614"
      ],
      "text/plain": [
       "[1] 2.368674"
      ]
     },
     "metadata": {},
     "output_type": "display_data"
    },
    {
     "data": {
      "text/html": [
       "<table class=\"dataframe\">\n",
       "<caption>A data.frame: 10 × 3</caption>\n",
       "<thead>\n",
       "\t<tr><th scope=col>varname</th><th scope=col>%IncMSE</th><th scope=col>IncNodePurity</th></tr>\n",
       "\t<tr><th scope=col>&lt;chr&gt;</th><th scope=col>&lt;dbl&gt;</th><th scope=col>&lt;dbl&gt;</th></tr>\n",
       "</thead>\n",
       "<tbody>\n",
       "\t<tr><td>Price      </td><td>55.76266629</td><td>493.804969</td></tr>\n",
       "\t<tr><td>ShelveLoc  </td><td>53.87451311</td><td>446.816951</td></tr>\n",
       "\t<tr><td>CompPrice  </td><td>25.47984338</td><td>173.982449</td></tr>\n",
       "\t<tr><td>Age        </td><td>12.07366106</td><td>117.502364</td></tr>\n",
       "\t<tr><td>Advertising</td><td>13.97464644</td><td> 96.929928</td></tr>\n",
       "\t<tr><td>Income     </td><td> 1.72616791</td><td> 71.465227</td></tr>\n",
       "\t<tr><td>Population </td><td> 1.01449985</td><td> 68.297498</td></tr>\n",
       "\t<tr><td>Education  </td><td> 0.08382003</td><td> 37.513944</td></tr>\n",
       "\t<tr><td>Urban      </td><td>-3.06299457</td><td>  6.909530</td></tr>\n",
       "\t<tr><td>US         </td><td> 0.14346468</td><td>  5.985091</td></tr>\n",
       "</tbody>\n",
       "</table>\n"
      ],
      "text/latex": [
       "A data.frame: 10 × 3\n",
       "\\begin{tabular}{lll}\n",
       " varname & \\%IncMSE & IncNodePurity\\\\\n",
       " <chr> & <dbl> & <dbl>\\\\\n",
       "\\hline\n",
       "\t Price       & 55.76266629 & 493.804969\\\\\n",
       "\t ShelveLoc   & 53.87451311 & 446.816951\\\\\n",
       "\t CompPrice   & 25.47984338 & 173.982449\\\\\n",
       "\t Age         & 12.07366106 & 117.502364\\\\\n",
       "\t Advertising & 13.97464644 &  96.929928\\\\\n",
       "\t Income      &  1.72616791 &  71.465227\\\\\n",
       "\t Population  &  1.01449985 &  68.297498\\\\\n",
       "\t Education   &  0.08382003 &  37.513944\\\\\n",
       "\t Urban       & -3.06299457 &   6.909530\\\\\n",
       "\t US          &  0.14346468 &   5.985091\\\\\n",
       "\\end{tabular}\n"
      ],
      "text/markdown": [
       "\n",
       "A data.frame: 10 × 3\n",
       "\n",
       "| varname &lt;chr&gt; | %IncMSE &lt;dbl&gt; | IncNodePurity &lt;dbl&gt; |\n",
       "|---|---|---|\n",
       "| Price       | 55.76266629 | 493.804969 |\n",
       "| ShelveLoc   | 53.87451311 | 446.816951 |\n",
       "| CompPrice   | 25.47984338 | 173.982449 |\n",
       "| Age         | 12.07366106 | 117.502364 |\n",
       "| Advertising | 13.97464644 |  96.929928 |\n",
       "| Income      |  1.72616791 |  71.465227 |\n",
       "| Population  |  1.01449985 |  68.297498 |\n",
       "| Education   |  0.08382003 |  37.513944 |\n",
       "| Urban       | -3.06299457 |   6.909530 |\n",
       "| US          |  0.14346468 |   5.985091 |\n",
       "\n"
      ],
      "text/plain": [
       "   varname     %IncMSE     IncNodePurity\n",
       "1  Price       55.76266629 493.804969   \n",
       "2  ShelveLoc   53.87451311 446.816951   \n",
       "3  CompPrice   25.47984338 173.982449   \n",
       "4  Age         12.07366106 117.502364   \n",
       "5  Advertising 13.97464644  96.929928   \n",
       "6  Income       1.72616791  71.465227   \n",
       "7  Population   1.01449985  68.297498   \n",
       "8  Education    0.08382003  37.513944   \n",
       "9  Urban       -3.06299457   6.909530   \n",
       "10 US           0.14346468   5.985091   "
      ]
     },
     "metadata": {},
     "output_type": "display_data"
    }
   ],
   "source": [
    "#Exercise 8D:Use the bagging approach in order to analyze this data. What test MSE do you obtain?\n",
    "#Libraries used for exercise\n",
    "library(randomForest)\n",
    "library(tibble)\n",
    "\n",
    "set.seed(1)\n",
    "baggedtreemodel <- randomForest(y = traindataset$Sales, \n",
    "                                   x = traindataset[ ,-1], \n",
    "                                   mtry = ncol(traindataset) - 1, \n",
    "                                   importance = T) \n",
    "#We now have 500 trees constructed from various bootstrap samples of the training dataset. The predictive power, on the other hand, has increased, with the test MSE decreasing by 50%.\n",
    "\n",
    "testpred <- predict(baggedtreemodel, testdataset)\n",
    "mean((testpred - testdataset$Sales)^2)\n",
    "\n",
    "importance(baggedtreemodel) %>%\n",
    "  as.data.frame() %>%\n",
    "  rownames_to_column(\"varname\") %>%\n",
    "  arrange(desc(IncNodePurity))\n",
    "\n",
    "#First criterion,  %IncMSE, is determined by calculating by measuring each tree's prediction error on the OOB portion of the data (for regression, the MSE). The OOB MSE is then re-evaluated after a predictor is scrambled (permuted). The difference in MSEs is averaged across all trees and normalized by the standard deviation of the differences.\n",
    "#The second metric, IncNodePurity, represents the total decrease in node impurity as a result of splitting on that variable (averaged across all the trees). Gini and RSS are used to calculate node impurity for classification and regression, respectively.\n",
    "#Whatever criterion is used, we can see that the most key variables for bagged trees are Price and ShelveLoc. This was also the conclusion reached after looking at the top splits of the single regression tree."
   ]
  },
  {
   "cell_type": "code",
   "execution_count": 47,
   "id": "ef7f1132",
   "metadata": {},
   "outputs": [
    {
     "data": {
      "text/html": [
       "2.36867427674614"
      ],
      "text/latex": [
       "2.36867427674614"
      ],
      "text/markdown": [
       "2.36867427674614"
      ],
      "text/plain": [
       "[1] 2.368674"
      ]
     },
     "metadata": {},
     "output_type": "display_data"
    },
    {
     "data": {
      "text/html": [
       "<table class=\"dataframe\">\n",
       "<caption>A data.frame: 10 × 3</caption>\n",
       "<thead>\n",
       "\t<tr><th scope=col>varname</th><th scope=col>%IncMSE</th><th scope=col>IncNodePurity</th></tr>\n",
       "\t<tr><th scope=col>&lt;chr&gt;</th><th scope=col>&lt;dbl&gt;</th><th scope=col>&lt;dbl&gt;</th></tr>\n",
       "</thead>\n",
       "<tbody>\n",
       "\t<tr><td>Price      </td><td>55.76266629</td><td>493.804969</td></tr>\n",
       "\t<tr><td>ShelveLoc  </td><td>53.87451311</td><td>446.816951</td></tr>\n",
       "\t<tr><td>CompPrice  </td><td>25.47984338</td><td>173.982449</td></tr>\n",
       "\t<tr><td>Age        </td><td>12.07366106</td><td>117.502364</td></tr>\n",
       "\t<tr><td>Advertising</td><td>13.97464644</td><td> 96.929928</td></tr>\n",
       "\t<tr><td>Income     </td><td> 1.72616791</td><td> 71.465227</td></tr>\n",
       "\t<tr><td>Population </td><td> 1.01449985</td><td> 68.297498</td></tr>\n",
       "\t<tr><td>Education  </td><td> 0.08382003</td><td> 37.513944</td></tr>\n",
       "\t<tr><td>Urban      </td><td>-3.06299457</td><td>  6.909530</td></tr>\n",
       "\t<tr><td>US         </td><td> 0.14346468</td><td>  5.985091</td></tr>\n",
       "</tbody>\n",
       "</table>\n"
      ],
      "text/latex": [
       "A data.frame: 10 × 3\n",
       "\\begin{tabular}{lll}\n",
       " varname & \\%IncMSE & IncNodePurity\\\\\n",
       " <chr> & <dbl> & <dbl>\\\\\n",
       "\\hline\n",
       "\t Price       & 55.76266629 & 493.804969\\\\\n",
       "\t ShelveLoc   & 53.87451311 & 446.816951\\\\\n",
       "\t CompPrice   & 25.47984338 & 173.982449\\\\\n",
       "\t Age         & 12.07366106 & 117.502364\\\\\n",
       "\t Advertising & 13.97464644 &  96.929928\\\\\n",
       "\t Income      &  1.72616791 &  71.465227\\\\\n",
       "\t Population  &  1.01449985 &  68.297498\\\\\n",
       "\t Education   &  0.08382003 &  37.513944\\\\\n",
       "\t Urban       & -3.06299457 &   6.909530\\\\\n",
       "\t US          &  0.14346468 &   5.985091\\\\\n",
       "\\end{tabular}\n"
      ],
      "text/markdown": [
       "\n",
       "A data.frame: 10 × 3\n",
       "\n",
       "| varname &lt;chr&gt; | %IncMSE &lt;dbl&gt; | IncNodePurity &lt;dbl&gt; |\n",
       "|---|---|---|\n",
       "| Price       | 55.76266629 | 493.804969 |\n",
       "| ShelveLoc   | 53.87451311 | 446.816951 |\n",
       "| CompPrice   | 25.47984338 | 173.982449 |\n",
       "| Age         | 12.07366106 | 117.502364 |\n",
       "| Advertising | 13.97464644 |  96.929928 |\n",
       "| Income      |  1.72616791 |  71.465227 |\n",
       "| Population  |  1.01449985 |  68.297498 |\n",
       "| Education   |  0.08382003 |  37.513944 |\n",
       "| Urban       | -3.06299457 |   6.909530 |\n",
       "| US          |  0.14346468 |   5.985091 |\n",
       "\n"
      ],
      "text/plain": [
       "   varname     %IncMSE     IncNodePurity\n",
       "1  Price       55.76266629 493.804969   \n",
       "2  ShelveLoc   53.87451311 446.816951   \n",
       "3  CompPrice   25.47984338 173.982449   \n",
       "4  Age         12.07366106 117.502364   \n",
       "5  Advertising 13.97464644  96.929928   \n",
       "6  Income       1.72616791  71.465227   \n",
       "7  Population   1.01449985  68.297498   \n",
       "8  Education    0.08382003  37.513944   \n",
       "9  Urban       -3.06299457   6.909530   \n",
       "10 US           0.14346468   5.985091   "
      ]
     },
     "metadata": {},
     "output_type": "display_data"
    },
    {
     "data": {
      "image/png": "[encoded data removed]",
      "text/plain": [
       "plot without title"
      ]
     },
     "metadata": {
      "image/png": {
       "height": 420,
       "width": 420
      }
     },
     "output_type": "display_data"
    }
   ],
   "source": [
    "#Exercise 8E:Use random forests to analyze this data. What test MSE do you obtain? Use the importance() function to determine which variables aremost important\n",
    "testMSE <- c()\n",
    "\n",
    "i <- 1\n",
    "\n",
    "for (Mtry in 1:10) {\n",
    "  set.seed(1)\n",
    "  \n",
    "  rftemp <- randomForest(y = traindataset$Sales, \n",
    "                          x = traindataset[ ,-1], \n",
    "                          mtry = Mtry, \n",
    "                          importance = T)\n",
    "  \n",
    "  testpred <- predict(rftemp, testdataset)\n",
    "  \n",
    "  testMSE[i] <- mean((testpred - testdataset$Sales)^2)\n",
    "  \n",
    "  i <- i + 1\n",
    "}\n",
    "\n",
    "data.frame(mtry = 1:10, testMSE = testMSE) %>%\n",
    "  mutate(min_testMSE = as.numeric(min(testMSE) == testMSE)) %>%\n",
    "  ggplot(aes(x = mtry, y = testMSE)) +\n",
    "  geom_line(col = \"deepskyblue\") +\n",
    "  geom_point(size = 2, aes(col = factor(min_testMSE))) +\n",
    "  scale_x_continuous(breaks = seq(1, 10), minor_breaks = NULL) +\n",
    "  scale_color_manual(values = c(\"red\", \"green\")) +\n",
    "  theme(legend.position = \"none\") +\n",
    "  labs(title = \"Random Forests for Carseats Dataset\",\n",
    "       subtitle = \"Selecting 'mtry' using the test dataset MSE\",\n",
    "       x = \"mtry\",\n",
    "       y = \"Test Dataset MSE\")\n",
    "\n",
    "#The ideal random forest model had an mtry of 10, which is the same as the bagged trees model.\n",
    "\n",
    "tail(testMSE, 1)\n",
    "importance(rftemp) %>%\n",
    "  as.data.frame() %>%\n",
    "  rownames_to_column(\"varname\") %>%\n",
    "  arrange(desc(IncNodePurity))"
   ]
  },
  {
   "cell_type": "code",
   "execution_count": 50,
   "id": "0b957302",
   "metadata": {},
   "outputs": [
    {
     "name": "stdout",
     "output_type": "stream",
     "text": [
      "'data.frame':\t1070 obs. of  18 variables:\n",
      " $ Purchase      : Factor w/ 2 levels \"CH\",\"MM\": 1 1 1 2 1 1 1 1 1 1 ...\n",
      " $ WeekofPurchase: num  237 239 245 227 228 230 232 234 235 238 ...\n",
      " $ StoreID       : num  1 1 1 1 7 7 7 7 7 7 ...\n",
      " $ PriceCH       : num  1.75 1.75 1.86 1.69 1.69 1.69 1.69 1.75 1.75 1.75 ...\n",
      " $ PriceMM       : num  1.99 1.99 2.09 1.69 1.69 1.99 1.99 1.99 1.99 1.99 ...\n",
      " $ DiscCH        : num  0 0 0.17 0 0 0 0 0 0 0 ...\n",
      " $ DiscMM        : num  0 0.3 0 0 0 0 0.4 0.4 0.4 0.4 ...\n",
      " $ SpecialCH     : num  0 0 0 0 0 0 1 1 0 0 ...\n",
      " $ SpecialMM     : num  0 1 0 0 0 1 1 0 0 0 ...\n",
      " $ LoyalCH       : num  0.5 0.6 0.68 0.4 0.957 ...\n",
      " $ SalePriceMM   : num  1.99 1.69 2.09 1.69 1.69 1.99 1.59 1.59 1.59 1.59 ...\n",
      " $ SalePriceCH   : num  1.75 1.75 1.69 1.69 1.69 1.69 1.69 1.75 1.75 1.75 ...\n",
      " $ PriceDiff     : num  0.24 -0.06 0.4 0 0 0.3 -0.1 -0.16 -0.16 -0.16 ...\n",
      " $ Store7        : Factor w/ 2 levels \"No\",\"Yes\": 1 1 1 1 2 2 2 2 2 2 ...\n",
      " $ PctDiscMM     : num  0 0.151 0 0 0 ...\n",
      " $ PctDiscCH     : num  0 0 0.0914 0 0 ...\n",
      " $ ListPriceDiff : num  0.24 0.24 0.23 0 0 0.3 0.3 0.24 0.24 0.24 ...\n",
      " $ STORE         : num  1 1 1 1 0 0 0 0 0 0 ...\n"
     ]
    }
   ],
   "source": [
    "#Chapter 8 Exercise 9: This problem involves the OJ data set which is part of the ISLR package.\n",
    "#Exercise 9A:Create a training set containing a random sample of 800 observations, and a test set containing the remaining observations\n",
    "str(OJ)\n",
    "\n",
    "set.seed(5)\n",
    "\n",
    "trainind <- sample(1:nrow(OJ), 800)\n",
    "\n",
    "traindataset <- OJ[trainind, ]\n",
    "testdataset <- OJ[-trainind, ]"
   ]
  },
  {
   "cell_type": "code",
   "execution_count": 68,
   "id": "7539af28",
   "metadata": {},
   "outputs": [
    {
     "data": {
      "text/plain": [
       "\n",
       "Classification tree:\n",
       "tree(formula = Purchase ~ ., data = traindataset)\n",
       "Variables actually used in tree construction:\n",
       "[1] \"LoyalCH\"   \"PriceDiff\" \"DiscCH\"   \n",
       "Number of terminal nodes:  7 \n",
       "Residual mean deviance:  0.7786 = 617.4 / 793 \n",
       "Misclassification error rate: 0.1838 = 147 / 800 "
      ]
     },
     "metadata": {},
     "output_type": "display_data"
    }
   ],
   "source": [
    "#Exercise 9B:Fit a tree to the training data, with Purchase as the response and the other variables as predictors\n",
    "treemod <- tree(Purchase ~ ., traindataset)\n",
    "summary(treemod)\n",
    "\n",
    "#The classification tree has 7 terminal nodes and an 18.38 percent training error rate.\n",
    "#These were the olny variables used for the split: LoyalCH, PriceDiff,DiscCH "
   ]
  },
  {
   "cell_type": "code",
   "execution_count": 77,
   "id": "77787489",
   "metadata": {},
   "outputs": [
    {
     "name": "stdout",
     "output_type": "stream",
     "text": [
      "Rows: 1,070\n",
      "Columns: 18\n",
      "$ Purchase       \u001b[3m\u001b[90m<fct>\u001b[39m\u001b[23m CH, CH, CH, MM, CH, CH, CH, CH, CH, CH, CH, CH, CH, CH,~\n",
      "$ WeekofPurchase \u001b[3m\u001b[90m<dbl>\u001b[39m\u001b[23m 237, 239, 245, 227, 228, 230, 232, 234, 235, 238, 240, ~\n",
      "$ StoreID        \u001b[3m\u001b[90m<dbl>\u001b[39m\u001b[23m 1, 1, 1, 1, 7, 7, 7, 7, 7, 7, 7, 7, 7, 7, 7, 7, 1, 2, 2~\n",
      "$ PriceCH        \u001b[3m\u001b[90m<dbl>\u001b[39m\u001b[23m 1.75, 1.75, 1.86, 1.69, 1.69, 1.69, 1.69, 1.75, 1.75, 1~\n",
      "$ PriceMM        \u001b[3m\u001b[90m<dbl>\u001b[39m\u001b[23m 1.99, 1.99, 2.09, 1.69, 1.69, 1.99, 1.99, 1.99, 1.99, 1~\n",
      "$ DiscCH         \u001b[3m\u001b[90m<dbl>\u001b[39m\u001b[23m 0.00, 0.00, 0.17, 0.00, 0.00, 0.00, 0.00, 0.00, 0.00, 0~\n",
      "$ DiscMM         \u001b[3m\u001b[90m<dbl>\u001b[39m\u001b[23m 0.00, 0.30, 0.00, 0.00, 0.00, 0.00, 0.40, 0.40, 0.40, 0~\n",
      "$ SpecialCH      \u001b[3m\u001b[90m<dbl>\u001b[39m\u001b[23m 0, 0, 0, 0, 0, 0, 1, 1, 0, 0, 0, 0, 0, 0, 0, 0, 0, 0, 0~\n",
      "$ SpecialMM      \u001b[3m\u001b[90m<dbl>\u001b[39m\u001b[23m 0, 1, 0, 0, 0, 1, 1, 0, 0, 0, 0, 0, 1, 0, 0, 0, 1, 1, 0~\n",
      "$ LoyalCH        \u001b[3m\u001b[90m<dbl>\u001b[39m\u001b[23m 0.500000, 0.600000, 0.680000, 0.400000, 0.956535, 0.965~\n",
      "$ SalePriceMM    \u001b[3m\u001b[90m<dbl>\u001b[39m\u001b[23m 1.99, 1.69, 2.09, 1.69, 1.69, 1.99, 1.59, 1.59, 1.59, 1~\n",
      "$ SalePriceCH    \u001b[3m\u001b[90m<dbl>\u001b[39m\u001b[23m 1.75, 1.75, 1.69, 1.69, 1.69, 1.69, 1.69, 1.75, 1.75, 1~\n",
      "$ PriceDiff      \u001b[3m\u001b[90m<dbl>\u001b[39m\u001b[23m 0.24, -0.06, 0.40, 0.00, 0.00, 0.30, -0.10, -0.16, -0.1~\n",
      "$ Store7         \u001b[3m\u001b[90m<fct>\u001b[39m\u001b[23m No, No, No, No, Yes, Yes, Yes, Yes, Yes, Yes, Yes, Yes,~\n",
      "$ PctDiscMM      \u001b[3m\u001b[90m<dbl>\u001b[39m\u001b[23m 0.000000, 0.150754, 0.000000, 0.000000, 0.000000, 0.000~\n",
      "$ PctDiscCH      \u001b[3m\u001b[90m<dbl>\u001b[39m\u001b[23m 0.000000, 0.000000, 0.091398, 0.000000, 0.000000, 0.000~\n",
      "$ ListPriceDiff  \u001b[3m\u001b[90m<dbl>\u001b[39m\u001b[23m 0.24, 0.24, 0.23, 0.00, 0.00, 0.30, 0.30, 0.24, 0.24, 0~\n",
      "$ STORE          \u001b[3m\u001b[90m<dbl>\u001b[39m\u001b[23m 1, 1, 1, 1, 0, 0, 0, 0, 0, 0, 0, 0, 0, 0, 0, 0, 1, 2, 2~\n"
     ]
    }
   ],
   "source": [
    "#install.packages('rpart')\n",
    "\n",
    "glimpse(OJ)"
   ]
  },
  {
   "cell_type": "code",
   "execution_count": 80,
   "id": "8040cd72",
   "metadata": {},
   "outputs": [
    {
     "name": "stderr",
     "output_type": "stream",
     "text": [
      "ERROR while rich displaying an object: Error in cat(x, ..., sep = sep): argument 1 (type 'list') cannot be handled by 'cat'\n",
      "\n",
      "Traceback:\n",
      "1. FUN(X[[i]], ...)\n",
      "2. tryCatch(withCallingHandlers({\n",
      " .     if (!mime %in% names(repr::mime2repr)) \n",
      " .         stop(\"No repr_* for mimetype \", mime, \" in repr::mime2repr\")\n",
      " .     rpr <- repr::mime2repr[[mime]](obj)\n",
      " .     if (is.null(rpr)) \n",
      " .         return(NULL)\n",
      " .     prepare_content(is.raw(rpr), rpr)\n",
      " . }, error = error_handler), error = outer_handler)\n",
      "3. tryCatchList(expr, classes, parentenv, handlers)\n",
      "4. tryCatchOne(expr, names, parentenv, handlers[[1L]])\n",
      "5. doTryCatch(return(expr), name, parentenv, handler)\n",
      "6. withCallingHandlers({\n",
      " .     if (!mime %in% names(repr::mime2repr)) \n",
      " .         stop(\"No repr_* for mimetype \", mime, \" in repr::mime2repr\")\n",
      " .     rpr <- repr::mime2repr[[mime]](obj)\n",
      " .     if (is.null(rpr)) \n",
      " .         return(NULL)\n",
      " .     prepare_content(is.raw(rpr), rpr)\n",
      " . }, error = error_handler)\n",
      "7. repr::mime2repr[[mime]](obj)\n",
      "8. repr_text.default(obj)\n",
      "9. paste(capture.output(print(obj)), collapse = \"\\n\")\n",
      "10. capture.output(print(obj))\n",
      "11. evalVis(expr)\n",
      "12. withVisible(eval(expr, pf))\n",
      "13. eval(expr, pf)\n",
      "14. eval(expr, pf)\n",
      "15. print(obj)\n",
      "16. print.tree(obj)\n",
      "17. cat(x, ..., sep = sep)\n"
     ]
    },
    {
     "ename": "ERROR",
     "evalue": "Error in select(., traindataset$Purchase): unused argument (traindataset$Purchase)\n",
     "output_type": "error",
     "traceback": [
      "Error in select(., traindataset$Purchase): unused argument (traindataset$Purchase)\nTraceback:\n",
      "1. traindataset %>% filter(LoyalCH < 0.5036, LoyalCH > 0.142213, \n .     PriceDiff > 0.235) %>% select(traindataset$Purchase) %>% \n .     table()",
      "2. table(.)"
     ]
    }
   ],
   "source": [
    "#Exercise 9C:Type in the name of the tree object in order to get a detailed text output\n",
    "#For the root node: 1) root 800 1064.00 CH ( 0.61750 0.38250 )\n",
    "#That alone implies that there are 800 observations at the root node, the deviance is 1064.00, the overall prediction is CH, and the split is 61.75 percent CH vs 38.25 percent MM.\n",
    "#We can see that three splits occur from the root node to produce the terminal node (labeled 11):\n",
    "#LoyalCH = 0.5036 \n",
    "#LoyalCH = 0.142213 \n",
    "#PriceDiff = 0.235 \n",
    "library(rpart)\n",
    "library(MASS)\n",
    "treemod\n",
    "\n",
    "traindataset %>%\n",
    "  filter(LoyalCH < 0.5036, \n",
    "         LoyalCH > 0.142213, \n",
    "         PriceDiff > 0.235) %>%\n",
    "  select(Purchase) %>% \n",
    "  table()\n",
    "\n",
    "-2 * (68 * log(68/118) + 50 * log(50/118))"
   ]
  },
  {
   "cell_type": "code",
   "execution_count": 78,
   "id": "37b9a9dc",
   "metadata": {},
   "outputs": [
    {
     "data": {
      "image/png": "[encoded data removed]",
      "text/plain": [
       "plot without title"
      ]
     },
     "metadata": {
      "image/png": {
       "height": 420,
       "width": 420
      }
     },
     "output_type": "display_data"
    }
   ],
   "source": [
    "#Exercise 9D:Create a plot of the tree, and interpret the results\n",
    "#LoyalCH is probably the most significant variable (the top three nodes are all split on it), followed by PriceDiff and DiscCH. Node 11 is the third terminal node, as we can see.\n",
    "#Because LoyalCH is a 0 to 1 scale, the first split sends those who are less loyal to Citrus Hill (CH) orange juice to the left and those who are more loyal to the right.\n",
    "plot(treemod)\n",
    "text(treemod, pretty = 0, cex = 0.7)\n",
    "\n",
    "#Those with the lowest Citrus Hill loyalty (LoyalCH 0.142213) were predicted to purchase Minute Maid (MM), which is not surprising. \n",
    "#Those who were possibly a bit more loyal to CH (0.142213 LoyalCH 0.5036) would mostly buy MM as it is not too even more expensive (PriceDiff 0.235), however if the price difference is large enough (CH was much cheaper), they might buy CH.\n",
    "#The others from the far right terminal node are the most loyal to CH (LoyalCH > 0.705699), so it's no surprise that this is their predicted purchase. \n",
    "#Those with lower brand loyalty (0.5036 LoyalCH 0.705699) would still buy CH if it was significantly cheaper (PriceDiff > 0.25), or if it wasn't but was sufficiently discounted (PriceDiff > 0.25 & DiscCH > 0.15).\n",
    "#This seems to be a more good description, but it can be encapsulated at a far more greater level as follows: people are sticking with the brand they are most loyal to, but there are some special cases based on discounts and price increases relative to one another that can sway people away from their usual brand loyalties."
   ]
  },
  {
   "cell_type": "code",
   "execution_count": 83,
   "id": "3f4363f2",
   "metadata": {},
   "outputs": [
    {
     "data": {
      "text/plain": [
       "        testactual\n",
       "testpred  CH  MM\n",
       "      CH 125  32\n",
       "      MM  34  79"
      ]
     },
     "metadata": {},
     "output_type": "display_data"
    },
    {
     "data": {
      "text/html": [
       "0.244"
      ],
      "text/latex": [
       "0.244"
      ],
      "text/markdown": [
       "0.244"
      ],
      "text/plain": [
       "[1] 0.244"
      ]
     },
     "metadata": {},
     "output_type": "display_data"
    },
    {
     "data": {
      "text/html": [
       "0.411"
      ],
      "text/latex": [
       "0.411"
      ],
      "text/markdown": [
       "0.411"
      ],
      "text/plain": [
       "[1] 0.411"
      ]
     },
     "metadata": {},
     "output_type": "display_data"
    }
   ],
   "source": [
    "#Exercise 9E:Predict the response on the test data, and produce a confusion matrix comparing the test labels to the predicted test labels. What is the test error rate?\n",
    "testpred <- predict(treemod, testdataset, type = \"class\")\n",
    "table(testpred, testactual = testdataset$Purchase)\n",
    "\n",
    "1 - round(mean(testpred == testdataset$Purchase), 3)\n",
    "1 - round(mean(testdataset$Purchase == \"CH\"), 3)\n",
    "#Because CH was the most common orange juice in train,this is the baseline classifier which predicted CH for all test observations."
   ]
  },
  {
   "cell_type": "code",
   "execution_count": 84,
   "id": "d84ee5ad",
   "metadata": {},
   "outputs": [
    {
     "data": {
      "text/plain": [
       "$size\n",
       "[1] 7 4 2 1\n",
       "\n",
       "$dev\n",
       "[1] 164 164 177 298\n",
       "\n",
       "$k\n",
       "[1] -Inf    1    9  138\n",
       "\n",
       "$method\n",
       "[1] \"misclass\"\n",
       "\n",
       "attr(,\"class\")\n",
       "[1] \"prune\"         \"tree.sequence\""
      ]
     },
     "metadata": {},
     "output_type": "display_data"
    }
   ],
   "source": [
    "#Exercise 9F:Apply the cv.tree() function to the training set in order to determine the optimal tree size\n",
    "set.seed(2)\n",
    "\n",
    "cvtreemodel <- cv.tree(treemodel, K = 10, FUN = prune.misclass)\n",
    "cvtreemodel"
   ]
  },
  {
   "cell_type": "code",
   "execution_count": 85,
   "id": "7a28512f",
   "metadata": {},
   "outputs": [
    {
     "data": {
      "image/png": "[encoded data removed]",
      "text/plain": [
       "plot without title"
      ]
     },
     "metadata": {
      "image/png": {
       "height": 420,
       "width": 420
      }
     },
     "output_type": "display_data"
    }
   ],
   "source": [
    "#Exercise 9G: Produce a plot with tree size on the x-axis and cross-validated classification error rate on the y-axis.\n",
    "data.frame(size = cvtreemodel$size, CVError = cvtreemodel$dev / nrow(traindataset)) %>%\n",
    "  mutate(min_CVError = as.numeric(min(CVError) == CVError)) %>%\n",
    "  ggplot(aes(x = size, y = CVError)) +\n",
    "  geom_line(col = \"deepskyblue\") +\n",
    "  geom_point(size = 2, aes(col = factor(min_CVError))) +\n",
    "  scale_x_continuous(breaks = seq(1, 7), minor_breaks = NULL) +\n",
    "  scale_y_continuous(labels = scales::percent_format()) +\n",
    "  scale_color_manual(values = c(\"red\", \"green\")) +\n",
    "  theme(legend.position = \"none\") +\n",
    "  labs(title = \"Classification Tree of OJ Dataset\",\n",
    "       subtitle = \"Selecting tree 'size' using cross-validation\",\n",
    "       x = \"Tree Size\",\n",
    "       y = \"CV Error\")"
   ]
  },
  {
   "cell_type": "markdown",
   "id": "fb305fdb",
   "metadata": {},
   "source": [
    "Exercise 9H:Which tree size corresponds to the lowest cross-validated classification error rate?\n",
    "Trees of sizes 4 and 7 have the same cross-validation error in the sequential manner of trees generated. It makes sense to go with the linear approach with four terminal nodes in this case."
   ]
  },
  {
   "cell_type": "code",
   "execution_count": 88,
   "id": "b9d14f1b",
   "metadata": {},
   "outputs": [
    {
     "name": "stderr",
     "output_type": "stream",
     "text": [
      "ERROR while rich displaying an object: Error in cat(x, ..., sep = sep): argument 1 (type 'list') cannot be handled by 'cat'\n",
      "\n",
      "Traceback:\n",
      "1. FUN(X[[i]], ...)\n",
      "2. tryCatch(withCallingHandlers({\n",
      " .     if (!mime %in% names(repr::mime2repr)) \n",
      " .         stop(\"No repr_* for mimetype \", mime, \" in repr::mime2repr\")\n",
      " .     rpr <- repr::mime2repr[[mime]](obj)\n",
      " .     if (is.null(rpr)) \n",
      " .         return(NULL)\n",
      " .     prepare_content(is.raw(rpr), rpr)\n",
      " . }, error = error_handler), error = outer_handler)\n",
      "3. tryCatchList(expr, classes, parentenv, handlers)\n",
      "4. tryCatchOne(expr, names, parentenv, handlers[[1L]])\n",
      "5. doTryCatch(return(expr), name, parentenv, handler)\n",
      "6. withCallingHandlers({\n",
      " .     if (!mime %in% names(repr::mime2repr)) \n",
      " .         stop(\"No repr_* for mimetype \", mime, \" in repr::mime2repr\")\n",
      " .     rpr <- repr::mime2repr[[mime]](obj)\n",
      " .     if (is.null(rpr)) \n",
      " .         return(NULL)\n",
      " .     prepare_content(is.raw(rpr), rpr)\n",
      " . }, error = error_handler)\n",
      "7. repr::mime2repr[[mime]](obj)\n",
      "8. repr_text.default(obj)\n",
      "9. paste(capture.output(print(obj)), collapse = \"\\n\")\n",
      "10. capture.output(print(obj))\n",
      "11. evalVis(expr)\n",
      "12. withVisible(eval(expr, pf))\n",
      "13. eval(expr, pf)\n",
      "14. eval(expr, pf)\n",
      "15. print(obj)\n",
      "16. print.tree(obj)\n",
      "17. cat(x, ..., sep = sep)\n"
     ]
    }
   ],
   "source": [
    "#Exercise 9I:Produce a pruned tree corresponding to the optimal tree size obtained using cross-validation. If cross-validation does not lead to selection of a pruned tree, then create a pruned tree with five terminal nodes.\n",
    "pruned_treemodel <- prune.tree(treemod, best = 4)\n",
    "pruned_treemodel"
   ]
  },
  {
   "cell_type": "code",
   "execution_count": 90,
   "id": "fd0b5d10",
   "metadata": {},
   "outputs": [
    {
     "data": {
      "text/html": [
       "0.18375"
      ],
      "text/latex": [
       "0.18375"
      ],
      "text/markdown": [
       "0.18375"
      ],
      "text/plain": [
       "[1] 0.18375"
      ]
     },
     "metadata": {},
     "output_type": "display_data"
    },
    {
     "data": {
      "text/html": [
       "0.21"
      ],
      "text/latex": [
       "0.21"
      ],
      "text/markdown": [
       "0.21"
      ],
      "text/plain": [
       "[1] 0.21"
      ]
     },
     "metadata": {},
     "output_type": "display_data"
    }
   ],
   "source": [
    "#Exercise 9J:Compare the training error rates between the pruned and unpruned trees. Which is higher?\n",
    "mean(predict(treemodel, type = \"class\") != traindataset$Purchase)\n",
    "mean(predict(pruned_treemodel, type = \"class\") != traindataset$Purchase)\n",
    "#The pruned is higher"
   ]
  },
  {
   "cell_type": "code",
   "execution_count": 114,
   "id": "efac67a0",
   "metadata": {},
   "outputs": [
    {
     "data": {
      "text/html": [
       "0.244"
      ],
      "text/latex": [
       "0.244"
      ],
      "text/markdown": [
       "0.244"
      ],
      "text/plain": [
       "[1] 0.244"
      ]
     },
     "metadata": {},
     "output_type": "display_data"
    },
    {
     "data": {
      "text/html": [
       "0.17"
      ],
      "text/latex": [
       "0.17"
      ],
      "text/markdown": [
       "0.17"
      ],
      "text/plain": [
       "[1] 0.17"
      ]
     },
     "metadata": {},
     "output_type": "display_data"
    }
   ],
   "source": [
    "#Exercise 9K:Compare the test error rates between the pruned and unpruned trees. Which is higher?\n",
    "round(mean(predict(treemodel, type = \"class\", newdata = testdataset) != testdataset$Purchase), 3)\n",
    "round(mean(predict(pruned_treemodel, type = \"class\", newdata = testdataset) != testdataset$Purchase), 3)\n",
    "\n",
    "#The unpruned tree model is better"
   ]
  },
  {
   "cell_type": "code",
   "execution_count": 96,
   "id": "b7deb58c",
   "metadata": {},
   "outputs": [
    {
     "name": "stdout",
     "output_type": "stream",
     "text": [
      "'data.frame':\t322 obs. of  20 variables:\n",
      " $ AtBat    : int  293 315 479 496 321 594 185 298 323 401 ...\n",
      " $ Hits     : int  66 81 130 141 87 169 37 73 81 92 ...\n",
      " $ HmRun    : int  1 7 18 20 10 4 1 0 6 17 ...\n",
      " $ Runs     : int  30 24 66 65 39 74 23 24 26 49 ...\n",
      " $ RBI      : int  29 38 72 78 42 51 8 24 32 66 ...\n",
      " $ Walks    : int  14 39 76 37 30 35 21 7 8 65 ...\n",
      " $ Years    : int  1 14 3 11 2 11 2 3 2 13 ...\n",
      " $ CAtBat   : int  293 3449 1624 5628 396 4408 214 509 341 5206 ...\n",
      " $ CHits    : int  66 835 457 1575 101 1133 42 108 86 1332 ...\n",
      " $ CHmRun   : int  1 69 63 225 12 19 1 0 6 253 ...\n",
      " $ CRuns    : int  30 321 224 828 48 501 30 41 32 784 ...\n",
      " $ CRBI     : int  29 414 266 838 46 336 9 37 34 890 ...\n",
      " $ CWalks   : int  14 375 263 354 33 194 24 12 8 866 ...\n",
      " $ League   : Factor w/ 2 levels \"A\",\"N\": 1 2 1 2 2 1 2 1 2 1 ...\n",
      " $ Division : Factor w/ 2 levels \"E\",\"W\": 1 2 2 1 1 2 1 2 2 1 ...\n",
      " $ PutOuts  : int  446 632 880 200 805 282 76 121 143 0 ...\n",
      " $ Assists  : int  33 43 82 11 40 421 127 283 290 0 ...\n",
      " $ Errors   : int  20 10 14 3 4 25 7 9 19 0 ...\n",
      " $ Salary   : num  NA 475 480 500 91.5 750 70 100 75 1100 ...\n",
      " $ NewLeague: Factor w/ 2 levels \"A\",\"N\": 1 2 1 2 2 1 1 1 2 1 ...\n"
     ]
    },
    {
     "data": {
      "text/html": [
       "59"
      ],
      "text/latex": [
       "59"
      ],
      "text/markdown": [
       "59"
      ],
      "text/plain": [
       "[1] 59"
      ]
     },
     "metadata": {},
     "output_type": "display_data"
    },
    {
     "data": {
      "image/png": "[encoded data removed]",
      "text/plain": [
       "plot without title"
      ]
     },
     "metadata": {
      "image/png": {
       "height": 420,
       "width": 420
      }
     },
     "output_type": "display_data"
    },
    {
     "data": {
      "image/png": "[encoded data removed]",
      "text/plain": [
       "plot without title"
      ]
     },
     "metadata": {
      "image/png": {
       "height": 420,
       "width": 420
      }
     },
     "output_type": "display_data"
    }
   ],
   "source": [
    "#Chapter 8 Exercise 10:We now use boosting to predict Salary in the Hitters data set.\n",
    "#Exercise 10A:Remove the observations for whom the salary information is unknown, and then log-transform the salaries.\n",
    "str(Hitters)\n",
    "sum(is.na(Hitters$Salary))\n",
    "\n",
    "HittersnotNA <- Hitters[!is.na(Hitters$Salary), ]\n",
    "HittersnotNA$logSalary <- log(HittersnotNA$Salary)\n",
    "\n",
    "ggplot(HittersnotNA, aes(x = Salary)) + \n",
    "  geom_density(fill = \"deepskyblue\") + \n",
    "  scale_x_continuous(labels = scales::comma_format()) +\n",
    "  theme(axis.text.y = element_blank(), \n",
    "        axis.ticks.y = element_blank(), \n",
    "        axis.title.y = element_blank()) + \n",
    "  labs(title = \"Salary Distribution for Hitters Dataset\", \n",
    "       x = \"Salary\")\n",
    "\n",
    "ggplot(HittersnotNA, aes(x = logSalary)) + \n",
    "  geom_density(fill = \"green\") + \n",
    "  theme(axis.text.y = element_blank(), \n",
    "        axis.ticks.y = element_blank(), \n",
    "        axis.title.y = element_blank()) + \n",
    "  labs(title = \"log(Salary) Distribution of Hitters Dataset\", \n",
    "       x = \"log(Salary)\")"
   ]
  },
  {
   "cell_type": "code",
   "execution_count": 117,
   "id": "53f25ca2",
   "metadata": {},
   "outputs": [],
   "source": [
    "#Exercise 10B:Create a training set consisting of the first 200 observations, and a test set consisting of the remaining observations\n",
    "traindata <- HittersnotNA[1:200, ]\n",
    "testdata <- HittersnotNA[201:nrow(HittersnotNA), ]\n"
   ]
  },
  {
   "cell_type": "code",
   "execution_count": 103,
   "id": "5fea74c2",
   "metadata": {},
   "outputs": [
    {
     "name": "stderr",
     "output_type": "stream",
     "text": [
      "Your code contains a unicode char which cannot be displayed in your\n",
      "current locale and R will silently convert it to an escaped form when the\n",
      "R kernel executes this code. This can lead to subtle errors if you use\n",
      "such chars to do comparisons. For more information, please see\n",
      "https://github.com/IRkernel/repr/wiki/Problems-with-unicode-on-windows"
     ]
    },
    {
     "data": {
      "image/png": "[encoded data removed]",
      "text/plain": [
       "plot without title"
      ]
     },
     "metadata": {
      "image/png": {
       "height": 420,
       "width": 420
      }
     },
     "output_type": "display_data"
    }
   ],
   "source": [
    "#Exercise 10C:Perform boosting on the training set with 1,000 trees for a range of values of the shrinkage parameter λ. Produce a plot with different shrinkage values on the x-axis and the corresponding training set MSE on the y-axis\n",
    "library(gbm)\n",
    "\n",
    "lambda_seq <- 10^seq(-6, 0, 0.1)\n",
    "\n",
    "set.seed(1)\n",
    "\n",
    "trainMSE <- c()\n",
    "testMSE <- c()\n",
    "\n",
    "for (i in 1:length(lambda_seq)) {\n",
    "  boostTEMP <- gbm(logSalary ~ . - Salary, \n",
    "                    data = traindata, \n",
    "                    distribution = \"gaussian\", \n",
    "                    n.trees = 1000, \n",
    "                    interaction.depth = 2, \n",
    "                    shrinkage = lambda_seq[i])\n",
    "  \n",
    "  trainMSE[i] <- mean((predict(boostTEMP, traindata, n.trees = 1000) - traindata$logSalary)^2)\n",
    "  \n",
    "  testMSE[i] <- mean((predict(boostTEMP, testdata, n.trees = 1000) - testdata$logSalary)^2)\n",
    "}\n",
    "\n",
    "data.frame(lambda = lambda_seq, trainMSE) %>%\n",
    "  ggplot(aes(x = lambda, y = trainMSE)) + \n",
    "  geom_point(size = 2, col = \"green\") + \n",
    "  geom_line(col = \"deepskyblue\") + \n",
    "  scale_x_continuous(trans = 'log10', breaks = 10^seq(-6, 0), labels = 10^seq(-6, 0), minor_breaks = NULL) + \n",
    "  labs(x = \"Lambda (Shrinkage)\", \n",
    "       y = \"Training MSE\")"
   ]
  },
  {
   "cell_type": "code",
   "execution_count": 104,
   "id": "ff09d832",
   "metadata": {},
   "outputs": [
    {
     "data": {
      "image/png": "[encoded data removed]",
      "text/plain": [
       "plot without title"
      ]
     },
     "metadata": {
      "image/png": {
       "height": 420,
       "width": 420
      }
     },
     "output_type": "display_data"
    }
   ],
   "source": [
    "#Exercise 10D:Produce a plot with different shrinkage values on the x-axis and the corresponding test set MSE on the y-axis.\n",
    "data.frame(lambda = lambda_seq, testMSE) %>%\n",
    "  ggplot(aes(x = lambda, y = testMSE)) + \n",
    "  geom_point(size = 2, col = \"green\") + \n",
    "  geom_line(col = \"deepskyblue\") + \n",
    "  scale_x_continuous(trans = 'log10', breaks = 10^seq(-6, 0), labels = 10^seq(-6, 0), minor_breaks = NULL) + \n",
    "  labs(x = \"Lambda (Shrinkage)\", \n",
    "       y = \"Test MSE\")"
   ]
  },
  {
   "cell_type": "code",
   "execution_count": 124,
   "id": "e3b8b223",
   "metadata": {},
   "outputs": [
    {
     "data": {
      "text/html": [
       "25671.7737102253"
      ],
      "text/latex": [
       "25671.7737102253"
      ],
      "text/markdown": [
       "25671.7737102253"
      ],
      "text/plain": [
       "[1] 25671.77"
      ]
     },
     "metadata": {},
     "output_type": "display_data"
    },
    {
     "data": {
      "text/html": [
       "22435.1840804213"
      ],
      "text/latex": [
       "22435.1840804213"
      ],
      "text/markdown": [
       "22435.1840804213"
      ],
      "text/plain": [
       "[1] 22435.18"
      ]
     },
     "metadata": {},
     "output_type": "display_data"
    }
   ],
   "source": [
    "#Exercise 10E:Compare the test MSE of boosting to the test MSE that results from applying two of the regression approaches seen in Chapters 3 and 6\n",
    "#Boosting: Keeping the constants n.trees = 1500, interaction.depth = 4, and n.minobsinnode = 10.\n",
    "library(caret)\n",
    "library(AUC)\n",
    "library(caret)\n",
    "library(e1071)\n",
    "library(reprex)\n",
    "library(mlbench)\n",
    "library(Metrics)\n",
    "\n",
    "fit <- lm(Salary ~ ., data = traindata)\n",
    "pred <- predict(fit, testdata)\n",
    "mean((pred - testdata$Salary)^2)\n",
    "\n",
    "x <- model.matrix(Salary ~ ., data = traindata)\n",
    "x.testdata <- model.matrix(Salary ~ ., data = testdata)\n",
    "y <- traindata$Salary\n",
    "fit01 <- glmnet(x, y, alpha = 0)\n",
    "pred01 <- predict(fit01, s = 0.01, newx = x.testdata)\n",
    "mean((pred01 - testdata$Salary)^2)\n",
    "\n"
   ]
  },
  {
   "cell_type": "code",
   "execution_count": 132,
   "id": "56aa59e8",
   "metadata": {},
   "outputs": [
    {
     "data": {
      "text/html": [
       "<table class=\"dataframe\">\n",
       "<caption>A data.frame: 20 × 2</caption>\n",
       "<thead>\n",
       "\t<tr><th></th><th scope=col>var</th><th scope=col>rel.inf</th></tr>\n",
       "\t<tr><th></th><th scope=col>&lt;chr&gt;</th><th scope=col>&lt;dbl&gt;</th></tr>\n",
       "</thead>\n",
       "<tbody>\n",
       "\t<tr><th scope=row>logSalary</th><td>logSalary</td><td>82.88056138</td></tr>\n",
       "\t<tr><th scope=row>CHmRun</th><td>CHmRun   </td><td> 4.24863989</td></tr>\n",
       "\t<tr><th scope=row>Walks</th><td>Walks    </td><td> 1.51287701</td></tr>\n",
       "\t<tr><th scope=row>PutOuts</th><td>PutOuts  </td><td> 1.41407304</td></tr>\n",
       "\t<tr><th scope=row>RBI</th><td>RBI      </td><td> 1.23999650</td></tr>\n",
       "\t<tr><th scope=row>CWalks</th><td>CWalks   </td><td> 1.14434897</td></tr>\n",
       "\t<tr><th scope=row>Hits</th><td>Hits     </td><td> 1.08418210</td></tr>\n",
       "\t<tr><th scope=row>CAtBat</th><td>CAtBat   </td><td> 1.05502649</td></tr>\n",
       "\t<tr><th scope=row>Runs</th><td>Runs     </td><td> 0.97506291</td></tr>\n",
       "\t<tr><th scope=row>AtBat</th><td>AtBat    </td><td> 0.78169466</td></tr>\n",
       "\t<tr><th scope=row>HmRun</th><td>HmRun    </td><td> 0.76480168</td></tr>\n",
       "\t<tr><th scope=row>CRBI</th><td>CRBI     </td><td> 0.75263035</td></tr>\n",
       "\t<tr><th scope=row>Assists</th><td>Assists  </td><td> 0.59011636</td></tr>\n",
       "\t<tr><th scope=row>CRuns</th><td>CRuns    </td><td> 0.52885697</td></tr>\n",
       "\t<tr><th scope=row>CHits</th><td>CHits    </td><td> 0.41933951</td></tr>\n",
       "\t<tr><th scope=row>Errors</th><td>Errors   </td><td> 0.39109846</td></tr>\n",
       "\t<tr><th scope=row>Years</th><td>Years    </td><td> 0.20663898</td></tr>\n",
       "\t<tr><th scope=row>NewLeague</th><td>NewLeague</td><td> 0.01005474</td></tr>\n",
       "\t<tr><th scope=row>League</th><td>League   </td><td> 0.00000000</td></tr>\n",
       "\t<tr><th scope=row>Division</th><td>Division </td><td> 0.00000000</td></tr>\n",
       "</tbody>\n",
       "</table>\n"
      ],
      "text/latex": [
       "A data.frame: 20 × 2\n",
       "\\begin{tabular}{r|ll}\n",
       "  & var & rel.inf\\\\\n",
       "  & <chr> & <dbl>\\\\\n",
       "\\hline\n",
       "\tlogSalary & logSalary & 82.88056138\\\\\n",
       "\tCHmRun & CHmRun    &  4.24863989\\\\\n",
       "\tWalks & Walks     &  1.51287701\\\\\n",
       "\tPutOuts & PutOuts   &  1.41407304\\\\\n",
       "\tRBI & RBI       &  1.23999650\\\\\n",
       "\tCWalks & CWalks    &  1.14434897\\\\\n",
       "\tHits & Hits      &  1.08418210\\\\\n",
       "\tCAtBat & CAtBat    &  1.05502649\\\\\n",
       "\tRuns & Runs      &  0.97506291\\\\\n",
       "\tAtBat & AtBat     &  0.78169466\\\\\n",
       "\tHmRun & HmRun     &  0.76480168\\\\\n",
       "\tCRBI & CRBI      &  0.75263035\\\\\n",
       "\tAssists & Assists   &  0.59011636\\\\\n",
       "\tCRuns & CRuns     &  0.52885697\\\\\n",
       "\tCHits & CHits     &  0.41933951\\\\\n",
       "\tErrors & Errors    &  0.39109846\\\\\n",
       "\tYears & Years     &  0.20663898\\\\\n",
       "\tNewLeague & NewLeague &  0.01005474\\\\\n",
       "\tLeague & League    &  0.00000000\\\\\n",
       "\tDivision & Division  &  0.00000000\\\\\n",
       "\\end{tabular}\n"
      ],
      "text/markdown": [
       "\n",
       "A data.frame: 20 × 2\n",
       "\n",
       "| <!--/--> | var &lt;chr&gt; | rel.inf &lt;dbl&gt; |\n",
       "|---|---|---|\n",
       "| logSalary | logSalary | 82.88056138 |\n",
       "| CHmRun | CHmRun    |  4.24863989 |\n",
       "| Walks | Walks     |  1.51287701 |\n",
       "| PutOuts | PutOuts   |  1.41407304 |\n",
       "| RBI | RBI       |  1.23999650 |\n",
       "| CWalks | CWalks    |  1.14434897 |\n",
       "| Hits | Hits      |  1.08418210 |\n",
       "| CAtBat | CAtBat    |  1.05502649 |\n",
       "| Runs | Runs      |  0.97506291 |\n",
       "| AtBat | AtBat     |  0.78169466 |\n",
       "| HmRun | HmRun     |  0.76480168 |\n",
       "| CRBI | CRBI      |  0.75263035 |\n",
       "| Assists | Assists   |  0.59011636 |\n",
       "| CRuns | CRuns     |  0.52885697 |\n",
       "| CHits | CHits     |  0.41933951 |\n",
       "| Errors | Errors    |  0.39109846 |\n",
       "| Years | Years     |  0.20663898 |\n",
       "| NewLeague | NewLeague |  0.01005474 |\n",
       "| League | League    |  0.00000000 |\n",
       "| Division | Division  |  0.00000000 |\n",
       "\n"
      ],
      "text/plain": [
       "          var       rel.inf    \n",
       "logSalary logSalary 82.88056138\n",
       "CHmRun    CHmRun     4.24863989\n",
       "Walks     Walks      1.51287701\n",
       "PutOuts   PutOuts    1.41407304\n",
       "RBI       RBI        1.23999650\n",
       "CWalks    CWalks     1.14434897\n",
       "Hits      Hits       1.08418210\n",
       "CAtBat    CAtBat     1.05502649\n",
       "Runs      Runs       0.97506291\n",
       "AtBat     AtBat      0.78169466\n",
       "HmRun     HmRun      0.76480168\n",
       "CRBI      CRBI       0.75263035\n",
       "Assists   Assists    0.59011636\n",
       "CRuns     CRuns      0.52885697\n",
       "CHits     CHits      0.41933951\n",
       "Errors    Errors     0.39109846\n",
       "Years     Years      0.20663898\n",
       "NewLeague NewLeague  0.01005474\n",
       "League    League     0.00000000\n",
       "Division  Division   0.00000000"
      ]
     },
     "metadata": {},
     "output_type": "display_data"
    },
    {
     "data": {
      "image/png": "[encoded data removed]",
      "text/plain": [
       "plot without title"
      ]
     },
     "metadata": {
      "image/png": {
       "height": 420,
       "width": 420
      }
     },
     "output_type": "display_data"
    }
   ],
   "source": [
    "#Exercise 10F: Which variables appear to be the most important predictors in the boosted model ?\n",
    "library(glmnet)\n",
    "\n",
    "boosthit <- gbm(Salary ~ ., data = traindata, distribution = \"gaussian\", n.trees = 1000, shrinkage = lambda_seq[which.min(testMSE)])\n",
    "summary(boosthit)"
   ]
  },
  {
   "cell_type": "code",
   "execution_count": 133,
   "id": "f581e276",
   "metadata": {},
   "outputs": [
    {
     "data": {
      "text/html": [
       "320.572790125225"
      ],
      "text/latex": [
       "320.572790125225"
      ],
      "text/markdown": [
       "320.572790125225"
      ],
      "text/plain": [
       "[1] 320.5728"
      ]
     },
     "metadata": {},
     "output_type": "display_data"
    }
   ],
   "source": [
    "#Exercise 10G:Now apply bagging to the training set. What is the test set MSE for this approach ?\n",
    "set.seed(1)\n",
    "baghit <- randomForest(Salary ~ ., data = traindata, mtry = 19, ntree = 500)\n",
    "yhatbag <- predict(baghit, newdata = testdata)\n",
    "mean((yhatbag - testdata$Salary)^2)\n",
    "\n"
   ]
  }
 ],
 "metadata": {
  "kernelspec": {
   "display_name": "R",
   "language": "R",
   "name": "ir"
  },
  "language_info": {
   "codemirror_mode": "r",
   "file_extension": ".r",
   "mimetype": "text/x-r-source",
   "name": "R",
   "pygments_lexer": "r",
   "version": "4.0.5"
  }
 },
 "nbformat": 4,
 "nbformat_minor": 5
}
